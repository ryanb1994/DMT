{
 "cells": [
  {
   "cell_type": "code",
   "execution_count": 1,
   "metadata": {},
   "outputs": [],
   "source": [
    "import pandas as pd\n",
    "import numpy as np\n",
    "\n",
    "df = pd.read_csv('testset.csv')"
   ]
  },
  {
   "cell_type": "code",
   "execution_count": 3,
   "metadata": {},
   "outputs": [
    {
     "data": {
      "text/plain": [
       "Index([u'srch_id', u'date_time', u'site_id', u'visitor_location_country_id',\n",
       "       u'visitor_hist_starrating', u'visitor_hist_adr_usd', u'prop_country_id',\n",
       "       u'prop_id', u'prop_starrating', u'prop_review_score',\n",
       "       u'prop_brand_bool', u'prop_location_score1', u'prop_location_score2',\n",
       "       u'prop_log_historical_price', u'price_usd', u'promotion_flag',\n",
       "       u'srch_destination_id', u'srch_length_of_stay', u'srch_booking_window',\n",
       "       u'srch_adults_count', u'srch_children_count', u'srch_room_count',\n",
       "       u'srch_saturday_night_bool', u'srch_query_affinity_score',\n",
       "       u'orig_destination_distance', u'random_bool', u'comp1_rate',\n",
       "       u'comp1_inv', u'comp1_rate_percent_diff', u'comp2_rate', u'comp2_inv',\n",
       "       u'comp2_rate_percent_diff', u'comp3_rate', u'comp3_inv',\n",
       "       u'comp3_rate_percent_diff', u'comp4_rate', u'comp4_inv',\n",
       "       u'comp4_rate_percent_diff', u'comp5_rate', u'comp5_inv',\n",
       "       u'comp5_rate_percent_diff', u'comp6_rate', u'comp6_inv',\n",
       "       u'comp6_rate_percent_diff', u'comp7_rate', u'comp7_inv',\n",
       "       u'comp7_rate_percent_diff', u'comp8_rate', u'comp8_inv',\n",
       "       u'comp8_rate_percent_diff'],\n",
       "      dtype='object')"
      ]
     },
     "execution_count": 3,
     "metadata": {},
     "output_type": "execute_result"
    }
   ],
   "source": [
    "df.columns"
   ]
  },
  {
   "cell_type": "code",
   "execution_count": 5,
   "metadata": {},
   "outputs": [],
   "source": [
    "df2 = pd.read_csv('test2.csv')"
   ]
  },
  {
   "cell_type": "code",
   "execution_count": 6,
   "metadata": {},
   "outputs": [
    {
     "data": {
      "text/plain": [
       "Index([u'Unnamed: 0', u'srch_id', u'prop_country_id', u'year', u'month',\n",
       "       u'prop_score', u'prop_location_score1', u'prop_location_score2',\n",
       "       u'diff_hist_price', u'usd_diff', u'star_diff',\n",
       "       u'srch_query_affinity_score', u'orig_destination_distance',\n",
       "       u'prop_review_score', u'price_rank', u'stars_rank', u'score_rank',\n",
       "       u'price_per_pers', u'random_bool', u'price_usd', u'total_price',\n",
       "       u'nr_pers', u'prop_id_counts', u'comp2_rate', u'comp5_rate',\n",
       "       u'comp8_rate', u'ndcg'],\n",
       "      dtype='object')"
      ]
     },
     "execution_count": 6,
     "metadata": {},
     "output_type": "execute_result"
    }
   ],
   "source": [
    "df2.columns"
   ]
  }
 ],
 "metadata": {
  "kernelspec": {
   "display_name": "Python 2",
   "language": "python",
   "name": "python2"
  },
  "language_info": {
   "codemirror_mode": {
    "name": "ipython",
    "version": 2
   },
   "file_extension": ".py",
   "mimetype": "text/x-python",
   "name": "python",
   "nbconvert_exporter": "python",
   "pygments_lexer": "ipython2",
   "version": "2.7.14"
  }
 },
 "nbformat": 4,
 "nbformat_minor": 2
}
