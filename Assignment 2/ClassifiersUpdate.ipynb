{
 "cells": [
  {
   "cell_type": "code",
   "execution_count": 81,
   "metadata": {
    "collapsed": true
   },
   "outputs": [],
   "source": [
    "import pandas as pd\n",
    "import numpy as np\n",
    "from sklearn.neighbors import KNeighborsClassifier\n",
    "from sklearn.ensemble import RandomForestClassifier\n",
    "from sklearn import tree\n",
    "from collections import Counter\n",
    "from sklearn.ensemble import GradientBoostingClassifier\n",
    "from tabulate import tabulate"
   ]
  },
  {
   "cell_type": "code",
   "execution_count": 82,
   "metadata": {},
   "outputs": [],
   "source": [
    "with open('new_train.csv', 'r') as csvfile:\n",
    "    df = pd.read_csv(csvfile, dtype={'booking_bool':bool,\n",
    "                                     'prop_country_id':np.int32, \n",
    "                                     'prop_starrating':np.int32, 'prop_review_score':np.float,\n",
    "                                     'prop_location_score1':np.float,\n",
    "                                     'prop_location_score2':np.float, 'price_usd':np.float,\n",
    "                                     'price_usd':np.float, 'total_price':np.float, 'price_per_pers':np.float,\n",
    "                                     'srch_query_affinity_score':np.float, 'orig_destination_distance':np.float,\n",
    "                                     'position':np.int32, 'click_bool':bool})\n"
   ]
  },
  {
   "cell_type": "code",
   "execution_count": 83,
   "metadata": {
    "collapsed": true
   },
   "outputs": [],
   "source": [
    "target = ['booking_bool', 'click_bool']"
   ]
  },
  {
   "cell_type": "markdown",
   "metadata": {},
   "source": [
    "### My selection of features after applying the Feature combination with worst case scenario algorithm\n",
    "(Mind that some of these features are not selected in the final step when creating new_train.csv in the notebook that is currently on git)"
   ]
  },
  {
   "cell_type": "code",
   "execution_count": 84,
   "metadata": {
    "collapsed": true
   },
   "outputs": [],
   "source": [
    "data =  ['srch_id','prop_country_id', 'prop_location_score1','prop_location_score2','diff_hist_price',\n",
    "                'usd_diff', 'star_diff', 'srch_query_affinity_score', \n",
    "                'prop_review_score','position','price_rank','stars_rank','score_rank',\n",
    "        'random_bool', 'price_usd', 'total_price','prop_id_counts', 'comp2_rate','comp5_rate','comp8_rate']"
   ]
  },
  {
   "cell_type": "markdown",
   "metadata": {},
   "source": [
    "### Take a sample by using 10% of the srch_id\n"
   ]
  },
  {
   "cell_type": "code",
   "execution_count": 85,
   "metadata": {},
   "outputs": [
    {
     "name": "stdout",
     "output_type": "stream",
     "text": [
      "449457\n",
      "1.0\n",
      "1.0\n"
     ]
    }
   ],
   "source": [
    "sample_srch_id = np.random.choice(df.srch_id.unique(), size= int(0.1 * len(df.srch_id.unique())))\n",
    "df_sample = df[df.srch_id.isin(sample_srch_id)]\n",
    "print len(df_sample)\n",
    "print df_sample['click_bool'].corr(df['click_bool'])\n",
    "print df_sample['booking_bool'].corr(df['booking_bool'])"
   ]
  },
  {
   "cell_type": "code",
   "execution_count": 86,
   "metadata": {
    "collapsed": true
   },
   "outputs": [],
   "source": [
    "df = df.drop(df_sample.index)"
   ]
  },
  {
   "cell_type": "code",
   "execution_count": 87,
   "metadata": {
    "collapsed": true
   },
   "outputs": [],
   "source": [
    "X = df_sample[data]\n",
    "y = df_sample[target]\n",
    "pred = df[data]"
   ]
  },
  {
   "cell_type": "markdown",
   "metadata": {},
   "source": [
    "### Decision Tree \n",
    "(I think the negative data should be downsampled a bit for this too)"
   ]
  },
  {
   "cell_type": "code",
   "execution_count": 88,
   "metadata": {},
   "outputs": [
    {
     "name": "stdout",
     "output_type": "stream",
     "text": [
      "True\n"
     ]
    }
   ],
   "source": [
    "clf = tree.DecisionTreeClassifier()\n",
    "clf = clf.fit(X, y)\n",
    "prediction = clf.predict(pred)\n",
    "search = 1\n",
    "print any(e[0] == search for e in prediction)\n",
    "#print cross_val_score(clf, X, y, cv=10, scoring='accuracy').mean()"
   ]
  },
  {
   "cell_type": "code",
   "execution_count": 89,
   "metadata": {},
   "outputs": [
    {
     "name": "stdout",
     "output_type": "stream",
     "text": [
      "Total number of clicked predictions:  237326\n",
      "Number of correct clicked/non-clicked predictions:  3875346\n",
      "Number of false positives clicked 212447\n",
      "Number of false negatives clicked 167544\n",
      "Total number of booked predictions:  148000\n",
      "Number of correct booked/non-booked predictions:  4016298\n",
      "Number of false positives booked 133046\n",
      "Number of false negatives booked 105993\n"
     ]
    }
   ],
   "source": [
    "from collections import Counter\n",
    "Counter(x for xs in prediction for x in set(xs))\n",
    "head = ['booking_bool','click_bool']\n",
    "prediction_df = pd.DataFrame(prediction, columns=head)\n",
    "\n",
    "diff =  np.subtract(prediction_df.click_bool, np.int32(df.click_bool))\n",
    "print \"Total number of clicked predictions: \", len(prediction_df[prediction_df.click_bool == 1])\n",
    "print \"Number of correct clicked/non-clicked predictions: \", np.count_nonzero(diff == 0)\n",
    "print \"Number of false positives clicked\", np.count_nonzero(diff == 1)\n",
    "print \"Number of false negatives clicked\", np.count_nonzero(diff == -1)\n",
    "\n",
    "diff2 =  np.subtract(prediction_df.booking_bool, np.int32(df.booking_bool))\n",
    "print \"Total number of booked predictions: \", len(prediction_df[prediction_df.booking_bool == 1])\n",
    "print \"Number of correct booked/non-booked predictions: \", np.count_nonzero(diff2 == 0)\n",
    "print \"Number of false positives booked\", np.count_nonzero(diff2 == 1)\n",
    "print \"Number of false negatives booked\", np.count_nonzero(diff2 == -1)\n"
   ]
  },
  {
   "cell_type": "code",
   "execution_count": 90,
   "metadata": {},
   "outputs": [
    {
     "name": "stdout",
     "output_type": "stream",
     "text": [
      "-------------------------  ----------\n",
      "srch_id                    0.10505\n",
      "prop_country_id            0.0318835\n",
      "prop_location_score1       0.070066\n",
      "prop_location_score2       0.0934204\n",
      "diff_hist_price            0.107625\n",
      "usd_diff                   0.0562137\n",
      "star_diff                  0.0192667\n",
      "srch_query_affinity_score  0.0166066\n",
      "prop_review_score          0.0271887\n",
      "position                   0.0652986\n",
      "price_rank                 0.0508573\n",
      "stars_rank                 0.0498093\n",
      "score_rank                 0.0585629\n",
      "random_bool                0.00824915\n",
      "price_usd                  0.0514025\n",
      "total_price                0.0682337\n",
      "prop_id_counts             0.0891759\n",
      "comp2_rate                 0.00903522\n",
      "comp5_rate                 0.0123404\n",
      "comp8_rate                 0.0097146\n",
      "-------------------------  ----------\n"
     ]
    }
   ],
   "source": [
    "dictImp  = zip(X.head(0), clf.feature_importances_)\n",
    "print tabulate(dictImp)"
   ]
  },
  {
   "cell_type": "markdown",
   "metadata": {},
   "source": [
    "### Downsample negative data for the following classifiers\n",
    "(They give very bad results if the data is extremely unbalanced)"
   ]
  },
  {
   "cell_type": "code",
   "execution_count": 91,
   "metadata": {
    "collapsed": true
   },
   "outputs": [],
   "source": [
    "grouped  = df_sample[df_sample.click_bool == False].groupby('srch_id')\n",
    "grouped = grouped.apply(lambda x: x.sample(frac = 0.2))\n",
    "grouped = grouped.apply(lambda x: x) \n",
    "df_sample = df_sample.drop(df_sample[df_sample.click_bool == False].index).append(grouped)"
   ]
  },
  {
   "cell_type": "code",
   "execution_count": 92,
   "metadata": {
    "collapsed": true
   },
   "outputs": [],
   "source": [
    "X = df_sample[data]\n",
    "y = df_sample[target]\n",
    "pred = df[data]"
   ]
  },
  {
   "cell_type": "markdown",
   "metadata": {},
   "source": [
    "### KNeighbors - bad"
   ]
  },
  {
   "cell_type": "code",
   "execution_count": 93,
   "metadata": {
    "collapsed": true
   },
   "outputs": [],
   "source": [
    "knn  = KNeighborsClassifier(n_neighbors  = 5)\n",
    "knn.fit(X,y)\n",
    "prediction = knn.predict(pred)\n",
    "#print cross_val_score(knn, X, y, cv = 10, scoring = 'accuracy').mean()"
   ]
  },
  {
   "cell_type": "code",
   "execution_count": 94,
   "metadata": {},
   "outputs": [
    {
     "name": "stdout",
     "output_type": "stream",
     "text": [
      "Total number of clicked predictions:  146825\n",
      "Number of correct clicked/non-clicked predictions:  3930843\n",
      "Number of false positives clicked 139448\n",
      "Number of false negatives clicked 185046\n",
      "Total number of booked predictions:  24902\n",
      "Number of correct booked/non-booked predictions:  4111130\n",
      "Number of false positives booked 24081\n",
      "Number of false negatives booked 120126\n"
     ]
    }
   ],
   "source": [
    "Counter(x for xs in prediction for x in set(xs))\n",
    "head = ['booking_bool','click_bool']\n",
    "prediction_df = pd.DataFrame(prediction, columns=head)\n",
    "\n",
    "diff =  np.subtract(prediction_df.click_bool, np.int32(df.click_bool))\n",
    "print \"Total number of clicked predictions: \", len(prediction_df[prediction_df.click_bool == 1])\n",
    "print \"Number of correct clicked/non-clicked predictions: \", np.count_nonzero(diff == 0)\n",
    "print \"Number of false positives clicked\", np.count_nonzero(diff == 1)\n",
    "print \"Number of false negatives clicked\", np.count_nonzero(diff == -1)\n",
    "\n",
    "diff2 =  np.subtract(prediction_df.booking_bool, np.int32(df.booking_bool))\n",
    "print \"Total number of booked predictions: \", len(prediction_df[prediction_df.booking_bool == 1])\n",
    "print \"Number of correct booked/non-booked predictions: \", np.count_nonzero(diff2 == 0)\n",
    "print \"Number of false positives booked\", np.count_nonzero(diff2 == 1)\n",
    "print \"Number of false negatives booked\", np.count_nonzero(diff2 == -1)"
   ]
  },
  {
   "cell_type": "markdown",
   "metadata": {},
   "source": [
    "### Gradient Boosting - best performance"
   ]
  },
  {
   "cell_type": "code",
   "execution_count": 95,
   "metadata": {
    "collapsed": true
   },
   "outputs": [],
   "source": [
    "y_GBC = y.click_bool\n",
    "clf = GradientBoostingClassifier(max_depth = 2)\n",
    "clf.fit(X, y_GBC)\n",
    "prediction = clf.predict(pred)\n",
    "#print cross_val_score(clf, X,y_GBC, cv=10, scoring='accuracy').mean()"
   ]
  },
  {
   "cell_type": "code",
   "execution_count": 96,
   "metadata": {},
   "outputs": [
    {
     "name": "stdout",
     "output_type": "stream",
     "text": [
      "Total number of clicked predictions: 166855\n",
      "Total number of correct predictions: 3974703\n",
      "Number of false positives: 127533\n",
      "Number of false negatives: 153101\n"
     ]
    }
   ],
   "source": [
    "print \"Total number of clicked predictions:\", np.count_nonzero(prediction == 1)\n",
    "diff =  np.subtract(prediction, np.int32(df.click_bool))\n",
    "print \"Total number of correct predictions:\", np.count_nonzero(diff == 0)\n",
    "print \"Number of false positives:\", np.count_nonzero(diff == 1)\n",
    "print \"Number of false negatives:\", np.count_nonzero(diff == -1)\n"
   ]
  },
  {
   "cell_type": "code",
   "execution_count": 97,
   "metadata": {
    "collapsed": true
   },
   "outputs": [],
   "source": [
    "clf = GradientBoostingClassifier(max_depth = 2)\n",
    "clf.fit(X, y.booking_bool)\n",
    "prediction = clf.predict(pred)\n",
    "#print cross_val_score(clf, X, y.booking_bool, cv=10, scoring='accuracy').mean()"
   ]
  },
  {
   "cell_type": "code",
   "execution_count": 98,
   "metadata": {},
   "outputs": [
    {
     "name": "stdout",
     "output_type": "stream",
     "text": [
      "Total number of booked predictions: 89811\n",
      "Total number of correct predictions: 4089081\n",
      "Number of false positives: 67560\n",
      "Number of false negatives: 98696\n"
     ]
    }
   ],
   "source": [
    "print \"Total number of booked predictions:\", np.count_nonzero(prediction == 1)\n",
    "diff =  np.subtract(prediction, np.int32(df.booking_bool))\n",
    "print \"Total number of correct predictions:\", np.count_nonzero(diff == 0)\n",
    "print \"Number of false positives:\", np.count_nonzero(diff == 1)\n",
    "print \"Number of false negatives:\", np.count_nonzero(diff == -1)\n"
   ]
  },
  {
   "cell_type": "code",
   "execution_count": 99,
   "metadata": {
    "scrolled": true
   },
   "outputs": [
    {
     "name": "stdout",
     "output_type": "stream",
     "text": [
      "-------------------------  ----------\n",
      "srch_id                    0\n",
      "prop_country_id            0\n",
      "prop_location_score1       0.0794228\n",
      "prop_location_score2       0.0935354\n",
      "diff_hist_price            0.0137857\n",
      "usd_diff                   0.0806949\n",
      "star_diff                  0.025223\n",
      "srch_query_affinity_score  0.0038279\n",
      "prop_review_score          0.0463426\n",
      "position                   0.189496\n",
      "price_rank                 0.195092\n",
      "stars_rank                 0.0735313\n",
      "score_rank                 0.0312322\n",
      "random_bool                0.136868\n",
      "price_usd                  0.0192973\n",
      "total_price                0.0101212\n",
      "prop_id_counts             0.00152932\n",
      "comp2_rate                 0\n",
      "comp5_rate                 0\n",
      "comp8_rate                 0\n",
      "-------------------------  ----------\n"
     ]
    }
   ],
   "source": [
    "dictImp  = zip(X.head(0), clf.feature_importances_)\n",
    "print tabulate(dictImp)\n"
   ]
  },
  {
   "cell_type": "markdown",
   "metadata": {},
   "source": [
    "### Downsample negative data even more for random forest"
   ]
  },
  {
   "cell_type": "code",
   "execution_count": 100,
   "metadata": {
    "collapsed": true
   },
   "outputs": [],
   "source": [
    "grouped  = df_sample[df_sample.click_bool == False].groupby('srch_id')\n",
    "grouped = grouped.apply(lambda x: x.sample(frac = 0.7))\n",
    "grouped = grouped.apply(lambda x: x) \n",
    "df_sample = df_sample.drop(df_sample[df_sample.click_bool == False].index).append(grouped)"
   ]
  },
  {
   "cell_type": "code",
   "execution_count": 101,
   "metadata": {
    "collapsed": true
   },
   "outputs": [],
   "source": [
    "X = df_sample[data]\n",
    "y = df_sample[target]\n",
    "pred = df[data]"
   ]
  },
  {
   "cell_type": "markdown",
   "metadata": {},
   "source": [
    "### Random Forest \n",
    "(takes a LOOOOT to compute and I've tested a few parameters for the sample fraction above, but clearly haven't found the right one yet - I've also tried 0.1, 0.5 which led to too many clicks and bookings predicted. If the negative data is not downsampled, it predicts 0 bookings and very few clicks)"
   ]
  },
  {
   "cell_type": "code",
   "execution_count": 102,
   "metadata": {
    "collapsed": true
   },
   "outputs": [],
   "source": [
    "clf = RandomForestClassifier(random_state = 0, n_estimators = 1000)\n",
    "clf.fit(X, y)\n",
    "prediction = clf.predict(pred)\n",
    "#print cross_val_score(clf, X, y, cv=10, scoring='accuracy').mean()\n"
   ]
  },
  {
   "cell_type": "code",
   "execution_count": 103,
   "metadata": {},
   "outputs": [
    {
     "name": "stdout",
     "output_type": "stream",
     "text": [
      "Total number of clicked predictions:  333702\n",
      "Number of correct clicked/non-clicked predictions:  3853946\n",
      "Number of false positives clicked 271335\n",
      "Number of false negatives clicked 130056\n",
      "Total number of booked predictions:  150907\n",
      "Number of correct booked/non-booked predictions:  4046093\n",
      "Number of false positives booked 119602\n",
      "Number of false negatives booked 89642\n"
     ]
    }
   ],
   "source": [
    "Counter(x for xs in prediction for x in set(xs))\n",
    "head = ['booking_bool','click_bool']\n",
    "prediction_df = pd.DataFrame(prediction, columns=head)\n",
    "\n",
    "diff =  np.subtract(prediction_df.click_bool, np.int32(df.click_bool))\n",
    "print \"Total number of clicked predictions: \", len(prediction_df[prediction_df.click_bool == 1])\n",
    "print \"Number of correct clicked/non-clicked predictions: \", np.count_nonzero(diff == 0)\n",
    "print \"Number of false positives clicked\", np.count_nonzero(diff == 1)\n",
    "print \"Number of false negatives clicked\", np.count_nonzero(diff == -1)\n",
    "\n",
    "diff2 =  np.subtract(prediction_df.booking_bool, np.int32(df.booking_bool))\n",
    "print \"Total number of booked predictions: \", len(prediction_df[prediction_df.booking_bool == 1])\n",
    "print \"Number of correct booked/non-booked predictions: \", np.count_nonzero(diff2 == 0)\n",
    "print \"Number of false positives booked\", np.count_nonzero(diff2 == 1)\n",
    "print \"Number of false negatives booked\", np.count_nonzero(diff2 == -1)\n"
   ]
  },
  {
   "cell_type": "code",
   "execution_count": 104,
   "metadata": {},
   "outputs": [
    {
     "name": "stdout",
     "output_type": "stream",
     "text": [
      "-------------------------  ----------\n",
      "srch_id                    0.0721547\n",
      "prop_country_id            0.0284137\n",
      "prop_location_score1       0.0635024\n",
      "prop_location_score2       0.0817507\n",
      "diff_hist_price            0.0748979\n",
      "usd_diff                   0.0614441\n",
      "star_diff                  0.0217553\n",
      "srch_query_affinity_score  0.0102795\n",
      "prop_review_score          0.0267466\n",
      "position                   0.147498\n",
      "price_rank                 0.0632593\n",
      "stars_rank                 0.0484986\n",
      "score_rank                 0.05485\n",
      "random_bool                0.0292861\n",
      "price_usd                  0.0599001\n",
      "total_price                0.0614174\n",
      "prop_id_counts             0.0692293\n",
      "comp2_rate                 0.0079565\n",
      "comp5_rate                 0.00961665\n",
      "comp8_rate                 0.00754364\n",
      "-------------------------  ----------\n"
     ]
    }
   ],
   "source": [
    "dictImp  = zip(X.head(0), clf.feature_importances_)\n",
    "print tabulate(dictImp)"
   ]
  },
  {
   "cell_type": "code",
   "execution_count": 105,
   "metadata": {},
   "outputs": [
    {
     "data": {
      "text/plain": [
       "20259"
      ]
     },
     "execution_count": 105,
     "metadata": {},
     "output_type": "execute_result"
    }
   ],
   "source": [
    "len(df_sample[df_sample.click_bool == True])"
   ]
  },
  {
   "cell_type": "code",
   "execution_count": null,
   "metadata": {
    "collapsed": true
   },
   "outputs": [],
   "source": []
  }
 ],
 "metadata": {
  "kernelspec": {
   "display_name": "Python 2",
   "language": "python",
   "name": "python2"
  },
  "language_info": {
   "codemirror_mode": {
    "name": "ipython",
    "version": 2
   },
   "file_extension": ".py",
   "mimetype": "text/x-python",
   "name": "python",
   "nbconvert_exporter": "python",
   "pygments_lexer": "ipython2",
   "version": "2.7.14"
  }
 },
 "nbformat": 4,
 "nbformat_minor": 2
}
