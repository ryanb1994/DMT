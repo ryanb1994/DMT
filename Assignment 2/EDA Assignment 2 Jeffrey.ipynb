{
 "cells": [
  {
   "cell_type": "markdown",
   "metadata": {},
   "source": [
    "Import stuff"
   ]
  },
  {
   "cell_type": "code",
   "execution_count": 21,
   "metadata": {},
   "outputs": [],
   "source": [
    "import dask.dataframe as dd\n",
    "import pandas as pd\n",
    "import matplotlib.pyplot as plt\n",
    "import numpy as np"
   ]
  },
  {
   "cell_type": "markdown",
   "metadata": {},
   "source": [
    "Import the file once"
   ]
  },
  {
   "cell_type": "code",
   "execution_count": 40,
   "metadata": {},
   "outputs": [],
   "source": [
    "df = pd.read_csv('training_set_VU_DM_2014.csv')"
   ]
  },
  {
   "cell_type": "markdown",
   "metadata": {},
   "source": [
    "Compute unique search_id"
   ]
  },
  {
   "cell_type": "code",
   "execution_count": 41,
   "metadata": {
    "scrolled": true
   },
   "outputs": [
    {
     "name": "stdout",
     "output_type": "stream",
     "text": [
      "244169    38\n",
      "149527    38\n",
      "223395    38\n",
      "250956    38\n",
      "205230    37\n",
      "77827     37\n",
      "289360    37\n",
      "313784    37\n",
      "18010     37\n",
      "216579    37\n",
      "329684    37\n",
      "158400    37\n",
      "240149    37\n",
      "87970     37\n",
      "103906    37\n",
      "140485    37\n",
      "55214     37\n",
      "199641    37\n",
      "312060    37\n",
      "211227    37\n",
      "20060     37\n",
      "60367     37\n",
      "69052     37\n",
      "6611      37\n",
      "42558     37\n",
      "101748    36\n",
      "249242    36\n",
      "224719    36\n",
      "190202    36\n",
      "202437    36\n",
      "          ..\n",
      "115328     5\n",
      "283433     5\n",
      "189439     5\n",
      "290773     5\n",
      "282577     5\n",
      "78725      5\n",
      "96978      5\n",
      "264831     5\n",
      "201665     5\n",
      "191952     5\n",
      "309216     5\n",
      "57155      5\n",
      "242382     5\n",
      "233257     5\n",
      "86237      5\n",
      "19191      5\n",
      "151326     5\n",
      "324410     5\n",
      "38759      5\n",
      "280572     5\n",
      "86926      5\n",
      "310554     5\n",
      "149308     5\n",
      "118638     5\n",
      "314644     5\n",
      "194346     5\n",
      "204271     5\n",
      "228835     5\n",
      "149306     5\n",
      "324148     5\n",
      "Name: srch_id, Length: 199795, dtype: int64\n"
     ]
    }
   ],
   "source": [
    "print (df['srch_id'].value_counts())"
   ]
  },
  {
   "cell_type": "markdown",
   "metadata": {},
   "source": [
    "Compute unique date_time"
   ]
  },
  {
   "cell_type": "code",
   "execution_count": 42,
   "metadata": {
    "scrolled": true
   },
   "outputs": [
    {
     "name": "stdout",
     "output_type": "stream",
     "text": [
      "2012-11-02 14:04:51    95\n",
      "2012-12-26 10:59:30    87\n",
      "2013-05-15 18:39:51    70\n",
      "2012-11-23 07:28:55    69\n",
      "2013-01-13 18:45:07    68\n",
      "2012-12-26 14:26:28    68\n",
      "2012-12-03 10:33:44    68\n",
      "2013-04-01 11:14:25    68\n",
      "2013-06-16 10:43:33    68\n",
      "2013-02-10 21:36:16    67\n",
      "2013-06-12 07:35:06    67\n",
      "2012-12-02 08:57:42    67\n",
      "2012-12-03 11:45:52    67\n",
      "2013-04-21 21:42:27    67\n",
      "2013-03-13 10:38:00    67\n",
      "2012-11-01 07:48:32    67\n",
      "2013-06-18 17:54:30    67\n",
      "2013-03-26 10:23:44    67\n",
      "2013-06-29 22:04:06    67\n",
      "2013-02-08 18:40:12    67\n",
      "2013-02-15 09:19:23    67\n",
      "2013-06-20 10:13:56    66\n",
      "2013-06-16 07:52:09    66\n",
      "2013-04-22 17:53:38    66\n",
      "2013-03-27 06:30:24    66\n",
      "2013-04-10 18:47:23    66\n",
      "2013-06-26 08:07:07    66\n",
      "2012-11-04 19:53:45    66\n",
      "2013-02-27 19:14:13    66\n",
      "2013-06-18 10:31:31    66\n",
      "                       ..\n",
      "2013-06-17 10:30:50     5\n",
      "2013-01-27 18:38:30     5\n",
      "2013-04-25 20:10:11     5\n",
      "2013-04-14 09:25:46     5\n",
      "2013-06-06 18:37:10     5\n",
      "2013-04-23 21:56:00     5\n",
      "2013-06-03 12:34:56     5\n",
      "2013-03-27 19:35:08     5\n",
      "2012-12-02 14:04:43     5\n",
      "2013-05-06 05:22:12     5\n",
      "2013-06-11 16:18:00     5\n",
      "2012-12-05 09:55:49     5\n",
      "2013-01-17 15:25:30     5\n",
      "2012-12-11 21:38:12     5\n",
      "2013-05-23 23:20:53     5\n",
      "2013-06-30 12:00:58     5\n",
      "2013-05-28 20:46:41     5\n",
      "2013-02-26 14:18:12     5\n",
      "2012-11-03 17:30:03     5\n",
      "2013-05-17 14:10:48     5\n",
      "2013-03-11 10:53:48     5\n",
      "2013-05-10 13:17:05     5\n",
      "2013-03-26 17:25:05     5\n",
      "2013-05-19 11:35:33     5\n",
      "2013-01-09 16:32:46     5\n",
      "2013-01-25 00:21:11     5\n",
      "2013-03-14 16:41:47     5\n",
      "2013-06-10 05:50:44     5\n",
      "2013-04-21 09:01:12     5\n",
      "2012-12-15 22:57:42     5\n",
      "Name: date_time, Length: 198615, dtype: int64\n"
     ]
    }
   ],
   "source": [
    "print (df['date_time'].value_counts())"
   ]
  },
  {
   "cell_type": "markdown",
   "metadata": {},
   "source": [
    "As we see, there is some difference between the total amount of search id and date_time, so they cant be fully connected. If we want to work with it we probably have to filter these differences"
   ]
  },
  {
   "cell_type": "markdown",
   "metadata": {},
   "source": [
    "Unique site_id"
   ]
  },
  {
   "cell_type": "code",
   "execution_count": 43,
   "metadata": {
    "scrolled": true
   },
   "outputs": [
    {
     "name": "stdout",
     "output_type": "stream",
     "text": [
      "5     3086006\n",
      "14     481664\n",
      "15     310788\n",
      "24     237838\n",
      "32     177330\n",
      "18     127397\n",
      "16      90032\n",
      "12      73891\n",
      "19      42758\n",
      "9       42171\n",
      "22      40262\n",
      "11      34656\n",
      "7       32067\n",
      "29      29475\n",
      "31      24420\n",
      "26      16182\n",
      "4       13499\n",
      "25      12304\n",
      "23      11620\n",
      "1       10943\n",
      "34       9944\n",
      "10       9360\n",
      "13       8205\n",
      "17       6182\n",
      "2        5540\n",
      "27       5086\n",
      "28       4318\n",
      "30       3895\n",
      "21       3654\n",
      "3        3487\n",
      "6        2522\n",
      "33        663\n",
      "20        157\n",
      "8          31\n",
      "Name: site_id, dtype: int64\n"
     ]
    }
   ],
   "source": [
    "print (df['site_id'].value_counts())"
   ]
  },
  {
   "cell_type": "markdown",
   "metadata": {},
   "source": [
    "Most searched from just a couple of sites. Maybe to strengthen the analysis we can leave out the least used sites."
   ]
  },
  {
   "cell_type": "markdown",
   "metadata": {},
   "source": [
    "Now we look at the unique countries of visitors"
   ]
  },
  {
   "cell_type": "code",
   "execution_count": 44,
   "metadata": {
    "scrolled": true
   },
   "outputs": [
    {
     "name": "stdout",
     "output_type": "stream",
     "text": [
      "219    2892489\n",
      "100     495476\n",
      "55      290461\n",
      "216     217385\n",
      "220     174296\n",
      "129     123681\n",
      "31       92636\n",
      "99       67762\n",
      "59       62066\n",
      "92       45213\n",
      "158      44505\n",
      "103      35286\n",
      "132      32740\n",
      "117      25973\n",
      "50       19623\n",
      "39       18430\n",
      "215      16361\n",
      "181      12549\n",
      "98       12024\n",
      "13       11935\n",
      "32       11836\n",
      "15       11501\n",
      "205      10736\n",
      "81        9934\n",
      "4         9428\n",
      "33        9109\n",
      "56        9070\n",
      "23        8632\n",
      "14        8239\n",
      "73        8031\n",
      "        ...   \n",
      "122         56\n",
      "27          56\n",
      "168         55\n",
      "116         55\n",
      "46          55\n",
      "188         55\n",
      "87          52\n",
      "139         48\n",
      "193         47\n",
      "121         46\n",
      "183         39\n",
      "174         33\n",
      "210         33\n",
      "166         33\n",
      "228         33\n",
      "67          32\n",
      "94          32\n",
      "217         31\n",
      "64          31\n",
      "3           31\n",
      "54          31\n",
      "58          30\n",
      "198         30\n",
      "101         28\n",
      "66          27\n",
      "226         25\n",
      "190         24\n",
      "146         15\n",
      "83          13\n",
      "150          8\n",
      "Name: visitor_location_country_id, Length: 210, dtype: int64\n"
     ]
    }
   ],
   "source": [
    "print (df['visitor_location_country_id'].value_counts())"
   ]
  },
  {
   "cell_type": "markdown",
   "metadata": {},
   "source": [
    "No conclusions yet"
   ]
  },
  {
   "cell_type": "markdown",
   "metadata": {},
   "source": [
    "Now at the unique countries of properties"
   ]
  },
  {
   "cell_type": "code",
   "execution_count": 45,
   "metadata": {
    "scrolled": true
   },
   "outputs": [
    {
     "name": "stdout",
     "output_type": "stream",
     "text": [
      "219    3030125\n",
      "100     311283\n",
      "55      186465\n",
      "31      154287\n",
      "99      135388\n",
      "129      91858\n",
      "215      79981\n",
      "220      71115\n",
      "59       69453\n",
      "216      61096\n",
      "98       55075\n",
      "158      42271\n",
      "117      30682\n",
      "205      29473\n",
      "132      28694\n",
      "39       28054\n",
      "92       26709\n",
      "103      24348\n",
      "15       23548\n",
      "32       19667\n",
      "81       19381\n",
      "4        19142\n",
      "202      18850\n",
      "14       18827\n",
      "109      17868\n",
      "73       17169\n",
      "41       16525\n",
      "56       15677\n",
      "80       14454\n",
      "225      14351\n",
      "        ...   \n",
      "192         57\n",
      "172         57\n",
      "136         55\n",
      "197         38\n",
      "25          35\n",
      "51          33\n",
      "141         32\n",
      "108         29\n",
      "82          29\n",
      "167         25\n",
      "19          24\n",
      "89          23\n",
      "190         23\n",
      "135         22\n",
      "217         21\n",
      "185         21\n",
      "226         21\n",
      "111         20\n",
      "46          19\n",
      "62          18\n",
      "79          16\n",
      "128         15\n",
      "140         15\n",
      "87          13\n",
      "208         13\n",
      "180         12\n",
      "7           10\n",
      "126          7\n",
      "204          5\n",
      "165          2\n",
      "Name: prop_country_id, Length: 172, dtype: int64\n"
     ]
    }
   ],
   "source": [
    "print (df['prop_country_id'].value_counts())"
   ]
  },
  {
   "cell_type": "markdown",
   "metadata": {},
   "source": [
    "If we look at the first three countries of properties and the first three countries of properties it seems that a lot of people will go on vacation in their own country."
   ]
  },
  {
   "cell_type": "markdown",
   "metadata": {},
   "source": [
    "Let's look how many people want to go to the same destination as their origin (or where the search_id comes from)"
   ]
  },
  {
   "cell_type": "code",
   "execution_count": 46,
   "metadata": {},
   "outputs": [
    {
     "name": "stdout",
     "output_type": "stream",
     "text": [
      "1    3164018\n",
      "0    1794329\n",
      "Name: samecountryasdestination, dtype: int64\n"
     ]
    }
   ],
   "source": [
    "df['samecountryasdestination'] = np.where((df['prop_country_id'] == df['visitor_location_country_id']), 1, 0)\n",
    "print (df['samecountryasdestination'].value_counts())"
   ]
  },
  {
   "cell_type": "markdown",
   "metadata": {},
   "source": [
    "More people want to look for property in the same country as they are in people from other countries."
   ]
  },
  {
   "cell_type": "markdown",
   "metadata": {},
   "source": [
    "Some other things to create an overview for now"
   ]
  },
  {
   "cell_type": "code",
   "execution_count": 47,
   "metadata": {
    "scrolled": true
   },
   "outputs": [
    {
     "name": "stdout",
     "output_type": "stream",
     "text": [
      "104517    2357\n",
      "124342    2355\n",
      "68420     2285\n",
      "40279     2275\n",
      "134154    2257\n",
      "137997    2247\n",
      "59781     2245\n",
      "60846     2237\n",
      "77089     2230\n",
      "49656     2230\n",
      "59657     2190\n",
      "116942    2189\n",
      "35223     2189\n",
      "38419     2177\n",
      "60468     2175\n",
      "21018     2170\n",
      "24545     2169\n",
      "14082     2152\n",
      "77795     2150\n",
      "37818     2139\n",
      "70177     2128\n",
      "46274     2111\n",
      "122112    2107\n",
      "94455     2105\n",
      "78500     2077\n",
      "90845     2058\n",
      "117294    1994\n",
      "114932    1986\n",
      "131892    1986\n",
      "125083    1949\n",
      "          ... \n",
      "28432        1\n",
      "27677        1\n",
      "25487        1\n",
      "97632        1\n",
      "111542       1\n",
      "30295        1\n",
      "10108        1\n",
      "84720        1\n",
      "135004       1\n",
      "54171        1\n",
      "137019       1\n",
      "48472        1\n",
      "70563        1\n",
      "78759        1\n",
      "78203        1\n",
      "95151        1\n",
      "65142        1\n",
      "132033       1\n",
      "98669        1\n",
      "48135        1\n",
      "18578        1\n",
      "41878        1\n",
      "15070        1\n",
      "30294        1\n",
      "99250        1\n",
      "23823        1\n",
      "7966         1\n",
      "3868         1\n",
      "38474        1\n",
      "34363        1\n",
      "Name: prop_id, Length: 129113, dtype: int64\n"
     ]
    }
   ],
   "source": [
    "print (df['prop_id'].value_counts())"
   ]
  },
  {
   "cell_type": "markdown",
   "metadata": {},
   "source": [
    "We are talking about 129113 properties. We see a lot of those only got one visit. Possibly they are not really attractive in the search results. For the rest in the top 25 or so the differences between views are not really big."
   ]
  },
  {
   "cell_type": "markdown",
   "metadata": {},
   "source": [
    "A Closer look to how long people want to stay"
   ]
  },
  {
   "cell_type": "code",
   "execution_count": 48,
   "metadata": {
    "scrolled": true
   },
   "outputs": [
    {
     "name": "stdout",
     "output_type": "stream",
     "text": [
      "1     2143980\n",
      "2     1203153\n",
      "3      717298\n",
      "4      373594\n",
      "5      185744\n",
      "7      117171\n",
      "6      102671\n",
      "8       33584\n",
      "9       19224\n",
      "10      16769\n",
      "14      13282\n",
      "11       8593\n",
      "12       5992\n",
      "13       4797\n",
      "15       2961\n",
      "16       1540\n",
      "21       1513\n",
      "17       1165\n",
      "18        863\n",
      "19        784\n",
      "28        778\n",
      "20        754\n",
      "25        401\n",
      "24        363\n",
      "22        362\n",
      "27        309\n",
      "26        289\n",
      "23        239\n",
      "34         65\n",
      "33         32\n",
      "30         27\n",
      "44         22\n",
      "41         10\n",
      "57          7\n",
      "29          6\n",
      "31          5\n",
      "Name: srch_length_of_stay, dtype: int64\n"
     ]
    }
   ],
   "source": [
    "print (df['srch_length_of_stay'].value_counts())"
   ]
  },
  {
   "cell_type": "markdown",
   "metadata": {},
   "source": [
    "Most people want just a single night. And how longer, the less people are searching for it."
   ]
  },
  {
   "cell_type": "markdown",
   "metadata": {},
   "source": [
    "Are people going for brand hotels or for no-brand?"
   ]
  },
  {
   "cell_type": "code",
   "execution_count": 49,
   "metadata": {},
   "outputs": [
    {
     "name": "stdout",
     "output_type": "stream",
     "text": [
      "1    3147060\n",
      "0    1811287\n",
      "Name: prop_brand_bool, dtype: int64\n"
     ]
    }
   ],
   "source": [
    "print (df['prop_brand_bool'].value_counts())"
   ]
  },
  {
   "cell_type": "markdown",
   "metadata": {},
   "source": [
    "Branded hotels have a preference. Good variable to account for."
   ]
  },
  {
   "cell_type": "code",
   "execution_count": 51,
   "metadata": {
    "scrolled": true
   },
   "outputs": [
    {
     "name": "stdout",
     "output_type": "stream",
     "text": [
      "Index(['srch_id', 'date_time', 'site_id', 'visitor_location_country_id',\n",
      "       'visitor_hist_starrating', 'visitor_hist_adr_usd', 'prop_country_id',\n",
      "       'prop_id', 'prop_starrating', 'prop_review_score', 'prop_brand_bool',\n",
      "       'prop_location_score1', 'prop_location_score2',\n",
      "       'prop_log_historical_price', 'position', 'price_usd', 'promotion_flag',\n",
      "       'srch_destination_id', 'srch_length_of_stay', 'srch_booking_window',\n",
      "       'srch_adults_count', 'srch_children_count', 'srch_room_count',\n",
      "       'srch_saturday_night_bool', 'srch_query_affinity_score',\n",
      "       'orig_destination_distance', 'random_bool', 'comp1_rate', 'comp1_inv',\n",
      "       'comp1_rate_percent_diff', 'comp2_rate', 'comp2_inv',\n",
      "       'comp2_rate_percent_diff', 'comp3_rate', 'comp3_inv',\n",
      "       'comp3_rate_percent_diff', 'comp4_rate', 'comp4_inv',\n",
      "       'comp4_rate_percent_diff', 'comp5_rate', 'comp5_inv',\n",
      "       'comp5_rate_percent_diff', 'comp6_rate', 'comp6_inv',\n",
      "       'comp6_rate_percent_diff', 'comp7_rate', 'comp7_inv',\n",
      "       'comp7_rate_percent_diff', 'comp8_rate', 'comp8_inv',\n",
      "       'comp8_rate_percent_diff', 'click_bool', 'gross_bookings_usd',\n",
      "       'booking_bool', 'samecountryasdestination'],\n",
      "      dtype='object')\n"
     ]
    }
   ],
   "source": [
    "print (df.columns)"
   ]
  },
  {
   "cell_type": "code",
   "execution_count": null,
   "metadata": {},
   "outputs": [],
   "source": []
  },
  {
   "cell_type": "code",
   "execution_count": null,
   "metadata": {},
   "outputs": [],
   "source": []
  },
  {
   "cell_type": "code",
   "execution_count": null,
   "metadata": {},
   "outputs": [],
   "source": []
  },
  {
   "cell_type": "code",
   "execution_count": null,
   "metadata": {},
   "outputs": [],
   "source": []
  },
  {
   "cell_type": "code",
   "execution_count": null,
   "metadata": {},
   "outputs": [],
   "source": []
  },
  {
   "cell_type": "markdown",
   "metadata": {},
   "source": [
    "Just a heads-up for logistic regression trained on position (of same training set)"
   ]
  },
  {
   "cell_type": "code",
   "execution_count": 53,
   "metadata": {},
   "outputs": [
    {
     "ename": "ValueError",
     "evalue": "labels ['position'] not contained in axis",
     "output_type": "error",
     "traceback": [
      "\u001b[1;31m---------------------------------------------------------------------------\u001b[0m",
      "\u001b[1;31mValueError\u001b[0m                                Traceback (most recent call last)",
      "\u001b[1;32m<ipython-input-53-cd874b3406ef>\u001b[0m in \u001b[0;36m<module>\u001b[1;34m()\u001b[0m\n\u001b[0;32m      1\u001b[0m \u001b[0mdftest\u001b[0m \u001b[1;33m=\u001b[0m \u001b[0mdf\u001b[0m\u001b[1;33m[\u001b[0m\u001b[1;34m'position'\u001b[0m\u001b[1;33m]\u001b[0m\u001b[1;33m\u001b[0m\u001b[0m\n\u001b[1;32m----> 2\u001b[1;33m \u001b[0mdf\u001b[0m\u001b[1;33m.\u001b[0m\u001b[0mdrop\u001b[0m\u001b[1;33m(\u001b[0m\u001b[1;34m'position'\u001b[0m\u001b[1;33m)\u001b[0m\u001b[1;33m\u001b[0m\u001b[0m\n\u001b[0m\u001b[0;32m      3\u001b[0m \u001b[1;33m\u001b[0m\u001b[0m\n\u001b[0;32m      4\u001b[0m \u001b[0mst_time\u001b[0m \u001b[1;33m=\u001b[0m \u001b[0mt\u001b[0m\u001b[1;33m.\u001b[0m\u001b[0mclock\u001b[0m\u001b[1;33m(\u001b[0m\u001b[1;33m)\u001b[0m\u001b[1;33m\u001b[0m\u001b[0m\n\u001b[0;32m      5\u001b[0m \u001b[0mLogreg\u001b[0m \u001b[1;33m=\u001b[0m \u001b[0mLogisticRegression\u001b[0m\u001b[1;33m(\u001b[0m\u001b[1;33m)\u001b[0m\u001b[1;33m\u001b[0m\u001b[0m\n",
      "\u001b[1;32m~\\Miniconda3\\lib\\site-packages\\pandas\\core\\generic.py\u001b[0m in \u001b[0;36mdrop\u001b[1;34m(self, labels, axis, index, columns, level, inplace, errors)\u001b[0m\n\u001b[0;32m   2528\u001b[0m         \u001b[1;32mfor\u001b[0m \u001b[0maxis\u001b[0m\u001b[1;33m,\u001b[0m \u001b[0mlabels\u001b[0m \u001b[1;32min\u001b[0m \u001b[0maxes\u001b[0m\u001b[1;33m.\u001b[0m\u001b[0mitems\u001b[0m\u001b[1;33m(\u001b[0m\u001b[1;33m)\u001b[0m\u001b[1;33m:\u001b[0m\u001b[1;33m\u001b[0m\u001b[0m\n\u001b[0;32m   2529\u001b[0m             \u001b[1;32mif\u001b[0m \u001b[0mlabels\u001b[0m \u001b[1;32mis\u001b[0m \u001b[1;32mnot\u001b[0m \u001b[1;32mNone\u001b[0m\u001b[1;33m:\u001b[0m\u001b[1;33m\u001b[0m\u001b[0m\n\u001b[1;32m-> 2530\u001b[1;33m                 \u001b[0mobj\u001b[0m \u001b[1;33m=\u001b[0m \u001b[0mobj\u001b[0m\u001b[1;33m.\u001b[0m\u001b[0m_drop_axis\u001b[0m\u001b[1;33m(\u001b[0m\u001b[0mlabels\u001b[0m\u001b[1;33m,\u001b[0m \u001b[0maxis\u001b[0m\u001b[1;33m,\u001b[0m \u001b[0mlevel\u001b[0m\u001b[1;33m=\u001b[0m\u001b[0mlevel\u001b[0m\u001b[1;33m,\u001b[0m \u001b[0merrors\u001b[0m\u001b[1;33m=\u001b[0m\u001b[0merrors\u001b[0m\u001b[1;33m)\u001b[0m\u001b[1;33m\u001b[0m\u001b[0m\n\u001b[0m\u001b[0;32m   2531\u001b[0m \u001b[1;33m\u001b[0m\u001b[0m\n\u001b[0;32m   2532\u001b[0m         \u001b[1;32mif\u001b[0m \u001b[0minplace\u001b[0m\u001b[1;33m:\u001b[0m\u001b[1;33m\u001b[0m\u001b[0m\n",
      "\u001b[1;32m~\\Miniconda3\\lib\\site-packages\\pandas\\core\\generic.py\u001b[0m in \u001b[0;36m_drop_axis\u001b[1;34m(self, labels, axis, level, errors)\u001b[0m\n\u001b[0;32m   2560\u001b[0m                 \u001b[0mnew_axis\u001b[0m \u001b[1;33m=\u001b[0m \u001b[0maxis\u001b[0m\u001b[1;33m.\u001b[0m\u001b[0mdrop\u001b[0m\u001b[1;33m(\u001b[0m\u001b[0mlabels\u001b[0m\u001b[1;33m,\u001b[0m \u001b[0mlevel\u001b[0m\u001b[1;33m=\u001b[0m\u001b[0mlevel\u001b[0m\u001b[1;33m,\u001b[0m \u001b[0merrors\u001b[0m\u001b[1;33m=\u001b[0m\u001b[0merrors\u001b[0m\u001b[1;33m)\u001b[0m\u001b[1;33m\u001b[0m\u001b[0m\n\u001b[0;32m   2561\u001b[0m             \u001b[1;32melse\u001b[0m\u001b[1;33m:\u001b[0m\u001b[1;33m\u001b[0m\u001b[0m\n\u001b[1;32m-> 2562\u001b[1;33m                 \u001b[0mnew_axis\u001b[0m \u001b[1;33m=\u001b[0m \u001b[0maxis\u001b[0m\u001b[1;33m.\u001b[0m\u001b[0mdrop\u001b[0m\u001b[1;33m(\u001b[0m\u001b[0mlabels\u001b[0m\u001b[1;33m,\u001b[0m \u001b[0merrors\u001b[0m\u001b[1;33m=\u001b[0m\u001b[0merrors\u001b[0m\u001b[1;33m)\u001b[0m\u001b[1;33m\u001b[0m\u001b[0m\n\u001b[0m\u001b[0;32m   2563\u001b[0m             \u001b[0mdropped\u001b[0m \u001b[1;33m=\u001b[0m \u001b[0mself\u001b[0m\u001b[1;33m.\u001b[0m\u001b[0mreindex\u001b[0m\u001b[1;33m(\u001b[0m\u001b[1;33m**\u001b[0m\u001b[1;33m{\u001b[0m\u001b[0maxis_name\u001b[0m\u001b[1;33m:\u001b[0m \u001b[0mnew_axis\u001b[0m\u001b[1;33m}\u001b[0m\u001b[1;33m)\u001b[0m\u001b[1;33m\u001b[0m\u001b[0m\n\u001b[0;32m   2564\u001b[0m             \u001b[1;32mtry\u001b[0m\u001b[1;33m:\u001b[0m\u001b[1;33m\u001b[0m\u001b[0m\n",
      "\u001b[1;32m~\\Miniconda3\\lib\\site-packages\\pandas\\core\\indexes\\base.py\u001b[0m in \u001b[0;36mdrop\u001b[1;34m(self, labels, errors)\u001b[0m\n\u001b[0;32m   3742\u001b[0m             \u001b[1;32mif\u001b[0m \u001b[0merrors\u001b[0m \u001b[1;33m!=\u001b[0m \u001b[1;34m'ignore'\u001b[0m\u001b[1;33m:\u001b[0m\u001b[1;33m\u001b[0m\u001b[0m\n\u001b[0;32m   3743\u001b[0m                 raise ValueError('labels %s not contained in axis' %\n\u001b[1;32m-> 3744\u001b[1;33m                                  labels[mask])\n\u001b[0m\u001b[0;32m   3745\u001b[0m             \u001b[0mindexer\u001b[0m \u001b[1;33m=\u001b[0m \u001b[0mindexer\u001b[0m\u001b[1;33m[\u001b[0m\u001b[1;33m~\u001b[0m\u001b[0mmask\u001b[0m\u001b[1;33m]\u001b[0m\u001b[1;33m\u001b[0m\u001b[0m\n\u001b[0;32m   3746\u001b[0m         \u001b[1;32mreturn\u001b[0m \u001b[0mself\u001b[0m\u001b[1;33m.\u001b[0m\u001b[0mdelete\u001b[0m\u001b[1;33m(\u001b[0m\u001b[0mindexer\u001b[0m\u001b[1;33m)\u001b[0m\u001b[1;33m\u001b[0m\u001b[0m\n",
      "\u001b[1;31mValueError\u001b[0m: labels ['position'] not contained in axis"
     ]
    }
   ],
   "source": [
    "dftest = df['position']\n",
    "df.drop('position')\n",
    "\n",
    "st_time = t.clock()\n",
    "Logreg = LogisticRegression()\n",
    "Logreg.fit(df, dftest)\n",
    "y_pred = Logreg.predict(df_test)\n",
    "acc_log = round(Logreg.score(df, dftest)*100, 2)\n",
    "print (acc_log, \"--- %s seconds ---\" % (t.clock() - st_time))"
   ]
  },
  {
   "cell_type": "code",
   "execution_count": null,
   "metadata": {},
   "outputs": [],
   "source": []
  },
  {
   "cell_type": "code",
   "execution_count": null,
   "metadata": {},
   "outputs": [],
   "source": []
  },
  {
   "cell_type": "code",
   "execution_count": null,
   "metadata": {},
   "outputs": [],
   "source": []
  },
  {
   "cell_type": "markdown",
   "metadata": {},
   "source": [
    "Ideas:\n",
    "\n",
    "See for each propery how many stars it has\n",
    "See for each property the mean stars it has from reviews\n",
    "See if there is descrepancy between stars and between stars from reviews.\n",
    "pd.cut prices\n",
    "Look at property id and position and search which values gave them that position.\n",
    "Make training model based on position.\n",
    "Regression uitvoeren en dan met correlaties kijken welke variabelen echt geen effect hebben\n",
    "Prijzen van locaties binnen (in tientallen eerst)\n",
    "\n",
    "\n",
    "\n",
    "\n",
    "\n",
    "\n",
    "\n",
    "\n",
    "\n",
    "\n",
    ">>> pd.cut(np.array([.2, 1.4, 2.5, 6.2, 9.7, 2.1]),\n",
    "...        3, labels=[\"good\", \"medium\", \"bad\"])\n",
    "... \n",
    "[good, good, good, medium, bad, good]\n",
    "Categories (3, object): [good < medium < bad]"
   ]
  }
 ],
 "metadata": {
  "kernelspec": {
   "display_name": "Python 3",
   "language": "python",
   "name": "python3"
  },
  "language_info": {
   "codemirror_mode": {
    "name": "ipython",
    "version": 3
   },
   "file_extension": ".py",
   "mimetype": "text/x-python",
   "name": "python",
   "nbconvert_exporter": "python",
   "pygments_lexer": "ipython3",
   "version": "3.6.5"
  }
 },
 "nbformat": 4,
 "nbformat_minor": 2
}
