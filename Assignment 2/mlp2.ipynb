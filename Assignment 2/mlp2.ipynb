{
 "cells": [
  {
   "cell_type": "code",
   "execution_count": 5,
   "metadata": {},
   "outputs": [],
   "source": [
    "import numpy as np\n",
    "import pandas as pd\n",
    "from sklearn.model_selection import cross_val_score\n",
    "from sklearn.neural_network import MLPRegressor\n",
    "from sklearn.preprocessing import StandardScaler\n",
    "from sklearn.model_selection import train_test_split"
   ]
  },
  {
   "cell_type": "markdown",
   "metadata": {},
   "source": [
    "#### Data"
   ]
  },
  {
   "cell_type": "code",
   "execution_count": 6,
   "metadata": {},
   "outputs": [],
   "source": [
    "df = pd.read_csv('train2.csv')"
   ]
  },
  {
   "cell_type": "code",
   "execution_count": 7,
   "metadata": {},
   "outputs": [],
   "source": [
    "df= df.drop(['Unnamed: 0'], axis = 1)"
   ]
  },
  {
   "cell_type": "code",
   "execution_count": 8,
   "metadata": {},
   "outputs": [],
   "source": [
    "df1 = df #.sample(frac=0.5)"
   ]
  },
  {
   "cell_type": "code",
   "execution_count": 9,
   "metadata": {},
   "outputs": [],
   "source": [
    "y = df1[['position', 'ndcg']]\n",
    "X = df1.drop(['position', 'ndcg'], axis = 1)"
   ]
  },
  {
   "cell_type": "code",
   "execution_count": 52,
   "metadata": {},
   "outputs": [
    {
     "data": {
      "text/plain": [
       "Index([u'position', u'ndcg'], dtype='object')"
      ]
     },
     "execution_count": 52,
     "metadata": {},
     "output_type": "execute_result"
    }
   ],
   "source": [
    "y.columns"
   ]
  },
  {
   "cell_type": "markdown",
   "metadata": {},
   "source": [
    "#### Splitting & transform"
   ]
  },
  {
   "cell_type": "code",
   "execution_count": 10,
   "metadata": {},
   "outputs": [],
   "source": [
    "X_train, X_test, y_train, y_test = train_test_split(X, y, test_size=0.33)"
   ]
  },
  {
   "cell_type": "code",
   "execution_count": 11,
   "metadata": {},
   "outputs": [],
   "source": [
    "scaler = StandardScaler()  \n",
    "scaler.fit(X_train)\n",
    "\n",
    "X_train = scaler.transform(X_train)  \n",
    "X_test = scaler.transform(X_test)"
   ]
  },
  {
   "cell_type": "code",
   "execution_count": 58,
   "metadata": {},
   "outputs": [
    {
     "data": {
      "text/plain": [
       "(163626L, 25L)"
      ]
     },
     "execution_count": 58,
     "metadata": {},
     "output_type": "execute_result"
    }
   ],
   "source": [
    "X_test.shape"
   ]
  },
  {
   "cell_type": "markdown",
   "metadata": {},
   "source": [
    "#### MLP"
   ]
  },
  {
   "cell_type": "code",
   "execution_count": 12,
   "metadata": {},
   "outputs": [],
   "source": [
    "from sklearn.metrics import classification_report, confusion_matrix  "
   ]
  },
  {
   "cell_type": "code",
   "execution_count": 76,
   "metadata": {},
   "outputs": [
    {
     "name": "stdout",
     "output_type": "stream",
     "text": [
      "0.23239432987553518\n"
     ]
    }
   ],
   "source": [
    "mlp = MLPRegressor()\n",
    "model = mlp.fit(X_train,y_train)\n",
    "pred = model.predict(X_test)\n",
    "\n",
    "print mlp.score(X_test, y_test)\n",
    "# print cross_val_score(model, p, target, cv=10)\n",
    "# print(confusion_matrix(y_test,pred))  \n",
    "# print(classification_report(y_test,pred))"
   ]
  },
  {
   "cell_type": "code",
   "execution_count": 81,
   "metadata": {},
   "outputs": [
    {
     "name": "stdout",
     "output_type": "stream",
     "text": [
      "0.23745404269766937\n"
     ]
    }
   ],
   "source": [
    "# Whole dataset\n",
    "mlp = MLPRegressor()\n",
    "mlp.fit(X_train,y_train)\n",
    "pred2 = model.predict(X_test)\n",
    "\n",
    "print mlp.score(X_test, y_test)\n",
    "# print cross_val_score(model, p, target, cv=10)\n",
    "# print(confusion_matrix(y_test,pred))  \n",
    "# print(classification_report(y_test,pred))"
   ]
  },
  {
   "cell_type": "code",
   "execution_count": 84,
   "metadata": {},
   "outputs": [
    {
     "name": "stdout",
     "output_type": "stream",
     "text": [
      "[0.22699058 0.22767987 0.22801125 0.21006119 0.22261172 0.2260841\n",
      " 0.22795596 0.22683742 0.2216705  0.22251561]\n"
     ]
    }
   ],
   "source": [
    "print cross_val_score(mlp,X_test, y_test, cv=10)"
   ]
  },
  {
   "cell_type": "code",
   "execution_count": null,
   "metadata": {},
   "outputs": [],
   "source": []
  },
  {
   "cell_type": "code",
   "execution_count": 17,
   "metadata": {},
   "outputs": [],
   "source": [
    "from sklearn.externals import joblib\n",
    "s = joblib.dump(mlp3, 'mlpwholedatasetwithhiddenlayer.pkl')\n"
   ]
  },
  {
   "cell_type": "code",
   "execution_count": null,
   "metadata": {},
   "outputs": [],
   "source": [
    "#  Loading trained model to continue\n",
    "# Focus on having same packages and you can continue with this model\n",
    "\n",
    "# mlp = joblib.load('mlpwholedataset.pkl')"
   ]
  },
  {
   "cell_type": "code",
   "execution_count": null,
   "metadata": {},
   "outputs": [],
   "source": []
  },
  {
   "cell_type": "code",
   "execution_count": null,
   "metadata": {},
   "outputs": [],
   "source": []
  },
  {
   "cell_type": "markdown",
   "metadata": {},
   "source": [
    "Python 2.7.14 :: Anaconda custom (64-bit)\n",
    "numpy                     1.14.0           py27hfef472a_1conda\n",
    "pandas                    0.22.0           py27hc56fc5f_0\n",
    "scikit-learn              0.19.1           py27he00e316_0"
   ]
  },
  {
   "cell_type": "code",
   "execution_count": 15,
   "metadata": {
    "scrolled": false
   },
   "outputs": [
    {
     "name": "stdout",
     "output_type": "stream",
     "text": [
      "0.18117507434472646\n"
     ]
    }
   ],
   "source": [
    "# Whole dataset with extra hidden layers\n",
    "mlp2 = MLPRegressor(hidden_layer_sizes=(5))\n",
    "model3 = mlp2.fit(X_train,y_train)\n",
    "pred3 = model3.predict(X_test)\n",
    "\n",
    "print mlp2.score(X_test, y_test)\n",
    "# print cross_val_score(mlp2,X_test, y_test, cv=10)\n",
    "\n",
    "# print cross_val_score(model, p, target, cv=10)\n",
    "# print(confusion_matrix(y_test,pred))  \n",
    "# print(classification_report(y_test,pred))"
   ]
  },
  {
   "cell_type": "code",
   "execution_count": null,
   "metadata": {},
   "outputs": [],
   "source": [
    "from sklearn.externals import joblib\n",
    "s = joblib.dump(mlp2, 'mlpwholedatasetwithhiddenlayers.pkl')"
   ]
  },
  {
   "cell_type": "code",
   "execution_count": 16,
   "metadata": {},
   "outputs": [
    {
     "name": "stdout",
     "output_type": "stream",
     "text": [
      "0.24207150660579632\n"
     ]
    }
   ],
   "source": [
    "# Whole dataset with extra hidden layers, 5,5\n",
    "mlp3 = MLPRegressor(hidden_layer_sizes=(25,25))\n",
    "mlp3.fit(X_train,y_train)\n",
    "pred4 = mlp3.predict(X_test)\n",
    "\n",
    "print mlp3.score(X_test, y_test)\n",
    "# print cross_val_score(mlp3,X_test, y_test, cv=10)\n",
    "\n",
    "# print cross_val_score(model, p, target, cv=10)\n",
    "# print(confusion_matrix(y_test,pred))  \n",
    "# print(classification_report(y_test,pred))"
   ]
  },
  {
   "cell_type": "code",
   "execution_count": 14,
   "metadata": {},
   "outputs": [
    {
     "name": "stdout",
     "output_type": "stream",
     "text": [
      "0.21802865098479418\n",
      "[0.2209625  0.21681133 0.21931738 0.21472975 0.22514757 0.22308851\n",
      " 0.21980036 0.22156932 0.21874874 0.21448679]\n"
     ]
    }
   ],
   "source": [
    "mlp4 = MLPRegressor(hidden_layer_sizes=(25))\n",
    "mlp4.fit(X_train,y_train)\n",
    "pred5 = mlp4.predict(X_test)\n",
    "\n",
    "print mlp4.score(X_test, y_test)\n",
    "print cross_val_score(mlp4,X_test, y_test, cv=10)"
   ]
  },
  {
   "cell_type": "code",
   "execution_count": null,
   "metadata": {},
   "outputs": [],
   "source": []
  },
  {
   "cell_type": "code",
   "execution_count": null,
   "metadata": {},
   "outputs": [],
   "source": [
    "pred2.shape"
   ]
  },
  {
   "cell_type": "code",
   "execution_count": null,
   "metadata": {},
   "outputs": [],
   "source": [
    "mlptest = pd.DataFrame(X_test)\n",
    "mlptesttarget = pd.DataFrame(y_test)\n",
    "mlptesttargetprediction = pd.DataFrame(pred2)"
   ]
  },
  {
   "cell_type": "code",
   "execution_count": null,
   "metadata": {},
   "outputs": [],
   "source": [
    "mlptest2 = pd.DataFrame(X_test)\n",
    "mlptesttarget2 = pd.DataFrame(y_test)\n",
    "mlptesttargetprediction2 = pd.DataFrame(pred2)"
   ]
  },
  {
   "cell_type": "code",
   "execution_count": null,
   "metadata": {},
   "outputs": [],
   "source": []
  }
 ],
 "metadata": {
  "kernelspec": {
   "display_name": "Python 2",
   "language": "python",
   "name": "python2"
  },
  "language_info": {
   "codemirror_mode": {
    "name": "ipython",
    "version": 2
   },
   "file_extension": ".py",
   "mimetype": "text/x-python",
   "name": "python",
   "nbconvert_exporter": "python",
   "pygments_lexer": "ipython2",
   "version": "2.7.14"
  }
 },
 "nbformat": 4,
 "nbformat_minor": 2
}
