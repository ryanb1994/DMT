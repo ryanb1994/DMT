{
 "cells": [
  {
   "cell_type": "code",
   "execution_count": 33,
   "metadata": {},
   "outputs": [],
   "source": [
    "import pandas as pd\n",
    "import numpy as np\n",
    "import matplotlib.pyplot as plt\n",
    "import warnings\n",
    "warnings.simplefilter('ignore')"
   ]
  },
  {
   "cell_type": "code",
   "execution_count": 34,
   "metadata": {},
   "outputs": [],
   "source": [
    "df = pd.read_csv('train.csv')"
   ]
  },
  {
   "cell_type": "code",
   "execution_count": 35,
   "metadata": {},
   "outputs": [],
   "source": [
    "df[\"date_time\"] = pd.to_datetime(df[\"date_time\"])\n",
    "df[\"year\"] = df[\"date_time\"].dt.year\n",
    "df[\"month\"] = df[\"date_time\"].dt.month"
   ]
  },
  {
   "cell_type": "code",
   "execution_count": 36,
   "metadata": {},
   "outputs": [],
   "source": [
    "df.prop_location_score2.loc[np.isnan(df.prop_location_score2)] = 0"
   ]
  },
  {
   "cell_type": "code",
   "execution_count": 37,
   "metadata": {},
   "outputs": [],
   "source": [
    "df.visitor_hist_starrating.loc[np.isnan(df.visitor_hist_starrating)] = 0\n",
    "df.visitor_hist_adr_usd.loc[np.isnan(df.visitor_hist_adr_usd)] = 0\n"
   ]
  },
  {
   "cell_type": "code",
   "execution_count": 38,
   "metadata": {},
   "outputs": [],
   "source": [
    "df.orig_destination_distance[np.isnan(df.orig_destination_distance)] = 0 \n",
    "df.prop_review_score[np.isnan(df.prop_review_score)] = 0\n",
    "df.srch_query_affinity_score[np.isnan(df.srch_query_affinity_score)] = 0\n"
   ]
  },
  {
   "cell_type": "code",
   "execution_count": 39,
   "metadata": {},
   "outputs": [],
   "source": [
    "df.iloc[:,27:51] = df.iloc[:,27:51].fillna(value = 0, axis = 0)"
   ]
  },
  {
   "cell_type": "code",
   "execution_count": 40,
   "metadata": {},
   "outputs": [],
   "source": [
    "df['prop_id_counts'] = df.groupby(['prop_id'])['prop_id'].transform('count')"
   ]
  },
  {
   "cell_type": "code",
   "execution_count": 41,
   "metadata": {},
   "outputs": [],
   "source": [
    "df['usd_diff'] = abs(df.price_usd - df.visitor_hist_adr_usd)"
   ]
  },
  {
   "cell_type": "code",
   "execution_count": 42,
   "metadata": {},
   "outputs": [],
   "source": [
    "df['star_diff'] = abs(df.prop_starrating - df.visitor_hist_starrating) "
   ]
  },
  {
   "cell_type": "code",
   "execution_count": 43,
   "metadata": {},
   "outputs": [],
   "source": [
    "df.prop_log_historical_price.loc[np.isnan(df.prop_log_historical_price)] = 0\n",
    "df['diff_hist_price'] = np.exp(df.prop_log_historical_price) - df.price_usd\n"
   ]
  },
  {
   "cell_type": "code",
   "execution_count": 44,
   "metadata": {},
   "outputs": [],
   "source": [
    "df['total_price'] = df.price_usd * df.srch_room_count"
   ]
  },
  {
   "cell_type": "code",
   "execution_count": 45,
   "metadata": {},
   "outputs": [],
   "source": [
    "df['price_per_pers'] = (df.price_usd * df.srch_room_count)/(df.srch_adults_count + df.srch_children_count)"
   ]
  },
  {
   "cell_type": "code",
   "execution_count": 46,
   "metadata": {},
   "outputs": [],
   "source": [
    "df['prop_score'] = (df.prop_location_score2 + 0.00001)/(df.prop_location_score1 + 0.00001)"
   ]
  },
  {
   "cell_type": "code",
   "execution_count": 47,
   "metadata": {},
   "outputs": [],
   "source": [
    "df['nr_pers'] =  df.srch_adults_count + df.srch_children_count"
   ]
  },
  {
   "cell_type": "code",
   "execution_count": 48,
   "metadata": {},
   "outputs": [],
   "source": [
    "df['price_rank'] = df.groupby('srch_id', sort=False)['price_usd'].rank(ascending=True, method =\"min\")\n",
    "df['stars_rank'] = df.groupby('srch_id', sort=False)['prop_starrating'].rank(ascending=True, method = \"min\")\n",
    "df['score_rank'] = df.groupby('srch_id', sort=False)['prop_location_score2'].rank(ascending=True, method = \"min\")\n"
   ]
  },
  {
   "cell_type": "code",
   "execution_count": 54,
   "metadata": {},
   "outputs": [],
   "source": [
    "df['rank_rel'] = np.zeros(len(df))\n",
    "df['rank_rel'] = np.where(df.click_bool == 1, 1, df.rank_rel)\n",
    "df['rank_rel'] = np.where(df.booking_bool == 1, 5, df.rank_rel)"
   ]
  },
  {
   "cell_type": "code",
   "execution_count": 55,
   "metadata": {},
   "outputs": [],
   "source": [
    "header_knn = ['prop_country_id','year', 'month', 'prop_score','prop_location_score1','prop_location_score2','diff_hist_price',\n",
    "                'usd_diff', 'star_diff', 'srch_query_affinity_score', 'prop_review_score', 'prop_starrating', 'price_rank','stars_rank','score_rank', 'price_per_pers',\n",
    "        'random_bool', 'price_usd', 'total_price', 'nr_pers','prop_id_counts', 'position', 'rank_rel']\n",
    "\n",
    "header_regression = ['price_rank', 'stars_rank', 'score_rank', 'position', 'rank_rel']"
   ]
  },
  {
   "cell_type": "code",
   "execution_count": 56,
   "metadata": {},
   "outputs": [],
   "source": [
    "df.to_csv('knn_train.csv', columns = header_knn)\n",
    "df.to_csv('regression_train.csv', columns = header_regression)"
   ]
  },
  {
   "cell_type": "code",
   "execution_count": null,
   "metadata": {},
   "outputs": [],
   "source": []
  }
 ],
 "metadata": {
  "kernelspec": {
   "display_name": "Python 2",
   "language": "python",
   "name": "python2"
  },
  "language_info": {
   "codemirror_mode": {
    "name": "ipython",
    "version": 2
   },
   "file_extension": ".py",
   "mimetype": "text/x-python",
   "name": "python",
   "nbconvert_exporter": "python",
   "pygments_lexer": "ipython2",
   "version": "2.7.14"
  }
 },
 "nbformat": 4,
 "nbformat_minor": 2
}
