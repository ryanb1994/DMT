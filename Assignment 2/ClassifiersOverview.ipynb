{
 "cells": [
  {
   "cell_type": "code",
   "execution_count": 55,
   "metadata": {},
   "outputs": [],
   "source": [
    "import pandas as pd\n",
    "import numpy as np\n",
    "from sklearn.neighbors import KNeighborsClassifier\n",
    "from sklearn.ensemble import RandomForestClassifier\n",
    "from sklearn.neural_network import MLPClassifier\n",
    "from sklearn import tree"
   ]
  },
  {
   "cell_type": "code",
   "execution_count": 3,
   "metadata": {
    "collapsed": true
   },
   "outputs": [],
   "source": [
    "with open('new_train.csv', 'r') as csvfile:\n",
    "    df = pd.read_csv(csvfile, dtype={'booking_bool':bool,\n",
    "                                     'prop_country_id':np.int32, \n",
    "                                     'prop_starrating':np.int32, 'prop_review_score':np.float,\n",
    "                                     'prop_location_score1':np.float,\n",
    "                                     'prop_location_score2':np.float,\n",
    "                                     'price_usd':np.float, \n",
    "                                     'srch_query_affinity_score':np.float, 'orig_destination_distance':np.float,\n",
    "                                     'position':np.int32, 'click_bool':bool})\n"
   ]
  },
  {
   "cell_type": "code",
   "execution_count": 4,
   "metadata": {
    "collapsed": true
   },
   "outputs": [],
   "source": [
    "target = ['booking_bool', 'click_bool']"
   ]
  },
  {
   "cell_type": "code",
   "execution_count": 5,
   "metadata": {
    "collapsed": true
   },
   "outputs": [],
   "source": [
    "data = ['year', 'month', 'prop_score','prop_location_score1','prop_location_score2','diff_hist_price',\n",
    "                'usd_diff', 'star_diff', 'srch_query_affinity_score', 'orig_destination_distance',\n",
    "                'prop_review_score','price_rank','stars_rank','score_rank']"
   ]
  },
  {
   "cell_type": "markdown",
   "metadata": {},
   "source": [
    "### Take data from two countries with approx same number of entries and same percent of likes/clicks"
   ]
  },
  {
   "cell_type": "code",
   "execution_count": 6,
   "metadata": {
    "collapsed": true
   },
   "outputs": [],
   "source": [
    "df_sample = df[df.prop_country_id == 55]"
   ]
  },
  {
   "cell_type": "code",
   "execution_count": 7,
   "metadata": {
    "collapsed": true
   },
   "outputs": [],
   "source": [
    "df_test = df[df.prop_country_id == 31]"
   ]
  },
  {
   "cell_type": "code",
   "execution_count": 8,
   "metadata": {},
   "outputs": [
    {
     "name": "stdout",
     "output_type": "stream",
     "text": [
      "4.68400605335\n",
      "3.01368780069\n"
     ]
    }
   ],
   "source": [
    "print float(len(df_sample[df_sample['click_bool'] == True]))/len(df_sample)*100\n",
    "print float(len(df_sample[df_sample['booking_bool'] == True]))/len(df_sample)*100"
   ]
  },
  {
   "cell_type": "code",
   "execution_count": 9,
   "metadata": {},
   "outputs": [
    {
     "name": "stdout",
     "output_type": "stream",
     "text": [
      "4.66477630323\n",
      "2.5898881347\n"
     ]
    }
   ],
   "source": [
    "print float(len(df_test[df_test['click_bool'] == True]))/len(df_test)*100\n",
    "print float(len(df_test[df_test['booking_bool'] == True]))/len(df_test)*100"
   ]
  },
  {
   "cell_type": "markdown",
   "metadata": {},
   "source": [
    "### Train data and test data:"
   ]
  },
  {
   "cell_type": "code",
   "execution_count": 10,
   "metadata": {
    "collapsed": true
   },
   "outputs": [],
   "source": [
    "X = df_sample[data]\n",
    "y = df_sample[target]\n",
    "pred = df_test[data]\n",
    "verif = df_test[target]"
   ]
  },
  {
   "cell_type": "markdown",
   "metadata": {},
   "source": [
    "### K Neighbors Classifier - most of clicked/booked predictions are false pozitives"
   ]
  },
  {
   "cell_type": "code",
   "execution_count": 49,
   "metadata": {
    "scrolled": true
   },
   "outputs": [],
   "source": [
    "knn  = KNeighborsClassifier(n_neighbors  = 5)\n",
    "knn.fit(X,y)\n",
    "prediction = knn.predict(pred)\n",
    "#print cross_val_score(knn, X, y, cv = 10, scoring = 'accuracy').mean()"
   ]
  },
  {
   "cell_type": "code",
   "execution_count": 50,
   "metadata": {},
   "outputs": [
    {
     "name": "stdout",
     "output_type": "stream",
     "text": [
      "Total number of clicked predictions:  88\n",
      "Number of correct clicked/non-clicked predictions:  140806\n",
      "Number of false positives clicked 78\n",
      "Number of false negatives clicked 6883\n",
      "Total number of booked predictions:  351\n",
      "Number of correct booked/non-booked predictions:  143623\n",
      "Number of false positives booked 334\n",
      "Number of false negatives booked 3810\n"
     ]
    }
   ],
   "source": [
    "from collections import Counter\n",
    "Counter(x for xs in prediction for x in set(xs))\n",
    "head = ['click_bool','booking_bool']\n",
    "prediction_df = pd.DataFrame(prediction, columns=head)\n",
    "\n",
    "diff =  np.subtract(prediction_df.click_bool, np.int32(df_test.click_bool))\n",
    "print \"Total number of clicked predictions: \", len(prediction_df[prediction_df.click_bool == 1])\n",
    "print \"Number of correct clicked/non-clicked predictions: \", np.count_nonzero(diff == 0)\n",
    "print \"Number of false positives clicked\", np.count_nonzero(diff == 1)\n",
    "print \"Number of false negatives clicked\", np.count_nonzero(diff == -1)\n",
    "\n",
    "diff2 =  np.subtract(prediction_df.booking_bool, np.int32(df_test.booking_bool))\n",
    "print \"Total number of booked predictions: \", len(prediction_df[prediction_df.booking_bool == 1])\n",
    "print \"Number of correct booked/non-booked predictions: \", np.count_nonzero(diff2 == 0)\n",
    "print \"Number of false positives booked\", np.count_nonzero(diff2 == 1)\n",
    "print \"Number of false negatives booked\", np.count_nonzero(diff2 == -1)"
   ]
  },
  {
   "cell_type": "markdown",
   "metadata": {},
   "source": [
    "### Random Forest Classifier - always predicts non-clicked/non-booked"
   ]
  },
  {
   "cell_type": "code",
   "execution_count": 17,
   "metadata": {},
   "outputs": [
    {
     "name": "stdout",
     "output_type": "stream",
     "text": [
      "False\n",
      "0.9531599311524774\n"
     ]
    }
   ],
   "source": [
    "clf = RandomForestClassifier(max_depth = 2, random_state = 0)\n",
    "clf.fit(X, y)\n",
    "prediction = clf.predict(pred)\n",
    "search = 1\n",
    "print any(e[0] == search for e in prediction)\n",
    "print cross_val_score(clf, X, y, cv=10, scoring='accuracy').mean()\n"
   ]
  },
  {
   "cell_type": "markdown",
   "metadata": {},
   "source": [
    "### Decision tree - predicts many clicked/booked, out of which the biggest majority are false alarms"
   ]
  },
  {
   "cell_type": "code",
   "execution_count": 33,
   "metadata": {},
   "outputs": [
    {
     "name": "stdout",
     "output_type": "stream",
     "text": [
      "True\n"
     ]
    }
   ],
   "source": [
    "clf = tree.DecisionTreeClassifier()\n",
    "clf = clf.fit(X, y)\n",
    "prediction = clf.predict(pred)\n",
    "search = 1\n",
    "print any(e[0] == search for e in prediction)\n",
    "#print cross_val_score(clf, X, y, cv=10, scoring='accuracy').mean()"
   ]
  },
  {
   "cell_type": "code",
   "execution_count": 48,
   "metadata": {},
   "outputs": [
    {
     "name": "stdout",
     "output_type": "stream",
     "text": [
      "Total number of clicked predictions:  12480\n",
      "Number of correct clicked/non-clicked predictions:  130070\n",
      "Number of false positives clicked 11642\n",
      "Number of false negatives clicked 6055\n",
      "Total number of booked predictions:  17756\n",
      "Number of correct booked/non-booked predictions:  127516\n",
      "Number of false positives booked 17090\n",
      "Number of false negatives booked 3161\n"
     ]
    }
   ],
   "source": [
    "from collections import Counter\n",
    "Counter(x for xs in prediction for x in set(xs))\n",
    "head = ['click_bool','booking_bool']\n",
    "prediction_df = pd.DataFrame(prediction, columns=head)\n",
    "\n",
    "diff =  np.subtract(prediction_df.click_bool, np.int32(df_test.click_bool))\n",
    "print \"Total number of clicked predictions: \", len(prediction_df[prediction_df.click_bool == 1])\n",
    "print \"Number of correct clicked/non-clicked predictions: \", np.count_nonzero(diff == 0)\n",
    "print \"Number of false positives clicked\", np.count_nonzero(diff == 1)\n",
    "print \"Number of false negatives clicked\", np.count_nonzero(diff == -1)\n",
    "\n",
    "diff2 =  np.subtract(prediction_df.booking_bool, np.int32(df_test.booking_bool))\n",
    "print \"Total number of booked predictions: \", len(prediction_df[prediction_df.booking_bool == 1])\n",
    "print \"Number of correct booked/non-booked predictions: \", np.count_nonzero(diff2 == 0)\n",
    "print \"Number of false positives booked\", np.count_nonzero(diff2 == 1)\n",
    "print \"Number of false negatives booked\", np.count_nonzero(diff2 == -1)\n"
   ]
  },
  {
   "cell_type": "markdown",
   "metadata": {},
   "source": [
    "### Gradient Boosting - predicts very few clicked/booked, but most of them are correct"
   ]
  },
  {
   "cell_type": "code",
   "execution_count": 14,
   "metadata": {
    "collapsed": true
   },
   "outputs": [],
   "source": [
    "from sklearn.ensemble import GradientBoostingClassifier"
   ]
  },
  {
   "cell_type": "code",
   "execution_count": 51,
   "metadata": {},
   "outputs": [],
   "source": [
    "y_GBC = y.click_bool\n",
    "clf = GradientBoostingClassifier(max_depth = 2)\n",
    "clf.fit(X, y_GBC)\n",
    "prediction = clf.predict(pred)\n",
    "#print cross_val_score(clf, X,y_GBC, cv=10, scoring='accuracy').mean()"
   ]
  },
  {
   "cell_type": "code",
   "execution_count": 52,
   "metadata": {},
   "outputs": [
    {
     "name": "stdout",
     "output_type": "stream",
     "text": [
      "Total number of clicked predictions: 40\n",
      "Total number of correct predictions: 140886\n",
      "Number of false positives: 14\n",
      "Number of false negatives: 6867\n"
     ]
    }
   ],
   "source": [
    "print \"Total number of clicked predictions:\", np.count_nonzero(prediction == 1)\n",
    "diff =  np.subtract(prediction, np.int32(df_test.click_bool))\n",
    "print \"Total number of correct predictions:\", np.count_nonzero(diff == 0)\n",
    "print \"Number of false positives:\", np.count_nonzero(diff == 1)\n",
    "print \"Number of false negatives:\", np.count_nonzero(diff == -1)\n"
   ]
  },
  {
   "cell_type": "code",
   "execution_count": 53,
   "metadata": {},
   "outputs": [],
   "source": [
    "clf = GradientBoostingClassifier(max_depth = 2)\n",
    "clf.fit(X, y.booking_bool)\n",
    "prediction = clf.predict(pred)\n",
    "#print cross_val_score(clf, X, y.booking_bool, cv=10, scoring='accuracy').mean()"
   ]
  },
  {
   "cell_type": "code",
   "execution_count": 54,
   "metadata": {},
   "outputs": [
    {
     "name": "stdout",
     "output_type": "stream",
     "text": [
      "Total number of booked predictions: 35\n",
      "Total number of correct predictions: 143929\n",
      "Number of false positives: 23\n",
      "Number of false negatives: 3815\n"
     ]
    }
   ],
   "source": [
    "print \"Total number of booked predictions:\", np.count_nonzero(prediction == 1)\n",
    "diff =  np.subtract(prediction, np.int32(df_test.booking_bool))\n",
    "print \"Total number of correct predictions:\", np.count_nonzero(diff == 0)\n",
    "print \"Number of false positives:\", np.count_nonzero(diff == 1)\n",
    "print \"Number of false negatives:\", np.count_nonzero(diff == -1)\n"
   ]
  },
  {
   "cell_type": "code",
   "execution_count": null,
   "metadata": {
    "collapsed": true
   },
   "outputs": [],
   "source": []
  }
 ],
 "metadata": {
  "kernelspec": {
   "display_name": "Python 2",
   "language": "python",
   "name": "python2"
  },
  "language_info": {
   "codemirror_mode": {
    "name": "ipython",
    "version": 2
   },
   "file_extension": ".py",
   "mimetype": "text/x-python",
   "name": "python",
   "nbconvert_exporter": "python",
   "pygments_lexer": "ipython2",
   "version": "2.7.14"
  }
 },
 "nbformat": 4,
 "nbformat_minor": 2
}
