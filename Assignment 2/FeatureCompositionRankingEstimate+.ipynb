{
 "cells": [
  {
   "cell_type": "code",
   "execution_count": 1,
   "metadata": {
    "collapsed": true
   },
   "outputs": [],
   "source": [
    "import pandas as pd\n",
    "import numpy as np\n",
    "import matplotlib.pyplot as plt\n",
    "import warnings\n",
    "warnings.simplefilter('ignore')"
   ]
  },
  {
   "cell_type": "code",
   "execution_count": 27,
   "metadata": {
    "collapsed": true
   },
   "outputs": [],
   "source": [
    "with open('trainingset.csv', 'r') as csvfile:\n",
    "    df = pd.read_csv(csvfile, dtype={'booking_bool':bool,'srch_destination_id':np.int32, \n",
    "                                     'site_id':np.int32, 'visitor_location_country_id':np.int32,\n",
    "                                     'visitor_hist_starrating':np.float, 'visitor_hist_adr_usd':np.float,\n",
    "                                     'prop_country_id':np.int32, 'prop_id':np.int32, \n",
    "                                     'prop_starrating':np.int32, 'prop_review_score':np.float,\n",
    "                                     'prop_brand_bool':bool, 'prop_location_score1':np.float,\n",
    "                                     'prop_location_score2':np.float, 'prop_log_historical_price':np.float,\n",
    "                                     'price_usd':np.float, 'promotion_flag':bool,\\\n",
    "                                     'srch_length_of_stay':np.int32, 'srch_booking_window':np.int32,\n",
    "                                     'srch_adults_count':np.int32, 'srch_children_count':np.int32,\n",
    "                                     'srch_room_count':np.int32, 'srch_saturday_night_bool':bool,\n",
    "                                     'srch_query_affinity_score':np.float, 'orig_destination_distance':np.float,\n",
    "                                     'random_bool':bool, 'position':np.int32, 'click_bool':bool,\n",
    "                                     'booking_bool':bool, 'gross_bookings_usd':np.float})"
   ]
  },
  {
   "cell_type": "code",
   "execution_count": 28,
   "metadata": {
    "collapsed": true
   },
   "outputs": [],
   "source": [
    "with open('testset.csv', 'r') as csvfile:\n",
    "    dfTest = pd.read_csv(csvfile, dtype={'booking_bool':bool,'srch_destination_id':np.int32, \n",
    "                                     'site_id':np.int32, 'visitor_location_country_id':np.int32,\n",
    "                                     'visitor_hist_starrating':np.float, 'visitor_hist_adr_usd':np.float,\n",
    "                                     'prop_country_id':np.int32, 'prop_id':np.int32, \n",
    "                                     'prop_starrating':np.int32, 'prop_review_score':np.float,\n",
    "                                     'prop_brand_bool':bool, 'prop_location_score1':np.float,\n",
    "                                     'prop_location_score2':np.float, 'prop_log_historical_price':np.float,\n",
    "                                     'price_usd':np.float, 'promotion_flag':bool,\\\n",
    "                                     'srch_length_of_stay':np.int32, 'srch_booking_window':np.int32,\n",
    "                                     'srch_adults_count':np.int32, 'srch_children_count':np.int32,\n",
    "                                     'srch_room_count':np.int32, 'srch_saturday_night_bool':bool,\n",
    "                                     'srch_query_affinity_score':np.float, 'orig_destination_distance':np.float,\n",
    "                                     'random_bool':bool})"
   ]
  },
  {
   "cell_type": "markdown",
   "metadata": {},
   "source": [
    "### Dates"
   ]
  },
  {
   "cell_type": "code",
   "execution_count": 32,
   "metadata": {
    "collapsed": true
   },
   "outputs": [],
   "source": [
    "df[\"date_time\"] = pd.to_datetime(df[\"date_time\"])\n",
    "df[\"year\"] = df[\"date_time\"].dt.year\n",
    "df[\"month\"] = df[\"date_time\"].dt.month"
   ]
  },
  {
   "cell_type": "markdown",
   "metadata": {},
   "source": [
    "### Remove outliers price_usd"
   ]
  },
  {
   "cell_type": "code",
   "execution_count": 33,
   "metadata": {
    "collapsed": true
   },
   "outputs": [],
   "source": [
    "top2point5 = df.price_usd.quantile(0.975)\n",
    "low2point5 = df.price_usd.quantile(0.025)\n",
    "df = df[df.price_usd < top2point5]\n",
    "df = df[df.price_usd > low2point5]"
   ]
  },
  {
   "cell_type": "markdown",
   "metadata": {},
   "source": [
    "### Fill in missing values with worst case scenario"
   ]
  },
  {
   "cell_type": "code",
   "execution_count": 34,
   "metadata": {
    "collapsed": true
   },
   "outputs": [],
   "source": [
    "df.prop_location_score2.loc[np.isnan(df.prop_location_score2)] = 0"
   ]
  },
  {
   "cell_type": "code",
   "execution_count": 35,
   "metadata": {
    "collapsed": true
   },
   "outputs": [],
   "source": [
    "df.visitor_hist_starrating.loc[np.isnan(df.visitor_hist_starrating)] = 0\n",
    "df.visitor_hist_adr_usd.loc[np.isnan(df.visitor_hist_adr_usd)] = 0"
   ]
  },
  {
   "cell_type": "code",
   "execution_count": 36,
   "metadata": {
    "collapsed": true
   },
   "outputs": [],
   "source": [
    "df.orig_destination_distance[np.isnan(df.orig_destination_distance)] = 0 \n",
    "df.prop_review_score[np.isnan(df.prop_review_score)] = 0\n",
    "df.srch_query_affinity_score[np.isnan(df.srch_query_affinity_score)] = 0\n"
   ]
  },
  {
   "cell_type": "code",
   "execution_count": 37,
   "metadata": {
    "collapsed": true
   },
   "outputs": [],
   "source": [
    "df.iloc[:,27:51] = df.iloc[:,27:51].fillna(value = 0, axis = 0)"
   ]
  },
  {
   "cell_type": "markdown",
   "metadata": {},
   "source": [
    "### Composite features"
   ]
  },
  {
   "cell_type": "code",
   "execution_count": 65,
   "metadata": {
    "collapsed": true,
    "scrolled": true
   },
   "outputs": [],
   "source": [
    "df['prop_id_counts'] = df.groupby(['prop_id'])['prop_id'].transform('count')"
   ]
  },
  {
   "cell_type": "code",
   "execution_count": 38,
   "metadata": {
    "collapsed": true
   },
   "outputs": [],
   "source": [
    "df['usd_diff'] = abs(df.price_usd - df.visitor_hist_adr_usd)"
   ]
  },
  {
   "cell_type": "code",
   "execution_count": 39,
   "metadata": {
    "collapsed": true
   },
   "outputs": [],
   "source": [
    "df['star_diff'] = abs(df.prop_starrating - df.visitor_hist_starrating) "
   ]
  },
  {
   "cell_type": "code",
   "execution_count": 40,
   "metadata": {
    "collapsed": true
   },
   "outputs": [],
   "source": [
    "df.prop_log_historical_price.loc[np.isnan(df.prop_log_historical_price)] = 0\n",
    "df['diff_hist_price'] = np.exp(df.prop_log_historical_price) - df.price_usd"
   ]
  },
  {
   "cell_type": "code",
   "execution_count": 41,
   "metadata": {
    "collapsed": true
   },
   "outputs": [],
   "source": [
    "#Total price/per night\n",
    "df['total_price'] = df.price_usd * df.srch_room_count"
   ]
  },
  {
   "cell_type": "code",
   "execution_count": 42,
   "metadata": {
    "collapsed": true
   },
   "outputs": [],
   "source": [
    "#Price per person\n",
    "df['price_per_pers'] = (df.price_usd * df.srch_room_count)/(df.srch_adults_count + df.srch_children_count)"
   ]
  },
  {
   "cell_type": "code",
   "execution_count": 43,
   "metadata": {
    "collapsed": true
   },
   "outputs": [],
   "source": [
    "df['prop_score'] = (df.prop_location_score2 + 0.00001)/(df.prop_location_score1 + 0.00001)"
   ]
  },
  {
   "cell_type": "code",
   "execution_count": 44,
   "metadata": {
    "collapsed": true
   },
   "outputs": [],
   "source": [
    "df['nr_pers'] =  df.srch_adults_count + df.srch_children_count"
   ]
  },
  {
   "cell_type": "markdown",
   "metadata": {},
   "source": [
    "### Rank features"
   ]
  },
  {
   "cell_type": "code",
   "execution_count": 64,
   "metadata": {
    "collapsed": true
   },
   "outputs": [],
   "source": [
    "df['price_rank'] = df.groupby('srch_id', sort=False)['price_usd'].rank(ascending=True, method =\"min\")\n",
    "df['stars_rank'] = df.groupby('srch_id', sort=False)['prop_starrating'].rank(ascending=True, method = \"min\")\n",
    "df['score_rank'] = df.groupby('srch_id', sort=False)['prop_location_score2'].rank(ascending=True, method = \"min\")"
   ]
  },
  {
   "cell_type": "markdown",
   "metadata": {},
   "source": [
    "### Estimate position:"
   ]
  },
  {
   "cell_type": "code",
   "execution_count": 57,
   "metadata": {},
   "outputs": [
    {
     "name": "stdout",
     "output_type": "stream",
     "text": [
      "117706\n",
      "124574 129438\n",
      "11732\n"
     ]
    }
   ],
   "source": [
    "print len(set(df.prop_id.unique()).intersection(set(dfTest.prop_id.unique())))\n",
    "print len(df.prop_id.unique()), len(dfTest.prop_id.unique())\n",
    "print len(set(dfTest.prop_id.unique()) - set(df.prop_id.unique()))\n",
    "\n"
   ]
  },
  {
   "cell_type": "code",
   "execution_count": 52,
   "metadata": {},
   "outputs": [],
   "source": [
    "df['position_estimate'] = df.groupby(['prop_id','month','srch_destination_id'])['position'].transform(np.mean)\n",
    "df.position_estimate = np.int32(df.position_estimate)"
   ]
  },
  {
   "cell_type": "code",
   "execution_count": 61,
   "metadata": {},
   "outputs": [
    {
     "name": "stdout",
     "output_type": "stream",
     "text": [
      "4.6993649456278\n"
     ]
    }
   ],
   "source": [
    "#print df[['position','position_estimate']].head(100)\n",
    "from sklearn.metrics import mean_absolute_error\n",
    "print mean_absolute_error(df.position,df.position_estimate)"
   ]
  },
  {
   "cell_type": "code",
   "execution_count": 66,
   "metadata": {
    "collapsed": true
   },
   "outputs": [],
   "source": [
    "header = ['srch_id','prop_country_id','year', 'month', 'prop_score','prop_location_score1','prop_location_score2','diff_hist_price',\n",
    "                'usd_diff', 'star_diff', 'srch_query_affinity_score', 'orig_destination_distance',\n",
    "                'prop_review_score','position','price_rank','stars_rank','score_rank', 'booking_bool', 'click_bool', 'price_per_pers',\n",
    "        'random_bool', 'price_usd', 'total_price', 'nr_pers','prop_id_counts', 'comp2_rate', 'comp5_rate','comp8_rate']"
   ]
  },
  {
   "cell_type": "code",
   "execution_count": 67,
   "metadata": {
    "collapsed": true
   },
   "outputs": [],
   "source": [
    "df.to_csv('new_train.csv', columns = header)"
   ]
  },
  {
   "cell_type": "code",
   "execution_count": 63,
   "metadata": {},
   "outputs": [
    {
     "data": {
      "text/plain": [
       "False"
      ]
     },
     "execution_count": 63,
     "metadata": {},
     "output_type": "execute_result"
    }
   ],
   "source": [
    "df.position_estimate.isnull().any()"
   ]
  },
  {
   "cell_type": "code",
   "execution_count": null,
   "metadata": {
    "collapsed": true
   },
   "outputs": [],
   "source": []
  }
 ],
 "metadata": {
  "kernelspec": {
   "display_name": "Python 2",
   "language": "python",
   "name": "python2"
  },
  "language_info": {
   "codemirror_mode": {
    "name": "ipython",
    "version": 2
   },
   "file_extension": ".py",
   "mimetype": "text/x-python",
   "name": "python",
   "nbconvert_exporter": "python",
   "pygments_lexer": "ipython2",
   "version": "2.7.14"
  }
 },
 "nbformat": 4,
 "nbformat_minor": 2
}
