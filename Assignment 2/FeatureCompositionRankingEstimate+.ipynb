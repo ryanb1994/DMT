{
 "cells": [
  {
   "cell_type": "code",
   "execution_count": 1,
   "metadata": {},
   "outputs": [],
   "source": [
    "import pandas as pd\n",
    "import numpy as np\n",
    "import matplotlib.pyplot as plt\n",
    "import warnings\n",
    "warnings.simplefilter('ignore')"
   ]
  },
  {
   "cell_type": "code",
   "execution_count": 2,
   "metadata": {},
   "outputs": [],
   "source": [
    "with open('trainingset.csv', 'r') as csvfile:\n",
    "    df = pd.read_csv(csvfile, dtype={'booking_bool':np.int32,'srch_destination_id':np.int32, \n",
    "                                     'site_id':np.int32, 'visitor_location_country_id':np.int32,\n",
    "                                     'visitor_hist_starrating':np.float, 'visitor_hist_adr_usd':np.float,\n",
    "                                     'prop_country_id':np.int32, 'prop_id':np.int32, \n",
    "                                     'prop_starrating':np.int32, 'prop_review_score':np.float,\n",
    "                                     'prop_brand_bool':np.int32, 'prop_location_score1':np.float,\n",
    "                                     'prop_location_score2':np.float, 'prop_log_historical_price':np.float,\n",
    "                                     'price_usd':np.float, 'promotion_flag':np.int32,\\\n",
    "                                     'srch_length_of_stay':np.int32, 'srch_booking_window':np.int32,\n",
    "                                     'srch_adults_count':np.int32, 'srch_children_count':np.int32,\n",
    "                                     'srch_room_count':np.int32, 'srch_saturday_night_bool':np.int32,\n",
    "                                     'srch_query_affinity_score':np.float, 'orig_destination_distance':np.float,\n",
    "                                     'random_bool':np.int32, 'position':np.int32, 'click_bool':np.int32,\n",
    "                                     'booking_bool':np.int32, 'gross_bookings_usd':np.float})"
   ]
  },
  {
   "cell_type": "code",
   "execution_count": 3,
   "metadata": {},
   "outputs": [],
   "source": [
    "with open('testset.csv', 'r') as csvfile:\n",
    "    dfTest = pd.read_csv(csvfile, dtype={'booking_bool':np.int32,'srch_destination_id':np.int32, \n",
    "                                     'site_id':np.int32, 'visitor_location_country_id':np.int32,\n",
    "                                     'visitor_hist_starrating':np.float, 'visitor_hist_adr_usd':np.float,\n",
    "                                     'prop_country_id':np.int32, 'prop_id':np.int32, \n",
    "                                     'prop_starrating':np.int32, 'prop_review_score':np.float,\n",
    "                                     'prop_brand_bool':np.int32, 'prop_location_score1':np.float,\n",
    "                                     'prop_location_score2':np.float, 'prop_log_historical_price':np.float,\n",
    "                                     'price_usd':np.float, 'promotion_flag':np.int32,\\\n",
    "                                     'srch_length_of_stay':np.int32, 'srch_booking_window':np.int32,\n",
    "                                     'srch_adults_count':np.int32, 'srch_children_count':np.int32,\n",
    "                                     'srch_room_count':np.int32, 'srch_saturday_night_bool':np.int32,\n",
    "                                     'srch_query_affinity_score':np.float, 'orig_destination_distance':np.float,\n",
    "                                     'random_bool':np.int32})"
   ]
  },
  {
   "cell_type": "code",
   "execution_count": 12,
   "metadata": {},
   "outputs": [],
   "source": [
    "df = pd.read_csv('testset.csv')"
   ]
  },
  {
   "cell_type": "markdown",
   "metadata": {},
   "source": [
    "### Dates"
   ]
  },
  {
   "cell_type": "code",
   "execution_count": 4,
   "metadata": {},
   "outputs": [],
   "source": [
    "df[\"date_time\"] = pd.to_datetime(df[\"date_time\"])\n",
    "df[\"year\"] = df[\"date_time\"].dt.year\n",
    "df[\"month\"] = df[\"date_time\"].dt.month\n",
    "\n",
    "dfTest[\"date_time\"] = pd.to_datetime(dfTest[\"date_time\"])\n",
    "dfTest[\"year\"] = dfTest[\"date_time\"].dt.year\n",
    "dfTest[\"month\"] = dfTest[\"date_time\"].dt.month"
   ]
  },
  {
   "cell_type": "markdown",
   "metadata": {},
   "source": [
    "### Remove outliers price_usd"
   ]
  },
  {
   "cell_type": "code",
   "execution_count": 4,
   "metadata": {},
   "outputs": [],
   "source": [
    "# First without due to loss of values, maybe later with\n",
    "\n",
    "# top2point5 = df.price_usd.quantile(0.975)\n",
    "# low2point5 = df.price_usd.quantile(0.025)\n",
    "# df = df[df.price_usd < top2point5]\n",
    "# df = df[df.price_usd > low2point5]\n",
    "\n",
    "# top2point5test = dfTest.price_usd.quantile(0.975)\n",
    "# low2point5test = dfTest.price_usd.quantile(0.025)\n",
    "# dfTest = dfTest[df.price_usd < top2point5]\n",
    "# dfTest = dfTest[df.price_usd > low2point5]"
   ]
  },
  {
   "cell_type": "markdown",
   "metadata": {},
   "source": [
    "### Fill in missing values with worst case scenario"
   ]
  },
  {
   "cell_type": "code",
   "execution_count": 7,
   "metadata": {},
   "outputs": [],
   "source": [
    "df.prop_location_score2.loc[np.isnan(df.prop_location_score2)] = 0\n",
    "\n",
    "dfTest.prop_location_score2.loc[np.isnan(dfTest.prop_location_score2)] = 0"
   ]
  },
  {
   "cell_type": "code",
   "execution_count": 8,
   "metadata": {},
   "outputs": [],
   "source": [
    "df.visitor_hist_starrating.loc[np.isnan(df.visitor_hist_starrating)] = 0\n",
    "df.visitor_hist_adr_usd.loc[np.isnan(df.visitor_hist_adr_usd)] = 0\n",
    "\n",
    "dfTest.visitor_hist_starrating.loc[np.isnan(dfTest.visitor_hist_starrating)] = 0\n",
    "dfTest.visitor_hist_adr_usd.loc[np.isnan(dfTest.visitor_hist_adr_usd)] = 0"
   ]
  },
  {
   "cell_type": "code",
   "execution_count": 9,
   "metadata": {},
   "outputs": [],
   "source": [
    "df.orig_destination_distance[np.isnan(df.orig_destination_distance)] = 0 \n",
    "df.prop_review_score[np.isnan(df.prop_review_score)] = 0\n",
    "df.srch_query_affinity_score[np.isnan(df.srch_query_affinity_score)] = 0\n",
    "\n",
    "dfTest.orig_destination_distance[np.isnan(dfTest.orig_destination_distance)] = 0 \n",
    "dfTest.prop_review_score[np.isnan(dfTest.prop_review_score)] = 0\n",
    "dfTest.srch_query_affinity_score[np.isnan(dfTest.srch_query_affinity_score)] = 0"
   ]
  },
  {
   "cell_type": "code",
   "execution_count": 10,
   "metadata": {},
   "outputs": [],
   "source": [
    "df.iloc[:,27:51] = df.iloc[:,27:51].fillna(value = 0, axis = 0)\n",
    "\n",
    "dfTest.iloc[:,27:51] = dfTest.iloc[:,27:51].fillna(value = 0, axis = 0)"
   ]
  },
  {
   "cell_type": "markdown",
   "metadata": {},
   "source": [
    "### Composite features"
   ]
  },
  {
   "cell_type": "code",
   "execution_count": 11,
   "metadata": {
    "scrolled": true
   },
   "outputs": [],
   "source": [
    "df['prop_id_counts'] = df.groupby(['prop_id'])['prop_id'].transform('count')\n",
    "\n",
    "dfTest['prop_id_counts'] = dfTest.groupby(['prop_id'])['prop_id'].transform('count')"
   ]
  },
  {
   "cell_type": "code",
   "execution_count": 12,
   "metadata": {},
   "outputs": [],
   "source": [
    "df['usd_diff'] = abs(df.price_usd - df.visitor_hist_adr_usd)\n",
    "\n",
    "dfTest['usd_diff'] = abs(dfTest.price_usd - dfTest.visitor_hist_adr_usd)"
   ]
  },
  {
   "cell_type": "code",
   "execution_count": 13,
   "metadata": {},
   "outputs": [],
   "source": [
    "df['star_diff'] = abs(df.prop_starrating - df.visitor_hist_starrating) \n",
    "\n",
    "dfTest['star_diff'] = abs(dfTest.prop_starrating - dfTest.visitor_hist_starrating) "
   ]
  },
  {
   "cell_type": "code",
   "execution_count": 14,
   "metadata": {},
   "outputs": [],
   "source": [
    "df.prop_log_historical_price.loc[np.isnan(df.prop_log_historical_price)] = 0\n",
    "df['diff_hist_price'] = np.exp(df.prop_log_historical_price) - df.price_usd\n",
    "\n",
    "dfTest.prop_log_historical_price.loc[np.isnan(dfTest.prop_log_historical_price)] = 0\n",
    "dfTest['diff_hist_price'] = np.exp(dfTest.prop_log_historical_price) - dfTest.price_usd"
   ]
  },
  {
   "cell_type": "code",
   "execution_count": 15,
   "metadata": {},
   "outputs": [],
   "source": [
    "#Total price/per night\n",
    "df['total_price'] = df.price_usd * df.srch_room_count\n",
    "\n",
    "dfTest['total_price'] = dfTest.price_usd * dfTest.srch_room_count"
   ]
  },
  {
   "cell_type": "code",
   "execution_count": 16,
   "metadata": {},
   "outputs": [],
   "source": [
    "#Price per person\n",
    "df['price_per_pers'] = (df.price_usd * df.srch_room_count)/(df.srch_adults_count + df.srch_children_count)\n",
    "\n",
    "dfTest['price_per_pers'] = (dfTest.price_usd * dfTest.srch_room_count)/(dfTest.srch_adults_count + dfTest.srch_children_count)"
   ]
  },
  {
   "cell_type": "code",
   "execution_count": 17,
   "metadata": {},
   "outputs": [],
   "source": [
    "df['prop_score'] = (df.prop_location_score2 + 0.00001)/(df.prop_location_score1 + 0.00001)\n",
    "\n",
    "dfTest['prop_score'] = (dfTest.prop_location_score2 + 0.00001)/(dfTest.prop_location_score1 + 0.00001)"
   ]
  },
  {
   "cell_type": "code",
   "execution_count": 18,
   "metadata": {},
   "outputs": [],
   "source": [
    "df['nr_pers'] =  df.srch_adults_count + df.srch_children_count\n",
    "\n",
    "dfTest['nr_pers'] =  dfTest.srch_adults_count + dfTest.srch_children_count"
   ]
  },
  {
   "cell_type": "markdown",
   "metadata": {},
   "source": [
    "### Rank features"
   ]
  },
  {
   "cell_type": "code",
   "execution_count": 19,
   "metadata": {},
   "outputs": [],
   "source": [
    "df['price_rank'] = df.groupby('srch_id', sort=False)['price_usd'].rank(ascending=True, method =\"min\")\n",
    "df['stars_rank'] = df.groupby('srch_id', sort=False)['prop_starrating'].rank(ascending=True, method = \"min\")\n",
    "df['score_rank'] = df.groupby('srch_id', sort=False)['prop_location_score2'].rank(ascending=True, method = \"min\")\n",
    "\n",
    "dfTest['price_rank'] = dfTest.groupby('srch_id', sort=False)['price_usd'].rank(ascending=True, method =\"min\")\n",
    "dfTest['stars_rank'] = dfTest.groupby('srch_id', sort=False)['prop_starrating'].rank(ascending=True, method = \"min\")\n",
    "dfTest['score_rank'] = dfTest.groupby('srch_id', sort=False)['prop_location_score2'].rank(ascending=True, method = \"min\")"
   ]
  },
  {
   "cell_type": "markdown",
   "metadata": {},
   "source": [
    "### Estimate position:"
   ]
  },
  {
   "cell_type": "code",
   "execution_count": 18,
   "metadata": {},
   "outputs": [
    {
     "ename": "SyntaxError",
     "evalue": "invalid syntax (<ipython-input-18-ff7980ff934b>, line 1)",
     "output_type": "error",
     "traceback": [
      "\u001b[1;36m  File \u001b[1;32m\"<ipython-input-18-ff7980ff934b>\"\u001b[1;36m, line \u001b[1;32m1\u001b[0m\n\u001b[1;33m    print len(set(df.prop_id.unique()).intersection(set(dfTest.prop_id.unique())))\u001b[0m\n\u001b[1;37m            ^\u001b[0m\n\u001b[1;31mSyntaxError\u001b[0m\u001b[1;31m:\u001b[0m invalid syntax\n"
     ]
    }
   ],
   "source": [
    "print len(set(df.prop_id.unique()).intersection(set(dfTest.prop_id.unique())))\n",
    "print len(df.prop_id.unique()), len(dfTest.prop_id.unique())\n",
    "print len(set(dfTest.prop_id.unique()) - set(df.prop_id.unique()))\n"
   ]
  },
  {
   "cell_type": "code",
   "execution_count": 19,
   "metadata": {},
   "outputs": [],
   "source": [
    "# df['position_estimate'] = df.groupby(['prop_id','month','srch_destination_id'])['position'].transform(np.mean)\n",
    "# df.position_estimate = np.int32(df.position_estimate)\n",
    "\n",
    "# If working with NcDG this might influence the scores of properties on certain search parameters which may include noise"
   ]
  },
  {
   "cell_type": "code",
   "execution_count": 21,
   "metadata": {},
   "outputs": [
    {
     "ename": "SyntaxError",
     "evalue": "invalid syntax (<ipython-input-21-7cf4cceb0f77>, line 3)",
     "output_type": "error",
     "traceback": [
      "\u001b[1;36m  File \u001b[1;32m\"<ipython-input-21-7cf4cceb0f77>\"\u001b[1;36m, line \u001b[1;32m3\u001b[0m\n\u001b[1;33m    print mean_absolute_error(df.position,df.position_estimate)\u001b[0m\n\u001b[1;37m                            ^\u001b[0m\n\u001b[1;31mSyntaxError\u001b[0m\u001b[1;31m:\u001b[0m invalid syntax\n"
     ]
    }
   ],
   "source": [
    "#print df[['position','position_estimate']].head(100)\n",
    "from sklearn.metrics import mean_absolute_error\n",
    "print mean_absolute_error(df.position,df.position_estimate)"
   ]
  },
  {
   "cell_type": "code",
   "execution_count": 22,
   "metadata": {},
   "outputs": [],
   "source": [
    "header = ['srch_id','prop_country_id','year', 'month', 'prop_score','prop_location_score1','prop_location_score2','diff_hist_price',\n",
    "                'usd_diff', 'star_diff', 'srch_query_affinity_score', 'orig_destination_distance',\n",
    "                'prop_review_score','position','price_rank','stars_rank','score_rank', 'booking_bool', 'click_bool', 'price_per_pers',\n",
    "        'random_bool', 'price_usd', 'total_price', 'nr_pers','prop_id_counts', 'comp2_rate', 'comp5_rate','comp8_rate']"
   ]
  },
  {
   "cell_type": "code",
   "execution_count": 23,
   "metadata": {},
   "outputs": [],
   "source": [
    "df.to_csv('new_train.csv', columns = header)"
   ]
  },
  {
   "cell_type": "code",
   "execution_count": 29,
   "metadata": {
    "scrolled": true
   },
   "outputs": [
    {
     "ename": "AttributeError",
     "evalue": "'DataFrame' object has no attribute 'position_estimate'",
     "output_type": "error",
     "traceback": [
      "\u001b[1;31m---------------------------------------------------------------------------\u001b[0m",
      "\u001b[1;31mAttributeError\u001b[0m                            Traceback (most recent call last)",
      "\u001b[1;32m<ipython-input-29-cab8cc176606>\u001b[0m in \u001b[0;36m<module>\u001b[1;34m()\u001b[0m\n\u001b[1;32m----> 1\u001b[1;33m \u001b[0mdf\u001b[0m\u001b[1;33m.\u001b[0m\u001b[0mposition_estimate\u001b[0m\u001b[1;33m.\u001b[0m\u001b[0misnull\u001b[0m\u001b[1;33m(\u001b[0m\u001b[1;33m)\u001b[0m\u001b[1;33m.\u001b[0m\u001b[0many\u001b[0m\u001b[1;33m(\u001b[0m\u001b[1;33m)\u001b[0m\u001b[1;33m\u001b[0m\u001b[0m\n\u001b[0m",
      "\u001b[1;32m~\\Miniconda3\\lib\\site-packages\\pandas\\core\\generic.py\u001b[0m in \u001b[0;36m__getattr__\u001b[1;34m(self, name)\u001b[0m\n\u001b[0;32m   3612\u001b[0m             \u001b[1;32mif\u001b[0m \u001b[0mname\u001b[0m \u001b[1;32min\u001b[0m \u001b[0mself\u001b[0m\u001b[1;33m.\u001b[0m\u001b[0m_info_axis\u001b[0m\u001b[1;33m:\u001b[0m\u001b[1;33m\u001b[0m\u001b[0m\n\u001b[0;32m   3613\u001b[0m                 \u001b[1;32mreturn\u001b[0m \u001b[0mself\u001b[0m\u001b[1;33m[\u001b[0m\u001b[0mname\u001b[0m\u001b[1;33m]\u001b[0m\u001b[1;33m\u001b[0m\u001b[0m\n\u001b[1;32m-> 3614\u001b[1;33m             \u001b[1;32mreturn\u001b[0m \u001b[0mobject\u001b[0m\u001b[1;33m.\u001b[0m\u001b[0m__getattribute__\u001b[0m\u001b[1;33m(\u001b[0m\u001b[0mself\u001b[0m\u001b[1;33m,\u001b[0m \u001b[0mname\u001b[0m\u001b[1;33m)\u001b[0m\u001b[1;33m\u001b[0m\u001b[0m\n\u001b[0m\u001b[0;32m   3615\u001b[0m \u001b[1;33m\u001b[0m\u001b[0m\n\u001b[0;32m   3616\u001b[0m     \u001b[1;32mdef\u001b[0m \u001b[0m__setattr__\u001b[0m\u001b[1;33m(\u001b[0m\u001b[0mself\u001b[0m\u001b[1;33m,\u001b[0m \u001b[0mname\u001b[0m\u001b[1;33m,\u001b[0m \u001b[0mvalue\u001b[0m\u001b[1;33m)\u001b[0m\u001b[1;33m:\u001b[0m\u001b[1;33m\u001b[0m\u001b[0m\n",
      "\u001b[1;31mAttributeError\u001b[0m: 'DataFrame' object has no attribute 'position_estimate'"
     ]
    }
   ],
   "source": [
    "df.position_estimate.isnull().any()"
   ]
  },
  {
   "cell_type": "code",
   "execution_count": 23,
   "metadata": {},
   "outputs": [],
   "source": [
    "header = ['srch_id','prop_country_id','year', 'month', 'prop_score','prop_location_score1','prop_location_score2','diff_hist_price',\n",
    "                'usd_diff', 'prop_id', 'star_diff', 'srch_query_affinity_score', 'orig_destination_distance', 'prop_brand_bool',\n",
    "                'prop_review_score','position','price_rank','stars_rank','score_rank', 'booking_bool', 'click_bool', 'price_per_pers',\n",
    "        'random_bool', 'price_usd', 'total_price', 'nr_pers','prop_id_counts', 'comp2_rate', 'comp5_rate','comp8_rate']\n",
    "header2 = ['srch_id','prop_country_id','year', 'month', 'prop_score','prop_location_score1','prop_location_score2','diff_hist_price',\n",
    "                'usd_diff', 'prop_id', 'star_diff', 'srch_query_affinity_score', 'orig_destination_distance', 'prop_brand_bool',\n",
    "                'prop_review_score','price_rank','stars_rank','score_rank','price_per_pers',\n",
    "        'random_bool', 'price_usd', 'total_price', 'nr_pers','prop_id_counts', 'comp2_rate', 'comp5_rate','comp8_rate']"
   ]
  },
  {
   "cell_type": "code",
   "execution_count": 6,
   "metadata": {},
   "outputs": [],
   "source": [
    "# df.to_csv('train3.csv', columns = header)\n",
    "# dfTest.to_csv('test3.csv', columns = header2)\n",
    "df.to_csv('target3.csv', columns = ['position', 'rank_rel'] )"
   ]
  },
  {
   "cell_type": "code",
   "execution_count": 7,
   "metadata": {},
   "outputs": [
    {
     "data": {
      "text/plain": [
       "(4958347, 55)"
      ]
     },
     "execution_count": 7,
     "metadata": {},
     "output_type": "execute_result"
    }
   ],
   "source": [
    "df.shape"
   ]
  },
  {
   "cell_type": "code",
   "execution_count": null,
   "metadata": {},
   "outputs": [],
   "source": []
  },
  {
   "cell_type": "code",
   "execution_count": 20,
   "metadata": {},
   "outputs": [
    {
     "name": "stdout",
     "output_type": "stream",
     "text": [
      "Index([u'srch_id', u'date_time', u'site_id', u'visitor_location_country_id',\n",
      "       u'visitor_hist_starrating', u'visitor_hist_adr_usd', u'prop_country_id',\n",
      "       u'prop_id', u'prop_starrating', u'prop_review_score',\n",
      "       u'prop_brand_bool', u'prop_location_score1', u'prop_location_score2',\n",
      "       u'prop_log_historical_price', u'position', u'price_usd',\n",
      "       u'promotion_flag', u'srch_destination_id', u'srch_length_of_stay',\n",
      "       u'srch_booking_window', u'srch_adults_count', u'srch_children_count',\n",
      "       u'srch_room_count', u'srch_saturday_night_bool',\n",
      "       u'srch_query_affinity_score', u'orig_destination_distance',\n",
      "       u'random_bool', u'comp1_rate', u'comp1_inv', u'comp1_rate_percent_diff',\n",
      "       u'comp2_rate', u'comp2_inv', u'comp2_rate_percent_diff', u'comp3_rate',\n",
      "       u'comp3_inv', u'comp3_rate_percent_diff', u'comp4_rate', u'comp4_inv',\n",
      "       u'comp4_rate_percent_diff', u'comp5_rate', u'comp5_inv',\n",
      "       u'comp5_rate_percent_diff', u'comp6_rate', u'comp6_inv',\n",
      "       u'comp6_rate_percent_diff', u'comp7_rate', u'comp7_inv',\n",
      "       u'comp7_rate_percent_diff', u'comp8_rate', u'comp8_inv',\n",
      "       u'comp8_rate_percent_diff', u'click_bool', u'gross_bookings_usd',\n",
      "       u'booking_bool', u'year', u'month', u'prop_id_counts', u'usd_diff',\n",
      "       u'star_diff', u'diff_hist_price', u'total_price', u'price_per_pers',\n",
      "       u'prop_score', u'nr_pers', u'price_rank', u'stars_rank', u'score_rank'],\n",
      "      dtype='object')\n",
      "Index([u'srch_id', u'date_time', u'site_id', u'visitor_location_country_id',\n",
      "       u'visitor_hist_starrating', u'visitor_hist_adr_usd', u'prop_country_id',\n",
      "       u'prop_id', u'prop_starrating', u'prop_review_score',\n",
      "       u'prop_brand_bool', u'prop_location_score1', u'prop_location_score2',\n",
      "       u'prop_log_historical_price', u'price_usd', u'promotion_flag',\n",
      "       u'srch_destination_id', u'srch_length_of_stay', u'srch_booking_window',\n",
      "       u'srch_adults_count', u'srch_children_count', u'srch_room_count',\n",
      "       u'srch_saturday_night_bool', u'srch_query_affinity_score',\n",
      "       u'orig_destination_distance', u'random_bool', u'comp1_rate',\n",
      "       u'comp1_inv', u'comp1_rate_percent_diff', u'comp2_rate', u'comp2_inv',\n",
      "       u'comp2_rate_percent_diff', u'comp3_rate', u'comp3_inv',\n",
      "       u'comp3_rate_percent_diff', u'comp4_rate', u'comp4_inv',\n",
      "       u'comp4_rate_percent_diff', u'comp5_rate', u'comp5_inv',\n",
      "       u'comp5_rate_percent_diff', u'comp6_rate', u'comp6_inv',\n",
      "       u'comp6_rate_percent_diff', u'comp7_rate', u'comp7_inv',\n",
      "       u'comp7_rate_percent_diff', u'comp8_rate', u'comp8_inv',\n",
      "       u'comp8_rate_percent_diff', u'year', u'month', u'prop_id_counts',\n",
      "       u'usd_diff', u'star_diff', u'diff_hist_price', u'total_price',\n",
      "       u'price_per_pers', u'prop_score', u'nr_pers', u'price_rank',\n",
      "       u'stars_rank', u'score_rank'],\n",
      "      dtype='object')\n"
     ]
    }
   ],
   "source": [
    "print df.columns\n",
    "print dfTest.columns"
   ]
  },
  {
   "cell_type": "code",
   "execution_count": null,
   "metadata": {},
   "outputs": [],
   "source": [
    "df = df.drop(['date_time', axis=1)\n",
    "dfTest = dfTest.drop('date_time', axis = 1)"
   ]
  },
  {
   "cell_type": "markdown",
   "metadata": {},
   "source": [
    "['srch_id','prop_country_id','year', 'month', 'prop_score','prop_location_score1','prop_location_score2','diff_hist_price',\n",
    "                'usd_diff', 'star_diff', 'srch_query_affinity_score', 'orig_destination_distance',\n",
    "                'prop_review_score','position','price_rank','stars_rank','score_rank', 'booking_bool', 'click_bool', 'price_per_pers',\n",
    "        'random_bool', 'price_usd', 'total_price', 'nr_pers','prop_id_counts', 'comp2_rate', 'comp5_rate','comp8_rate']"
   ]
  },
  {
   "cell_type": "code",
   "execution_count": null,
   "metadata": {},
   "outputs": [],
   "source": []
  },
  {
   "cell_type": "code",
   "execution_count": null,
   "metadata": {},
   "outputs": [],
   "source": []
  },
  {
   "cell_type": "code",
   "execution_count": null,
   "metadata": {},
   "outputs": [],
   "source": []
  },
  {
   "cell_type": "markdown",
   "metadata": {},
   "source": [
    "### NDCG formula:"
   ]
  },
  {
   "cell_type": "code",
   "execution_count": 4,
   "metadata": {},
   "outputs": [],
   "source": [
    "df['rank_rel'] = np.zeros(len(df))\n",
    "df['rank_rel'] = np.where(df.click_bool == 1, 1, df.rank_rel)\n",
    "df['rank_rel'] = np.where(df.booking_bool == 1, 5, df.rank_rel)\n",
    "\n",
    "# df['ndcgscore'] = ((2**df.ndcg - 1) / (np.log2(df.position + 1)))"
   ]
  },
  {
   "cell_type": "code",
   "execution_count": 25,
   "metadata": {},
   "outputs": [
    {
     "data": {
      "text/plain": [
       "0          0.0\n",
       "1          0.0\n",
       "2          0.0\n",
       "3          0.0\n",
       "4          0.0\n",
       "5          0.0\n",
       "6          0.0\n",
       "7          0.0\n",
       "8          0.0\n",
       "9          0.0\n",
       "10         0.0\n",
       "11         0.0\n",
       "12         5.0\n",
       "13         0.0\n",
       "14         0.0\n",
       "15         0.0\n",
       "16         0.0\n",
       "17         0.0\n",
       "18         0.0\n",
       "19         0.0\n",
       "20         0.0\n",
       "21         0.0\n",
       "22         0.0\n",
       "23         0.0\n",
       "24         0.0\n",
       "25         0.0\n",
       "26         0.0\n",
       "27         0.0\n",
       "28         0.0\n",
       "29         0.0\n",
       "          ... \n",
       "4958317    0.0\n",
       "4958318    0.0\n",
       "4958319    0.0\n",
       "4958320    0.0\n",
       "4958321    5.0\n",
       "4958322    0.0\n",
       "4958323    0.0\n",
       "4958324    0.0\n",
       "4958325    0.0\n",
       "4958326    0.0\n",
       "4958327    0.0\n",
       "4958328    0.0\n",
       "4958329    0.0\n",
       "4958330    0.0\n",
       "4958331    0.0\n",
       "4958332    0.0\n",
       "4958333    0.0\n",
       "4958334    0.0\n",
       "4958335    0.0\n",
       "4958336    0.0\n",
       "4958337    0.0\n",
       "4958338    0.0\n",
       "4958339    0.0\n",
       "4958340    0.0\n",
       "4958341    0.0\n",
       "4958342    0.0\n",
       "4958343    0.0\n",
       "4958344    0.0\n",
       "4958345    5.0\n",
       "4958346    0.0\n",
       "Name: ndcg, Length: 4958347, dtype: float64"
      ]
     },
     "execution_count": 25,
     "metadata": {},
     "output_type": "execute_result"
    }
   ],
   "source": [
    "df.ndcg"
   ]
  },
  {
   "cell_type": "code",
   "execution_count": 36,
   "metadata": {},
   "outputs": [],
   "source": [
    "df.to_csv('test2.csv')"
   ]
  },
  {
   "cell_type": "code",
   "execution_count": 41,
   "metadata": {
    "collapsed": true
   },
   "outputs": [
    {
     "data": {
      "text/html": [
       "<div>\n",
       "<style scoped>\n",
       "    .dataframe tbody tr th:only-of-type {\n",
       "        vertical-align: middle;\n",
       "    }\n",
       "\n",
       "    .dataframe tbody tr th {\n",
       "        vertical-align: top;\n",
       "    }\n",
       "\n",
       "    .dataframe thead th {\n",
       "        text-align: right;\n",
       "    }\n",
       "</style>\n",
       "<table border=\"1\" class=\"dataframe\">\n",
       "  <thead>\n",
       "    <tr style=\"text-align: right;\">\n",
       "      <th></th>\n",
       "      <th>ndcg</th>\n",
       "      <th>ndcgscore</th>\n",
       "    </tr>\n",
       "  </thead>\n",
       "  <tbody>\n",
       "    <tr>\n",
       "      <th>0</th>\n",
       "      <td>0.0</td>\n",
       "      <td>0.000000</td>\n",
       "    </tr>\n",
       "    <tr>\n",
       "      <th>1</th>\n",
       "      <td>0.0</td>\n",
       "      <td>0.000000</td>\n",
       "    </tr>\n",
       "    <tr>\n",
       "      <th>2</th>\n",
       "      <td>0.0</td>\n",
       "      <td>0.000000</td>\n",
       "    </tr>\n",
       "    <tr>\n",
       "      <th>3</th>\n",
       "      <td>0.0</td>\n",
       "      <td>0.000000</td>\n",
       "    </tr>\n",
       "    <tr>\n",
       "      <th>4</th>\n",
       "      <td>0.0</td>\n",
       "      <td>0.000000</td>\n",
       "    </tr>\n",
       "    <tr>\n",
       "      <th>5</th>\n",
       "      <td>0.0</td>\n",
       "      <td>0.000000</td>\n",
       "    </tr>\n",
       "    <tr>\n",
       "      <th>6</th>\n",
       "      <td>0.0</td>\n",
       "      <td>0.000000</td>\n",
       "    </tr>\n",
       "    <tr>\n",
       "      <th>7</th>\n",
       "      <td>0.0</td>\n",
       "      <td>0.000000</td>\n",
       "    </tr>\n",
       "    <tr>\n",
       "      <th>8</th>\n",
       "      <td>0.0</td>\n",
       "      <td>0.000000</td>\n",
       "    </tr>\n",
       "    <tr>\n",
       "      <th>9</th>\n",
       "      <td>0.0</td>\n",
       "      <td>0.000000</td>\n",
       "    </tr>\n",
       "    <tr>\n",
       "      <th>10</th>\n",
       "      <td>0.0</td>\n",
       "      <td>0.000000</td>\n",
       "    </tr>\n",
       "    <tr>\n",
       "      <th>11</th>\n",
       "      <td>0.0</td>\n",
       "      <td>0.000000</td>\n",
       "    </tr>\n",
       "    <tr>\n",
       "      <th>12</th>\n",
       "      <td>5.0</td>\n",
       "      <td>8.142136</td>\n",
       "    </tr>\n",
       "    <tr>\n",
       "      <th>13</th>\n",
       "      <td>0.0</td>\n",
       "      <td>0.000000</td>\n",
       "    </tr>\n",
       "    <tr>\n",
       "      <th>14</th>\n",
       "      <td>0.0</td>\n",
       "      <td>0.000000</td>\n",
       "    </tr>\n",
       "    <tr>\n",
       "      <th>15</th>\n",
       "      <td>0.0</td>\n",
       "      <td>0.000000</td>\n",
       "    </tr>\n",
       "    <tr>\n",
       "      <th>16</th>\n",
       "      <td>0.0</td>\n",
       "      <td>0.000000</td>\n",
       "    </tr>\n",
       "    <tr>\n",
       "      <th>17</th>\n",
       "      <td>0.0</td>\n",
       "      <td>0.000000</td>\n",
       "    </tr>\n",
       "    <tr>\n",
       "      <th>18</th>\n",
       "      <td>0.0</td>\n",
       "      <td>0.000000</td>\n",
       "    </tr>\n",
       "    <tr>\n",
       "      <th>19</th>\n",
       "      <td>0.0</td>\n",
       "      <td>0.000000</td>\n",
       "    </tr>\n",
       "    <tr>\n",
       "      <th>20</th>\n",
       "      <td>0.0</td>\n",
       "      <td>0.000000</td>\n",
       "    </tr>\n",
       "    <tr>\n",
       "      <th>21</th>\n",
       "      <td>0.0</td>\n",
       "      <td>0.000000</td>\n",
       "    </tr>\n",
       "    <tr>\n",
       "      <th>22</th>\n",
       "      <td>0.0</td>\n",
       "      <td>0.000000</td>\n",
       "    </tr>\n",
       "    <tr>\n",
       "      <th>23</th>\n",
       "      <td>0.0</td>\n",
       "      <td>0.000000</td>\n",
       "    </tr>\n",
       "    <tr>\n",
       "      <th>24</th>\n",
       "      <td>0.0</td>\n",
       "      <td>0.000000</td>\n",
       "    </tr>\n",
       "    <tr>\n",
       "      <th>25</th>\n",
       "      <td>0.0</td>\n",
       "      <td>0.000000</td>\n",
       "    </tr>\n",
       "    <tr>\n",
       "      <th>26</th>\n",
       "      <td>0.0</td>\n",
       "      <td>0.000000</td>\n",
       "    </tr>\n",
       "    <tr>\n",
       "      <th>27</th>\n",
       "      <td>0.0</td>\n",
       "      <td>0.000000</td>\n",
       "    </tr>\n",
       "    <tr>\n",
       "      <th>28</th>\n",
       "      <td>0.0</td>\n",
       "      <td>0.000000</td>\n",
       "    </tr>\n",
       "    <tr>\n",
       "      <th>29</th>\n",
       "      <td>0.0</td>\n",
       "      <td>0.000000</td>\n",
       "    </tr>\n",
       "    <tr>\n",
       "      <th>...</th>\n",
       "      <td>...</td>\n",
       "      <td>...</td>\n",
       "    </tr>\n",
       "    <tr>\n",
       "      <th>4958317</th>\n",
       "      <td>0.0</td>\n",
       "      <td>0.000000</td>\n",
       "    </tr>\n",
       "    <tr>\n",
       "      <th>4958318</th>\n",
       "      <td>0.0</td>\n",
       "      <td>0.000000</td>\n",
       "    </tr>\n",
       "    <tr>\n",
       "      <th>4958319</th>\n",
       "      <td>0.0</td>\n",
       "      <td>0.000000</td>\n",
       "    </tr>\n",
       "    <tr>\n",
       "      <th>4958320</th>\n",
       "      <td>0.0</td>\n",
       "      <td>0.000000</td>\n",
       "    </tr>\n",
       "    <tr>\n",
       "      <th>4958321</th>\n",
       "      <td>5.0</td>\n",
       "      <td>15.500000</td>\n",
       "    </tr>\n",
       "    <tr>\n",
       "      <th>4958322</th>\n",
       "      <td>0.0</td>\n",
       "      <td>0.000000</td>\n",
       "    </tr>\n",
       "    <tr>\n",
       "      <th>4958323</th>\n",
       "      <td>0.0</td>\n",
       "      <td>0.000000</td>\n",
       "    </tr>\n",
       "    <tr>\n",
       "      <th>4958324</th>\n",
       "      <td>0.0</td>\n",
       "      <td>0.000000</td>\n",
       "    </tr>\n",
       "    <tr>\n",
       "      <th>4958325</th>\n",
       "      <td>0.0</td>\n",
       "      <td>0.000000</td>\n",
       "    </tr>\n",
       "    <tr>\n",
       "      <th>4958326</th>\n",
       "      <td>0.0</td>\n",
       "      <td>0.000000</td>\n",
       "    </tr>\n",
       "    <tr>\n",
       "      <th>4958327</th>\n",
       "      <td>0.0</td>\n",
       "      <td>0.000000</td>\n",
       "    </tr>\n",
       "    <tr>\n",
       "      <th>4958328</th>\n",
       "      <td>0.0</td>\n",
       "      <td>0.000000</td>\n",
       "    </tr>\n",
       "    <tr>\n",
       "      <th>4958329</th>\n",
       "      <td>0.0</td>\n",
       "      <td>0.000000</td>\n",
       "    </tr>\n",
       "    <tr>\n",
       "      <th>4958330</th>\n",
       "      <td>0.0</td>\n",
       "      <td>0.000000</td>\n",
       "    </tr>\n",
       "    <tr>\n",
       "      <th>4958331</th>\n",
       "      <td>0.0</td>\n",
       "      <td>0.000000</td>\n",
       "    </tr>\n",
       "    <tr>\n",
       "      <th>4958332</th>\n",
       "      <td>0.0</td>\n",
       "      <td>0.000000</td>\n",
       "    </tr>\n",
       "    <tr>\n",
       "      <th>4958333</th>\n",
       "      <td>0.0</td>\n",
       "      <td>0.000000</td>\n",
       "    </tr>\n",
       "    <tr>\n",
       "      <th>4958334</th>\n",
       "      <td>0.0</td>\n",
       "      <td>0.000000</td>\n",
       "    </tr>\n",
       "    <tr>\n",
       "      <th>4958335</th>\n",
       "      <td>0.0</td>\n",
       "      <td>0.000000</td>\n",
       "    </tr>\n",
       "    <tr>\n",
       "      <th>4958336</th>\n",
       "      <td>0.0</td>\n",
       "      <td>0.000000</td>\n",
       "    </tr>\n",
       "    <tr>\n",
       "      <th>4958337</th>\n",
       "      <td>0.0</td>\n",
       "      <td>0.000000</td>\n",
       "    </tr>\n",
       "    <tr>\n",
       "      <th>4958338</th>\n",
       "      <td>0.0</td>\n",
       "      <td>0.000000</td>\n",
       "    </tr>\n",
       "    <tr>\n",
       "      <th>4958339</th>\n",
       "      <td>0.0</td>\n",
       "      <td>0.000000</td>\n",
       "    </tr>\n",
       "    <tr>\n",
       "      <th>4958340</th>\n",
       "      <td>0.0</td>\n",
       "      <td>0.000000</td>\n",
       "    </tr>\n",
       "    <tr>\n",
       "      <th>4958341</th>\n",
       "      <td>0.0</td>\n",
       "      <td>0.000000</td>\n",
       "    </tr>\n",
       "    <tr>\n",
       "      <th>4958342</th>\n",
       "      <td>0.0</td>\n",
       "      <td>0.000000</td>\n",
       "    </tr>\n",
       "    <tr>\n",
       "      <th>4958343</th>\n",
       "      <td>0.0</td>\n",
       "      <td>0.000000</td>\n",
       "    </tr>\n",
       "    <tr>\n",
       "      <th>4958344</th>\n",
       "      <td>0.0</td>\n",
       "      <td>0.000000</td>\n",
       "    </tr>\n",
       "    <tr>\n",
       "      <th>4958345</th>\n",
       "      <td>5.0</td>\n",
       "      <td>31.000000</td>\n",
       "    </tr>\n",
       "    <tr>\n",
       "      <th>4958346</th>\n",
       "      <td>0.0</td>\n",
       "      <td>0.000000</td>\n",
       "    </tr>\n",
       "  </tbody>\n",
       "</table>\n",
       "<p>4958347 rows × 2 columns</p>\n",
       "</div>"
      ],
      "text/plain": [
       "         ndcg  ndcgscore\n",
       "0         0.0   0.000000\n",
       "1         0.0   0.000000\n",
       "2         0.0   0.000000\n",
       "3         0.0   0.000000\n",
       "4         0.0   0.000000\n",
       "5         0.0   0.000000\n",
       "6         0.0   0.000000\n",
       "7         0.0   0.000000\n",
       "8         0.0   0.000000\n",
       "9         0.0   0.000000\n",
       "10        0.0   0.000000\n",
       "11        0.0   0.000000\n",
       "12        5.0   8.142136\n",
       "13        0.0   0.000000\n",
       "14        0.0   0.000000\n",
       "15        0.0   0.000000\n",
       "16        0.0   0.000000\n",
       "17        0.0   0.000000\n",
       "18        0.0   0.000000\n",
       "19        0.0   0.000000\n",
       "20        0.0   0.000000\n",
       "21        0.0   0.000000\n",
       "22        0.0   0.000000\n",
       "23        0.0   0.000000\n",
       "24        0.0   0.000000\n",
       "25        0.0   0.000000\n",
       "26        0.0   0.000000\n",
       "27        0.0   0.000000\n",
       "28        0.0   0.000000\n",
       "29        0.0   0.000000\n",
       "...       ...        ...\n",
       "4958317   0.0   0.000000\n",
       "4958318   0.0   0.000000\n",
       "4958319   0.0   0.000000\n",
       "4958320   0.0   0.000000\n",
       "4958321   5.0  15.500000\n",
       "4958322   0.0   0.000000\n",
       "4958323   0.0   0.000000\n",
       "4958324   0.0   0.000000\n",
       "4958325   0.0   0.000000\n",
       "4958326   0.0   0.000000\n",
       "4958327   0.0   0.000000\n",
       "4958328   0.0   0.000000\n",
       "4958329   0.0   0.000000\n",
       "4958330   0.0   0.000000\n",
       "4958331   0.0   0.000000\n",
       "4958332   0.0   0.000000\n",
       "4958333   0.0   0.000000\n",
       "4958334   0.0   0.000000\n",
       "4958335   0.0   0.000000\n",
       "4958336   0.0   0.000000\n",
       "4958337   0.0   0.000000\n",
       "4958338   0.0   0.000000\n",
       "4958339   0.0   0.000000\n",
       "4958340   0.0   0.000000\n",
       "4958341   0.0   0.000000\n",
       "4958342   0.0   0.000000\n",
       "4958343   0.0   0.000000\n",
       "4958344   0.0   0.000000\n",
       "4958345   5.0  31.000000\n",
       "4958346   0.0   0.000000\n",
       "\n",
       "[4958347 rows x 2 columns]"
      ]
     },
     "execution_count": 41,
     "metadata": {},
     "output_type": "execute_result"
    }
   ],
   "source": [
    "df.groupby(['srch_id', 'position'])['ndcg', 'ndcgscore']"
   ]
  },
  {
   "cell_type": "markdown",
   "metadata": {},
   "source": [
    "Per search_id ncdg berekenen\n",
    "\n",
    "Steps:\n",
    "column with count of srch_id items\n"
   ]
  },
  {
   "cell_type": "code",
   "execution_count": null,
   "metadata": {},
   "outputs": [],
   "source": [
    "df.groupby('srch_id').a"
   ]
  },
  {
   "cell_type": "code",
   "execution_count": null,
   "metadata": {},
   "outputs": [],
   "source": [
    "for i in df.srch_id.unique():\n",
    "    ncdg(srch_id)\n",
    "\n",
    "def ncdg(srch_id):\n",
    "    number_of_instances = df.srch_id[srch_id].count()\n",
    "    \n",
    "    \n",
    "    \n",
    "    \n",
    "    \n",
    "    \n",
    "    return "
   ]
  },
  {
   "cell_type": "code",
   "execution_count": null,
   "metadata": {},
   "outputs": [],
   "source": [
    "df.srch"
   ]
  },
  {
   "cell_type": "code",
   "execution_count": null,
   "metadata": {},
   "outputs": [],
   "source": []
  },
  {
   "cell_type": "code",
   "execution_count": 32,
   "metadata": {},
   "outputs": [
    {
     "data": {
      "text/plain": [
       "Index(['Unnamed: 0', 'srch_id', 'prop_country_id', 'year', 'month',\n",
       "       'prop_score', 'prop_location_score1', 'prop_location_score2',\n",
       "       'diff_hist_price', 'usd_diff', 'star_diff', 'srch_query_affinity_score',\n",
       "       'orig_destination_distance', 'prop_review_score', 'position',\n",
       "       'price_rank', 'stars_rank', 'score_rank', 'booking_bool', 'click_bool',\n",
       "       'price_per_pers', 'random_bool', 'price_usd', 'total_price', 'nr_pers',\n",
       "       'prop_id_counts', 'comp2_rate', 'comp5_rate', 'comp8_rate', 'ndcg'],\n",
       "      dtype='object')"
      ]
     },
     "execution_count": 32,
     "metadata": {},
     "output_type": "execute_result"
    }
   ],
   "source": [
    "df2 = pd.read_csv('train2.csv')\n",
    "df2.columns"
   ]
  },
  {
   "cell_type": "code",
   "execution_count": 35,
   "metadata": {},
   "outputs": [
    {
     "data": {
      "text/plain": [
       "Index(['srch_id', 'prop_country_id', 'year', 'month', 'prop_score',\n",
       "       'prop_location_score1', 'prop_location_score2', 'diff_hist_price',\n",
       "       'usd_diff', 'star_diff', 'srch_query_affinity_score',\n",
       "       'orig_destination_distance', 'prop_review_score', 'price_rank',\n",
       "       'stars_rank', 'score_rank', 'price_per_pers', 'random_bool',\n",
       "       'price_usd', 'total_price', 'nr_pers', 'prop_id_counts', 'comp2_rate',\n",
       "       'comp5_rate', 'comp8_rate', 'ndcg'],\n",
       "      dtype='object')"
      ]
     },
     "execution_count": 35,
     "metadata": {},
     "output_type": "execute_result"
    }
   ],
   "source": [
    "df.columns"
   ]
  },
  {
   "cell_type": "code",
   "execution_count": null,
   "metadata": {},
   "outputs": [],
   "source": []
  },
  {
   "cell_type": "code",
   "execution_count": null,
   "metadata": {},
   "outputs": [],
   "source": []
  },
  {
   "cell_type": "code",
   "execution_count": null,
   "metadata": {},
   "outputs": [],
   "source": []
  },
  {
   "cell_type": "code",
   "execution_count": null,
   "metadata": {},
   "outputs": [],
   "source": []
  },
  {
   "cell_type": "code",
   "execution_count": null,
   "metadata": {},
   "outputs": [],
   "source": []
  },
  {
   "cell_type": "code",
   "execution_count": null,
   "metadata": {},
   "outputs": [],
   "source": []
  },
  {
   "cell_type": "code",
   "execution_count": null,
   "metadata": {},
   "outputs": [],
   "source": []
  },
  {
   "cell_type": "markdown",
   "metadata": {},
   "source": [
    "Computing NcDG\n",
    "\n",
    "So position"
   ]
  },
  {
   "cell_type": "code",
   "execution_count": null,
   "metadata": {},
   "outputs": [],
   "source": [
    "df['ncdg_rankingvalue'] = np.zeros(len(df))\n",
    "df['ncdg_rankingvalue'] = np.where(df['click_bool'] == 1, 1, df['ncdg_rankingvalue'])\n",
    "df['ncdg_rankingvalue'] = np.where(df['booking_bool'] == 1, 5, df['ncdg_rankingvalue'])"
   ]
  },
  {
   "cell_type": "code",
   "execution_count": null,
   "metadata": {},
   "outputs": [],
   "source": [
    "dfsimpletest = df.sample(frac=0.1)"
   ]
  },
  {
   "cell_type": "code",
   "execution_count": null,
   "metadata": {},
   "outputs": [],
   "source": [
    "dfsimpletarget = dfsimpletest[['position', 'ncdg_rankingvalue']]"
   ]
  },
  {
   "cell_type": "code",
   "execution_count": null,
   "metadata": {},
   "outputs": [],
   "source": [
    "dfsimpletest = dfsimpletest.drop(['position', 'ncdg_rankingvalue'], axis =1)"
   ]
  },
  {
   "cell_type": "code",
   "execution_count": null,
   "metadata": {},
   "outputs": [],
   "source": [
    "dfsimpletest = dfsimpletest.drop('date_time', axis =1)"
   ]
  },
  {
   "cell_type": "markdown",
   "metadata": {},
   "source": [
    "### Rankpy"
   ]
  },
  {
   "cell_type": "markdown",
   "metadata": {},
   "source": [
    "Need.\n",
    "Trainingset, excluding position, click_bool, booking_bool, gross_bookings_usd, date_time\n",
    "\n",
    "Validation set, containing single NCDG values derived from position, click_bool, booking_bool\n",
    "\n",
    "Test set, same columns as trainingset with same transformations\n",
    "\n",
    "All files need to be saved to txt format"
   ]
  },
  {
   "cell_type": "code",
   "execution_count": null,
   "metadata": {},
   "outputs": [],
   "source": [
    "import pandas as pd\n",
    "import numpy as np\n",
    "import logging\n",
    "from rankpy.queries import Queries\n",
    "from rankpy.queries import find_constant_features\n",
    "from rankpy.models import LambdaMART"
   ]
  },
  {
   "cell_type": "code",
   "execution_count": null,
   "metadata": {},
   "outputs": [],
   "source": [
    "# Turn on logging.\n",
    "logging.basicConfig(format='%(asctime)s : %(message)s', level=logging.INFO)\n",
    "\n",
    "# Load the query datasets.\n",
    "training_queries = Queries.load_from_text('data/MQ2007/Fold1/train.txt')\n",
    "validation_queries = Queries.load_from_text('data/MQ2007/Fold1/vali.txt')\n",
    "test_queries = Queries.load_from_text('data/MQ2007/Fold1/test.txt')\n",
    "\n",
    "logging.info('================================================================================')\n",
    "\n",
    "# Save them to binary format ...\n",
    "training_queries.save('data/MQ2007/Fold1/training')\n",
    "validation_queries.save('data/MQ2007/Fold1/validation')\n",
    "test_queries.save('data/MQ2007/Fold1/test')\n",
    "\n",
    "# ... because loading them will be then faster.\n",
    "training_queries = Queries.load('data/MQ2007/Fold1/training')\n",
    "validation_queries = Queries.load('data/MQ2007/Fold1/validation')\n",
    "test_queries = Queries.load('data/MQ2007/Fold1/test')\n",
    "\n",
    "logging.info('================================================================================')\n",
    "\n",
    "# Print basic info about query datasets.\n",
    "logging.info('Train queries: %s' % training_queries)\n",
    "logging.info('Valid queries: %s' % validation_queries)\n",
    "logging.info('Test queries: %s' %test_queries)\n",
    "\n",
    "logging.info('================================================================================')\n",
    "\n",
    "# Set this to True in order to remove queries containing all documents\n",
    "# of the same relevance score -- these are useless for LambdaMART.\n",
    "remove_useless_queries = False\n",
    "\n",
    "# Find constant query-document features.\n",
    "cfs = find_constant_features([training_queries, validation_queries, test_queries])\n",
    "\n",
    "# Get rid of constant features and (possibly) remove useless queries.\n",
    "training_queries.adjust(remove_features=cfs, purge=remove_useless_queries)\n",
    "validation_queries.adjust(remove_features=cfs, purge=remove_useless_queries)\n",
    "test_queries.adjust(remove_features=cfs)\n",
    "\n",
    "# Print basic info about query datasets.\n",
    "logging.info('Train queries: %s' % training_queries)\n",
    "logging.info('Valid queries: %s' % validation_queries)\n",
    "logging.info('Test queries: %s' % test_queries)\n",
    "\n",
    "logging.info('================================================================================')\n",
    "\n",
    "model = LambdaMART(metric='nDCG@10', max_leaf_nodes=7, shrinkage=0.1,\n",
    "                   estopping=50, n_jobs=-1, min_samples_leaf=50,\n",
    "                   random_state=42)\n",
    "\n",
    "model.fit(training_queries, validation_queries=validation_queries)\n",
    "\n",
    "logging.info('================================================================================')\n",
    "\n",
    "logging.info('%s on the test queries: %.8f'\n",
    "             % (model.metric, model.evaluate(test_queries, n_jobs=-1)))\n",
    "\n",
    "model.save('LambdaMART_L7_S0.1_E50_' + model.metric)"
   ]
  },
  {
   "cell_type": "code",
   "execution_count": null,
   "metadata": {},
   "outputs": [],
   "source": []
  },
  {
   "cell_type": "code",
   "execution_count": 2,
   "metadata": {},
   "outputs": [],
   "source": [
    "import pandas as pd"
   ]
  },
  {
   "cell_type": "code",
   "execution_count": 3,
   "metadata": {},
   "outputs": [
    {
     "data": {
      "text/plain": [
       "Index(['Unnamed: 0', 'srch_id', 'date_time', 'site_id',\n",
       "       'visitor_location_country_id', 'visitor_hist_starrating',\n",
       "       'visitor_hist_adr_usd', 'prop_country_id', 'prop_id', 'prop_starrating',\n",
       "       'prop_review_score', 'prop_brand_bool', 'prop_location_score1',\n",
       "       'prop_location_score2', 'prop_log_historical_price', 'position',\n",
       "       'price_usd', 'promotion_flag', 'srch_destination_id',\n",
       "       'srch_length_of_stay', 'srch_booking_window', 'srch_adults_count',\n",
       "       'srch_children_count', 'srch_room_count', 'srch_saturday_night_bool',\n",
       "       'srch_query_affinity_score', 'orig_destination_distance', 'random_bool',\n",
       "       'comp1_rate', 'comp1_inv', 'comp1_rate_percent_diff', 'comp2_rate',\n",
       "       'comp2_inv', 'comp2_rate_percent_diff', 'comp3_rate', 'comp3_inv',\n",
       "       'comp3_rate_percent_diff', 'comp4_rate', 'comp4_inv',\n",
       "       'comp4_rate_percent_diff', 'comp5_rate', 'comp5_inv',\n",
       "       'comp5_rate_percent_diff', 'comp6_rate', 'comp6_inv',\n",
       "       'comp6_rate_percent_diff', 'comp7_rate', 'comp7_inv',\n",
       "       'comp7_rate_percent_diff', 'comp8_rate', 'comp8_inv',\n",
       "       'comp8_rate_percent_diff', 'click_bool', 'gross_bookings_usd',\n",
       "       'booking_bool', 'year', 'month', 'prop_id_counts', 'usd_diff',\n",
       "       'star_diff', 'diff_hist_price', 'total_price', 'price_per_pers',\n",
       "       'prop_score', 'nr_pers', 'price_rank', 'stars_rank', 'score_rank',\n",
       "       'ndcg', 'ndcgscore'],\n",
       "      dtype='object')"
      ]
     },
     "execution_count": 3,
     "metadata": {},
     "output_type": "execute_result"
    }
   ],
   "source": [
    "df = pd.read_csv('train2.csv')\n",
    "df.columns"
   ]
  },
  {
   "cell_type": "code",
   "execution_count": 34,
   "metadata": {},
   "outputs": [
    {
     "data": {
      "text/plain": [
       "Index(['srch_id', 'prop_country_id', 'year', 'month', 'prop_score',\n",
       "       'prop_location_score1', 'prop_location_score2', 'diff_hist_price',\n",
       "       'usd_diff', 'star_diff', 'srch_query_affinity_score',\n",
       "       'orig_destination_distance', 'prop_review_score', 'price_rank',\n",
       "       'stars_rank', 'score_rank', 'price_per_pers', 'random_bool',\n",
       "       'price_usd', 'total_price', 'nr_pers', 'prop_id_counts', 'comp2_rate',\n",
       "       'comp5_rate', 'comp8_rate', 'ndcg'],\n",
       "      dtype='object')"
      ]
     },
     "execution_count": 34,
     "metadata": {},
     "output_type": "execute_result"
    }
   ],
   "source": [
    "df.columns"
   ]
  },
  {
   "cell_type": "code",
   "execution_count": 10,
   "metadata": {},
   "outputs": [],
   "source": [
    "\n",
    "df = df[['srch_id','prop_country_id','year', 'month', 'prop_score','prop_location_score1','prop_location_score2','diff_hist_price',\n",
    "         'usd_diff', 'star_diff', 'srch_query_affinity_score', 'orig_destination_distance',\n",
    "            'prop_review_score','position','price_rank','stars_rank','score_rank', 'booking_bool', 'click_bool', 'price_per_pers',\n",
    "        'random_bool', 'price_usd', 'total_price', 'nr_pers','prop_id_counts', 'comp2_rate', 'comp5_rate','comp8_rate', 'ndcg']]"
   ]
  },
  {
   "cell_type": "code",
   "execution_count": 8,
   "metadata": {},
   "outputs": [
    {
     "data": {
      "text/plain": [
       "0.0    4736468\n",
       "5.0     138390\n",
       "1.0      83489\n",
       "Name: ndcg, dtype: int64"
      ]
     },
     "execution_count": 8,
     "metadata": {},
     "output_type": "execute_result"
    }
   ],
   "source": [
    "df.ndcg.value_counts()"
   ]
  },
  {
   "cell_type": "code",
   "execution_count": 33,
   "metadata": {},
   "outputs": [],
   "source": [
    "df =df[['srch_id', 'prop_country_id', 'year', 'month',\n",
    "       'prop_score', 'prop_location_score1', 'prop_location_score2',\n",
    "       'diff_hist_price', 'usd_diff', 'star_diff', 'srch_query_affinity_score',\n",
    "       'orig_destination_distance', 'prop_review_score',\n",
    "       'price_rank', 'stars_rank', 'score_rank',\n",
    "       'price_per_pers', 'random_bool', 'price_usd', 'total_price', 'nr_pers',\n",
    "       'prop_id_counts', 'comp2_rate', 'comp5_rate', 'comp8_rate', 'ndcg']]"
   ]
  },
  {
   "cell_type": "code",
   "execution_count": null,
   "metadata": {},
   "outputs": [],
   "source": []
  },
  {
   "cell_type": "code",
   "execution_count": null,
   "metadata": {},
   "outputs": [],
   "source": []
  },
  {
   "cell_type": "code",
   "execution_count": null,
   "metadata": {},
   "outputs": [],
   "source": []
  },
  {
   "cell_type": "code",
   "execution_count": null,
   "metadata": {},
   "outputs": [],
   "source": []
  },
  {
   "cell_type": "code",
   "execution_count": null,
   "metadata": {},
   "outputs": [],
   "source": []
  },
  {
   "cell_type": "code",
   "execution_count": null,
   "metadata": {},
   "outputs": [],
   "source": []
  }
 ],
 "metadata": {
  "kernelspec": {
   "display_name": "Python 2",
   "language": "python",
   "name": "python2"
  },
  "language_info": {
   "codemirror_mode": {
    "name": "ipython",
    "version": 2
   },
   "file_extension": ".py",
   "mimetype": "text/x-python",
   "name": "python",
   "nbconvert_exporter": "python",
   "pygments_lexer": "ipython2",
   "version": "2.7.14"
  }
 },
 "nbformat": 4,
 "nbformat_minor": 2
}
