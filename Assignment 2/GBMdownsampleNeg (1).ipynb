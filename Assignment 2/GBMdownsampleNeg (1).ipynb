{
 "cells": [
  {
   "cell_type": "code",
   "execution_count": 2,
   "metadata": {
    "collapsed": true
   },
   "outputs": [],
   "source": [
    "import pandas as pd\n",
    "import numpy as np\n",
    "from sklearn import tree\n",
    "from collections import Counter\n",
    "from sklearn.ensemble import GradientBoostingClassifier\n",
    "from sklearn.model_selection import train_test_split\n",
    "from tabulate import tabulate"
   ]
  },
  {
   "cell_type": "code",
   "execution_count": 3,
   "metadata": {
    "collapsed": true
   },
   "outputs": [],
   "source": [
    "df = pd.read_csv(\"new_train.csv\")"
   ]
  },
  {
   "cell_type": "code",
   "execution_count": 6,
   "metadata": {
    "collapsed": true
   },
   "outputs": [],
   "source": [
    "df['rank_rel'] = np.zeros(len(df))\n",
    "df['rank_rel'] = np.where(df.click_bool == 1, 1, df.rank_rel)\n",
    "df['rank_rel'] = np.where(df.booking_bool == 1, 5, df.rank_rel)"
   ]
  },
  {
   "cell_type": "code",
   "execution_count": 5,
   "metadata": {
    "collapsed": true
   },
   "outputs": [],
   "source": [
    "df= df.drop(['Unnamed: 0'], axis = 1)"
   ]
  },
  {
   "cell_type": "code",
   "execution_count": 7,
   "metadata": {},
   "outputs": [
    {
     "name": "stdout",
     "output_type": "stream",
     "text": [
      "471048\n",
      "0.9999999999999999\n",
      "0.9999999999999998\n"
     ]
    }
   ],
   "source": [
    "sample_srch_id = np.random.choice(df.srch_id.unique(), size= int(0.1 * len(df.srch_id.unique())))\n",
    "df_sample = df[df.srch_id.isin(sample_srch_id)]\n",
    "print len(df_sample)\n",
    "print df_sample['click_bool'].corr(df['click_bool'])\n",
    "print df_sample['booking_bool'].corr(df['booking_bool'])"
   ]
  },
  {
   "cell_type": "code",
   "execution_count": 8,
   "metadata": {
    "collapsed": true
   },
   "outputs": [],
   "source": [
    "grouped  = df_sample[df_sample.click_bool == False].groupby('srch_id')\n",
    "grouped = grouped.apply(lambda x: x.sample(frac = 0.2))\n",
    "grouped = grouped.apply(lambda x: x) \n",
    "df_sample = df_sample.drop(df_sample[df_sample.click_bool == False].index).append(grouped)"
   ]
  },
  {
   "cell_type": "code",
   "execution_count": 18,
   "metadata": {
    "collapsed": true
   },
   "outputs": [],
   "source": [
    "y_rank = df_sample[['rank_rel']]\n",
    "X = df_sample.drop(['position','rank_rel','click_bool','booking_bool'], axis = 1)"
   ]
  },
  {
   "cell_type": "code",
   "execution_count": 20,
   "metadata": {},
   "outputs": [],
   "source": [
    "X_train = X.head(2*len(df)/3) \n",
    "X_test = X.tail(len(df)/3) \n",
    "y_train = y_rank.head(2*len(df)/3) \n",
    "y_test = y_rank.tail(len(df)) "
   ]
  },
  {
   "cell_type": "code",
   "execution_count": 22,
   "metadata": {},
   "outputs": [
    {
     "name": "stderr",
     "output_type": "stream",
     "text": [
      "C:\\Users\\Maria\\Anaconda2\\lib\\site-packages\\sklearn\\utils\\validation.py:578: DataConversionWarning: A column-vector y was passed when a 1d array was expected. Please change the shape of y to (n_samples, ), for example using ravel().\n",
      "  y = column_or_1d(y, warn=True)\n"
     ]
    }
   ],
   "source": [
    "gbm = GradientBoostingClassifier()\n",
    "model = gbm.fit(X_train, y_train)"
   ]
  },
  {
   "cell_type": "code",
   "execution_count": 23,
   "metadata": {
    "collapsed": true
   },
   "outputs": [],
   "source": [
    "pred2 = model.predict(X_test)"
   ]
  },
  {
   "cell_type": "code",
   "execution_count": 24,
   "metadata": {},
   "outputs": [
    {
     "name": "stdout",
     "output_type": "stream",
     "text": [
      "0.8146399912857195\n"
     ]
    }
   ],
   "source": [
    "print gbm.score(X_test, y_test)"
   ]
  },
  {
   "cell_type": "code",
   "execution_count": 26,
   "metadata": {},
   "outputs": [
    {
     "name": "stdout",
     "output_type": "stream",
     "text": [
      "10166.0\n"
     ]
    }
   ],
   "source": [
    "print sum(pred2)"
   ]
  },
  {
   "cell_type": "code",
   "execution_count": 27,
   "metadata": {
    "collapsed": true
   },
   "outputs": [],
   "source": [
    "gbm = GradientBoostingClassifier(max_depth = 2)"
   ]
  },
  {
   "cell_type": "code",
   "execution_count": 28,
   "metadata": {
    "collapsed": true
   },
   "outputs": [],
   "source": [
    "y_test2 = df_sample[['position']].loc[X_test.index]\n",
    "y_train2 = df_sample[['position']].loc[X_train.index]"
   ]
  },
  {
   "cell_type": "code",
   "execution_count": null,
   "metadata": {
    "collapsed": true
   },
   "outputs": [],
   "source": [
    "model2 = gbm.fit(X_train, y_train2)"
   ]
  },
  {
   "cell_type": "code",
   "execution_count": null,
   "metadata": {
    "collapsed": true
   },
   "outputs": [],
   "source": [
    "pred = model2.predict(X_test)"
   ]
  },
  {
   "cell_type": "code",
   "execution_count": null,
   "metadata": {
    "collapsed": true
   },
   "outputs": [],
   "source": [
    "print gbm.score(X_test, y_test2)"
   ]
  },
  {
   "cell_type": "code",
   "execution_count": null,
   "metadata": {
    "collapsed": true
   },
   "outputs": [],
   "source": [
    "print pred"
   ]
  },
  {
   "cell_type": "code",
   "execution_count": null,
   "metadata": {
    "collapsed": true
   },
   "outputs": [],
   "source": [
    "dfFinal = X_test"
   ]
  },
  {
   "cell_type": "code",
   "execution_count": null,
   "metadata": {
    "collapsed": true
   },
   "outputs": [],
   "source": [
    "dfFinal['position'] = pred2\n",
    "df['rank_rel'] = pred"
   ]
  },
  {
   "cell_type": "code",
   "execution_count": null,
   "metadata": {
    "collapsed": true
   },
   "outputs": [],
   "source": [
    "dfFinal = dfFinal.sort_values(by=['srch_id'])"
   ]
  },
  {
   "cell_type": "code",
   "execution_count": null,
   "metadata": {
    "collapsed": true
   },
   "outputs": [],
   "source": [
    "df = df[['srch_id', 'position', 'rank_rel']]\n",
    "\n",
    "\n",
    "\n",
    "def dcg(i, rel):\n",
    "\n",
    "    return (2**rel - 1)/(np.log2(i + 1))\n",
    "\n",
    "\n",
    "\n",
    "#########################################################################################\n",
    "\n",
    "\n",
    "\n",
    "# CACULATING DCG\n",
    "\n",
    "\n",
    "\n",
    "sum_dcg = 0\n",
    "\n",
    "array_dcg = []\n",
    "\n",
    "\n",
    "\n",
    "for k in range(0, len(df) - 1):\n",
    "\n",
    "    if k != len(df) - 1:\n",
    "        \n",
    "        if(df['srch_id'].iloc[k] < df['srch_id'].iloc[k + 1]):\n",
    " \n",
    "\n",
    "            sum_dcg += dcg(df['position'].iloc[k],df['rank_rel'].iloc[k])\n",
    "\n",
    "            array_dcg.append(sum_dcg)\n",
    "            sum_dcg = 0\n",
    "\n",
    "        else:\n",
    "\n",
    "            sum_dcg += dcg(df['position'].iloc[k],df['rank_rel'].iloc[k])\n",
    "\n",
    "    else:\n",
    "\n",
    "        sum_dcg += dcg(df['position'].iloc[k],df['rank_rel'].iloc[k])\n",
    "\n",
    "        array_dcg.append(sum_dcg)\n",
    "\n",
    "        sum_dcg = 0\n",
    "\n",
    "# CALCULATING IDCG\n",
    "array_idcg = np.array([])\n",
    "t_idcg = np.array([])\n",
    "sum_idcg = 0\n",
    "\n",
    "for k in range(0, len(df) - 1):\n",
    "    if k != len(df) - 1:\n",
    "        if(df['srch_id'].iloc[k] < df['srch_id'].iloc[k + 1]):\n",
    "            t_idcg = np.append(t_idcg, df['rank_rel'].iloc[k])\n",
    "            t_idcg = np.sort(t_idcg)[::-1]\n",
    "            for j in range(0, len(t_idcg)):\n",
    "                sum_idcg += dcg(j + 1, t_idcg[j])\n",
    "                if(sum_idcg > 0):\n",
    "                    print sum_idcg\n",
    "            array_idcg = np.append(array_idcg, sum_idcg)\n",
    "            sum_idcg = 0\n",
    "            t_idcg = []\n",
    "        else:\n",
    "            t_idcg = np.append(t_idcg, df['rank_rel'].iloc[k])   \n",
    "    else:\n",
    "        t_idcg = np.append(t_idcg, df['rank_rel'].iloc[k])\n",
    "        t_idcg = np.sort(t_idcg)[::-1]\n",
    "        for j in range(0, len(t_idcg)):\n",
    "            sum_idcg += dcg(j + 1, t_idcg[j])\n",
    "        array_idcg = np.append(array_idcg, sum_idcg)\n",
    "        \n",
    "print 'nDGC = ', (np.sum(array_dcg)/np.sum(array_idcg))\n"
   ]
  },
  {
   "cell_type": "code",
   "execution_count": null,
   "metadata": {
    "collapsed": true
   },
   "outputs": [],
   "source": []
  }
 ],
 "metadata": {
  "kernelspec": {
   "display_name": "Python 2",
   "language": "python",
   "name": "python2"
  },
  "language_info": {
   "codemirror_mode": {
    "name": "ipython",
    "version": 2
   },
   "file_extension": ".py",
   "mimetype": "text/x-python",
   "name": "python",
   "nbconvert_exporter": "python",
   "pygments_lexer": "ipython2",
   "version": "2.7.14"
  }
 },
 "nbformat": 4,
 "nbformat_minor": 2
}
