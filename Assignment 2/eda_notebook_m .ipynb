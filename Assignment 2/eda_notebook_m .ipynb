{
 "cells": [
  {
   "cell_type": "code",
   "execution_count": 1,
   "metadata": {
    "collapsed": true
   },
   "outputs": [],
   "source": [
    "import pandas as pd\n",
    "import numpy as np\n",
    "import matplotlib.pyplot as plt\n",
    "import warnings\n",
    "warnings.simplefilter('ignore')"
   ]
  },
  {
   "cell_type": "markdown",
   "metadata": {},
   "source": [
    "Import training data from file:"
   ]
  },
  {
   "cell_type": "code",
   "execution_count": 2,
   "metadata": {
    "collapsed": true
   },
   "outputs": [],
   "source": [
    "with open('trainingset.csv', 'r') as csvfile:\n",
    "    df = pd.read_csv(csvfile, dtype={'booking_bool':bool,'srch_destination_id':np.int32, \n",
    "                                     'site_id':np.int32, 'visitor_location_country_id':np.int32,\n",
    "                                     'visitor_hist_starrating':np.float, 'visitor_hist_adr_usd':np.float,\n",
    "                                     'prop_country_id':np.int32, 'prop_id':np.int32, \n",
    "                                     'prop_starrating':np.int32, 'prop_review_score':np.float,\n",
    "                                     'prop_brand_bool':bool, 'prop_location_score1':np.float,\n",
    "                                     'prop_location_score2':np.float, 'prop_log_historical_price':np.float,\n",
    "                                     'price_usd':np.float, 'promotion_flag':bool,\\\n",
    "                                     'srch_length_of_stay':np.int32, 'srch_booking_window':np.int32,\n",
    "                                     'srch_adults_count':np.int32, 'srch_children_count':np.int32,\n",
    "                                     'srch_room_count':np.int32, 'srch_saturday_night_bool':bool,\n",
    "                                     'srch_query_affinity_score':np.float, 'orig_destination_distance':np.float,\n",
    "                                     'random_bool':bool, 'position':np.int32, 'click_bool':bool,\n",
    "                                     'booking_bool':bool, 'gross_booking_usd':np.float})\n"
   ]
  },
  {
   "cell_type": "markdown",
   "metadata": {},
   "source": [
    "# EDA"
   ]
  },
  {
   "cell_type": "markdown",
   "metadata": {},
   "source": [
    "Number of unique stuff:"
   ]
  },
  {
   "cell_type": "code",
   "execution_count": 35,
   "metadata": {
    "scrolled": true
   },
   "outputs": [
    {
     "name": "stdout",
     "output_type": "stream",
     "text": [
      "Number of unique searches: 199795\n",
      "Number of countries: 172\n",
      "Number of hotels: 129113\n"
     ]
    }
   ],
   "source": [
    "print(\"Number of unique searches:\"),len(df.srch_id.unique())\n",
    "print(\"Number of countries:\"),len(df.prop_country_id.unique())\n",
    "print(\"Number of hotels:\"),len(df.prop_id.unique())"
   ]
  },
  {
   "cell_type": "markdown",
   "metadata": {},
   "source": [
    "Difference in price between client history and current price for booked/clicked/none"
   ]
  },
  {
   "cell_type": "code",
   "execution_count": 3,
   "metadata": {},
   "outputs": [
    {
     "data": {
      "image/png": "[encoded data removed]",
      "text/plain": [
       "<matplotlib.figure.Figure at 0x7c1d4b00>"
      ]
     },
     "metadata": {},
     "output_type": "display_data"
    }
   ],
   "source": [
    "df['usd_diff'] = abs(df.price_usd - df.visitor_hist_adr_usd)\n",
    "\n",
    "diffUsd_click = np.array(df.usd_diff.loc[df['click_bool']==True])\n",
    "diffUsd_click = diffUsd_click[~np.isnan(diffUsd_click)]\n",
    "mean_click = np.mean(diffUsd_click)\n",
    "\n",
    "diffUsd_book = np.array(df.usd_diff.loc[df['booking_bool']==True])\n",
    "diffUsd_book = diffUsd_book[~np.isnan(diffUsd_book)]\n",
    "mean_book = np.mean(diffUsd_book)\n",
    "\n",
    "diffUsd_none = np.array(df.usd_diff.loc[(df['click_bool']==False) & df['booking_bool']==False])\n",
    "diffUsd_none = diffUsd_none[~np.isnan(diffUsd_none)]\n",
    "mean_none = np.mean(diffUsd_none)\n",
    "\n",
    "np_means = np.array([mean_book,mean_click,mean_none])\n",
    "keys = ['booked','clicked','none']\n",
    "\n",
    "plt.bar(range(len(np_means)), np_means, align='center',color = ['green','blue','red'])\n",
    "plt.xticks(range(len(np_means)), keys)\n",
    "\n",
    "plt.show()\n",
    "        "
   ]
  },
  {
   "cell_type": "markdown",
   "metadata": {},
   "source": [
    "Difference in rating between client history and prop rating for booked/clicked/none"
   ]
  },
  {
   "cell_type": "code",
   "execution_count": 4,
   "metadata": {},
   "outputs": [
    {
     "data": {
      "image/png": "[encoded data removed]",
      "text/plain": [
       "<matplotlib.figure.Figure at 0x260c2940>"
      ]
     },
     "metadata": {},
     "output_type": "display_data"
    }
   ],
   "source": [
    "df['star_diff'] = abs(df.prop_starrating - df.visitor_hist_starrating) \n",
    "\n",
    "diffStar_click = np.array(df.star_diff.loc[df['click_bool']==True])\n",
    "diffStar_click = diffStar_click[~np.isnan(diffStar_click)]\n",
    "mean_click = np.mean(diffStar_click)\n",
    "\n",
    "diffStar_book = np.array(df.star_diff.loc[df['booking_bool']==True])\n",
    "diffStar_book = diffStar_book[~np.isnan(diffStar_book)]\n",
    "mean_book = np.mean(diffStar_book)\n",
    "\n",
    "diffStar_none = np.array(df.star_diff.loc[(df['click_bool']==False) & df['booking_bool']==False])\n",
    "diffStar_none = diffStar_none[~np.isnan(diffStar_none)]\n",
    "mean_none = np.mean(diffStar_none)\n",
    "\n",
    "np_means = np.array([mean_book,mean_click,mean_none])\n",
    "keys = ['booked','clicked','none']\n",
    "\n",
    "plt.bar(range(len(np_means)), np_means, align='center',color = ['green','blue','red'])\n",
    "plt.xticks(range(len(np_means)), keys)\n",
    "\n",
    "plt.show()\n",
    "        "
   ]
  },
  {
   "cell_type": "markdown",
   "metadata": {},
   "source": [
    "See if promotion flag influences click/book:"
   ]
  },
  {
   "cell_type": "code",
   "execution_count": 38,
   "metadata": {},
   "outputs": [
    {
     "name": "stdout",
     "output_type": "stream",
     "text": [
      "Total nr clicks/Promotion flag clicks 221879 64469\n",
      "Total nr bookings/Promotion flag bookings 138390 41947\n",
      "Number of promotion flags: 1069118\n"
     ]
    }
   ],
   "source": [
    "totalClick = len(df.loc[df['click_bool']==True])\n",
    "promClick = len(df.loc[(df['click_bool']==True) & (df['promotion_flag'] == True)])\n",
    "print (\"Total nr clicks/Promotion flag clicks\"), totalClick, promClick\n",
    "\n",
    "totalBook = len(df.loc[df['booking_bool']==True])\n",
    "promBook = len(df.loc[(df['booking_bool']==True) & (df['promotion_flag'] == True)])\n",
    "print (\"Total nr bookings/Promotion flag bookings\"), totalBook, promBook\n",
    "\n",
    "totalProm = len(df.loc[df['promotion_flag']==True])\n",
    "print (\"Number of promotion flags:\"), totalProm"
   ]
  },
  {
   "cell_type": "markdown",
   "metadata": {},
   "source": [
    "Overview of competitors"
   ]
  },
  {
   "cell_type": "code",
   "execution_count": 39,
   "metadata": {},
   "outputs": [
    {
     "data": {
      "image/png": "[encoded data removed]",
      "text/plain": [
       "<matplotlib.figure.Figure at 0x462df128>"
      ]
     },
     "metadata": {},
     "output_type": "display_data"
    }
   ],
   "source": [
    "click_equal_1 = len(df.comp1_rate.loc[(df.comp1_rate == 0) & (df.click_bool == True)])\n",
    "click_more_1 = len(df.comp1_rate.loc[(df.comp1_rate == -1) & (df.click_bool == True)])\n",
    "click_less_1 = len(df.comp1_rate.loc[(df.comp1_rate == 1) & (df.click_bool == True)])\n",
    "click_na_1 = len(df.comp1_rate.loc[(np.isnan(df.comp1_rate)) & (df.click_bool == True)])\n",
    "\n",
    "npRes = np.log10(np.array([click_equal_1, click_more_1, click_less_1, click_na_1]))\n",
    "keys = ['same price', 'Exp pricier', 'Exp cheaper', 'NA']\n",
    "\n",
    "plt.bar(range(len(npRes)), npRes, align='center',color = ['blue','red','green', 'yellow'])\n",
    "plt.xticks(range(len(npRes)), keys)\n",
    "plt.show()\n",
    "\n"
   ]
  },
  {
   "cell_type": "code",
   "execution_count": 37,
   "metadata": {},
   "outputs": [
    {
     "data": {
      "image/png": "[encoded data removed]",
      "text/plain": [
       "<matplotlib.figure.Figure at 0x462b8048>"
      ]
     },
     "metadata": {},
     "output_type": "display_data"
    }
   ],
   "source": [
    "click_equal_2 = len(df.comp2_rate.loc[(df.comp2_rate == 0) & (df.click_bool == True)])\n",
    "click_more_2 = len(df.comp2_rate.loc[(df.comp2_rate == -1) & (df.click_bool == True)])\n",
    "click_less_2 = len(df.comp2_rate.loc[(df.comp2_rate == 1) & (df.click_bool == True)])\n",
    "click_na_2 = len(df.comp2_rate.loc[(np.isnan(df.comp2_rate)) & (df.click_bool == True)])\n",
    "\n",
    "npRes = np.log10(np.array([click_equal_2, click_more_2, click_less_2, click_na_2]))\n",
    "keys = ['same price', 'Exp pricier', 'Exp cheaper', 'NA']\n",
    "\n",
    "plt.bar(range(len(npRes)), npRes, align='center',color = ['blue','red','green', 'yellow'])\n",
    "plt.xticks(range(len(npRes)), keys)\n",
    "plt.show()\n"
   ]
  },
  {
   "cell_type": "code",
   "execution_count": 161,
   "metadata": {},
   "outputs": [
    {
     "data": {
      "image/png": "[encoded data removed]",
      "text/plain": [
       "<matplotlib.figure.Figure at 0x36efc0b8>"
      ]
     },
     "metadata": {},
     "output_type": "display_data"
    }
   ],
   "source": [
    "click_equal_3 = len(df.comp3_rate.loc[(df.comp3_rate == 0) & (df.booking_bool == True)])\n",
    "click_more_3 = len(df.comp3_rate.loc[(df.comp3_rate == -1) & (df.booking_bool == True)])\n",
    "click_less_3 = len(df.comp3_rate.loc[(df.comp3_rate == 1) & (df.booking_bool == True)])\n",
    "click_na_3 = len(df.comp3_rate.loc[(np.isnan(df.comp3_rate)) & (df.booking_bool == True)])\n",
    "\n",
    "npRes = np.log10(np.array([click_equal_3, click_more_3, click_less_3, click_na_3]))\n",
    "keys = ['same price', 'Exp pricier', 'Exp cheaper', 'NA']\n",
    "\n",
    "plt.bar(range(len(npRes)), npRes, align='center',color = ['blue','red','green', 'yellow'])\n",
    "plt.xticks(range(len(npRes)), keys)\n",
    "plt.show()"
   ]
  },
  {
   "cell_type": "markdown",
   "metadata": {},
   "source": [
    "# Fill in missing data and create composite features"
   ]
  },
  {
   "cell_type": "markdown",
   "metadata": {},
   "source": [
    "Fill in missing values with either first quartile of country or mean of country"
   ]
  },
  {
   "cell_type": "code",
   "execution_count": 6,
   "metadata": {},
   "outputs": [
    {
     "data": {
      "text/html": [
       "<div>\n",
       "<style scoped>\n",
       "    .dataframe tbody tr th:only-of-type {\n",
       "        vertical-align: middle;\n",
       "    }\n",
       "\n",
       "    .dataframe tbody tr th {\n",
       "        vertical-align: top;\n",
       "    }\n",
       "\n",
       "    .dataframe thead th {\n",
       "        text-align: right;\n",
       "    }\n",
       "</style>\n",
       "<table border=\"1\" class=\"dataframe\">\n",
       "  <thead>\n",
       "    <tr style=\"text-align: right;\">\n",
       "      <th></th>\n",
       "      <th>srch_id</th>\n",
       "      <th>date_time</th>\n",
       "      <th>site_id</th>\n",
       "      <th>visitor_location_country_id</th>\n",
       "      <th>visitor_hist_starrating</th>\n",
       "      <th>visitor_hist_adr_usd</th>\n",
       "      <th>prop_country_id</th>\n",
       "      <th>prop_id</th>\n",
       "      <th>prop_starrating</th>\n",
       "      <th>prop_review_score</th>\n",
       "      <th>...</th>\n",
       "      <th>comp7_inv</th>\n",
       "      <th>comp7_rate_percent_diff</th>\n",
       "      <th>comp8_rate</th>\n",
       "      <th>comp8_inv</th>\n",
       "      <th>comp8_rate_percent_diff</th>\n",
       "      <th>click_bool</th>\n",
       "      <th>gross_bookings_usd</th>\n",
       "      <th>booking_bool</th>\n",
       "      <th>usd_diff</th>\n",
       "      <th>star_diff</th>\n",
       "    </tr>\n",
       "  </thead>\n",
       "  <tbody>\n",
       "  </tbody>\n",
       "</table>\n",
       "<p>0 rows × 56 columns</p>\n",
       "</div>"
      ],
      "text/plain": [
       "Empty DataFrame\n",
       "Columns: [srch_id, date_time, site_id, visitor_location_country_id, visitor_hist_starrating, visitor_hist_adr_usd, prop_country_id, prop_id, prop_starrating, prop_review_score, prop_brand_bool, prop_location_score1, prop_location_score2, prop_log_historical_price, position, price_usd, promotion_flag, srch_destination_id, srch_length_of_stay, srch_booking_window, srch_adults_count, srch_children_count, srch_room_count, srch_saturday_night_bool, srch_query_affinity_score, orig_destination_distance, random_bool, comp1_rate, comp1_inv, comp1_rate_percent_diff, comp2_rate, comp2_inv, comp2_rate_percent_diff, comp3_rate, comp3_inv, comp3_rate_percent_diff, comp4_rate, comp4_inv, comp4_rate_percent_diff, comp5_rate, comp5_inv, comp5_rate_percent_diff, comp6_rate, comp6_inv, comp6_rate_percent_diff, comp7_rate, comp7_inv, comp7_rate_percent_diff, comp8_rate, comp8_inv, comp8_rate_percent_diff, click_bool, gross_bookings_usd, booking_bool, usd_diff, star_diff]\n",
       "Index: []\n",
       "\n",
       "[0 rows x 56 columns]"
      ]
     },
     "execution_count": 6,
     "metadata": {},
     "output_type": "execute_result"
    }
   ],
   "source": [
    "df.head(0)"
   ]
  },
  {
   "cell_type": "code",
   "execution_count": 5,
   "metadata": {
    "collapsed": true
   },
   "outputs": [],
   "source": [
    "#Difference in price between property historical price and current price\n",
    "df['diff_hist_price'] = np.exp(df.prop_log_historical_price) - df.price_usd\n"
   ]
  },
  {
   "cell_type": "code",
   "execution_count": 7,
   "metadata": {
    "collapsed": true
   },
   "outputs": [],
   "source": [
    "df.prop_location_score2[np.isnan(df.prop_location_score2)] = -1\n",
    "for c in df.prop_country_id.unique():\n",
    "    #prop_location_score2 filled in with first quartile\n",
    "    if len(df[(df.prop_country_id == c) & (df.prop_location_score2 != -1)]) != 0: \n",
    "        mean_country = np.mean(df.prop_location_score2.loc[(df.prop_country_id == c) & (df.prop_location_score2 != -1) ])\n",
    "        min_country = min(df.prop_location_score2.loc[(df.prop_country_id == c) & (df.prop_location_score2 != -1)])\n",
    "        first_quart = (min_country+mean_country)/2\n",
    "        df.prop_location_score2.loc[(df.prop_country_id == c) & (df.prop_location_score2 == -1) ] = first_quart\n",
    "    else:\n",
    "        df.prop_location_score2.loc[(df.prop_country_id == c) & (df.prop_location_score2 == -1) ] = 0 \n",
    "    #the rest are filled in with the mean  \n",
    "    #difference in rating between client hist and prop rating\n",
    "    df.star_diff.loc[(np.isnan(df.star_diff)) & (df.prop_country_id == c)] = \\\n",
    "                                                    np.mean(df.star_diff.loc[df.prop_country_id == c])\n",
    "    #difference in price between client hist and prop price\n",
    "    df.usd_diff.loc[(np.isnan(df.usd_diff)) & (df.prop_country_id == c)] = \\\n",
    "                                                    np.mean(df.usd_diff.loc[df.prop_country_id == c])\n",
    "    #difference in distance between original dest and prop\n",
    "    df.orig_destination_distance.loc[(np.isnan(df.orig_destination_distance)) & (df.prop_country_id == c)] = \\\n",
    "                                                    np.mean(df.orig_destination_distance.loc[df.prop_country_id == c])\n",
    "    #search query affinity\n",
    "    df.srch_query_affinity_score.loc[(np.isnan(df.srch_query_affinity_score)) & (df.prop_country_id == c)] = \\\n",
    "                                                    np.mean(df.srch_query_affinity_score.loc[df.prop_country_id == c])\n",
    "    #review score\n",
    "    df.prop_review_score.loc[(np.isnan(df.prop_review_score)) & (df.prop_country_id == c)] = \\\n",
    "                                                    np.mean(df.prop_review_score.loc[df.prop_country_id == c])\n",
    "   \n",
    "#difference between current price and historical price gets 0\n",
    "df.diff_hist_price[np.isnan(df.diff_hist_price)] = 0       \n",
    "\n"
   ]
  },
  {
   "cell_type": "markdown",
   "metadata": {},
   "source": [
    "Prices, stars and scores ranks:"
   ]
  },
  {
   "cell_type": "code",
   "execution_count": 21,
   "metadata": {
    "collapsed": true
   },
   "outputs": [],
   "source": [
    "df['price_rank'] = df.groupby('srch_id', sort=False)['price_usd'].rank(ascending=True, method =\"min\")\n",
    "df['stars_rank'] = df.groupby('srch_id', sort=False)['prop_starrating'].rank(ascending=True, method = \"min\")\n",
    "df['score_rank'] = df.groupby('srch_id', sort=False)['prop_location_score2'].rank(ascending=True, method = \"min\")"
   ]
  },
  {
   "cell_type": "code",
   "execution_count": 22,
   "metadata": {},
   "outputs": [
    {
     "data": {
      "text/html": [
       "<div>\n",
       "<style scoped>\n",
       "    .dataframe tbody tr th:only-of-type {\n",
       "        vertical-align: middle;\n",
       "    }\n",
       "\n",
       "    .dataframe tbody tr th {\n",
       "        vertical-align: top;\n",
       "    }\n",
       "\n",
       "    .dataframe thead th {\n",
       "        text-align: right;\n",
       "    }\n",
       "</style>\n",
       "<table border=\"1\" class=\"dataframe\">\n",
       "  <thead>\n",
       "    <tr style=\"text-align: right;\">\n",
       "      <th></th>\n",
       "      <th>booking_bool</th>\n",
       "      <th>click_bool</th>\n",
       "      <th>price_rank</th>\n",
       "      <th>stars_rank</th>\n",
       "      <th>score_rank</th>\n",
       "    </tr>\n",
       "  </thead>\n",
       "  <tbody>\n",
       "    <tr>\n",
       "      <th>booking_bool</th>\n",
       "      <td>1.000000</td>\n",
       "      <td>0.782889</td>\n",
       "      <td>-0.061640</td>\n",
       "      <td>0.010954</td>\n",
       "      <td>0.004087</td>\n",
       "    </tr>\n",
       "    <tr>\n",
       "      <th>click_bool</th>\n",
       "      <td>0.782889</td>\n",
       "      <td>1.000000</td>\n",
       "      <td>-0.073675</td>\n",
       "      <td>0.010862</td>\n",
       "      <td>-0.002905</td>\n",
       "    </tr>\n",
       "    <tr>\n",
       "      <th>price_rank</th>\n",
       "      <td>-0.061640</td>\n",
       "      <td>-0.073675</td>\n",
       "      <td>1.000000</td>\n",
       "      <td>0.589670</td>\n",
       "      <td>0.208145</td>\n",
       "    </tr>\n",
       "    <tr>\n",
       "      <th>stars_rank</th>\n",
       "      <td>0.010954</td>\n",
       "      <td>0.010862</td>\n",
       "      <td>0.589670</td>\n",
       "      <td>1.000000</td>\n",
       "      <td>0.163179</td>\n",
       "    </tr>\n",
       "    <tr>\n",
       "      <th>score_rank</th>\n",
       "      <td>0.004087</td>\n",
       "      <td>-0.002905</td>\n",
       "      <td>0.208145</td>\n",
       "      <td>0.163179</td>\n",
       "      <td>1.000000</td>\n",
       "    </tr>\n",
       "  </tbody>\n",
       "</table>\n",
       "</div>"
      ],
      "text/plain": [
       "              booking_bool  click_bool  price_rank  stars_rank  score_rank\n",
       "booking_bool      1.000000    0.782889   -0.061640    0.010954    0.004087\n",
       "click_bool        0.782889    1.000000   -0.073675    0.010862   -0.002905\n",
       "price_rank       -0.061640   -0.073675    1.000000    0.589670    0.208145\n",
       "stars_rank        0.010954    0.010862    0.589670    1.000000    0.163179\n",
       "score_rank        0.004087   -0.002905    0.208145    0.163179    1.000000"
      ]
     },
     "execution_count": 22,
     "metadata": {},
     "output_type": "execute_result"
    }
   ],
   "source": [
    "df[['booking_bool','click_bool','price_rank','stars_rank','score_rank']].corr()\n"
   ]
  },
  {
   "cell_type": "code",
   "execution_count": 23,
   "metadata": {},
   "outputs": [
    {
     "name": "stdout",
     "output_type": "stream",
     "text": [
      "price_rank\n",
      "1.0     218934\n",
      "2.0     209080\n",
      "3.0     205915\n",
      "4.0     203644\n",
      "5.0     201863\n",
      "6.0     197140\n",
      "7.0     191738\n",
      "8.0     186979\n",
      "9.0     183120\n",
      "10.0    179403\n",
      "11.0    175186\n",
      "12.0    171186\n",
      "13.0    166989\n",
      "14.0    163813\n",
      "15.0    160101\n",
      "16.0    157438\n",
      "17.0    152779\n",
      "18.0    149698\n",
      "19.0    146099\n",
      "20.0    142653\n",
      "21.0    139081\n",
      "22.0    135358\n",
      "23.0    131355\n",
      "24.0    128149\n",
      "25.0    124325\n",
      "26.0    120109\n",
      "27.0    115764\n",
      "28.0    108195\n",
      "29.0    101948\n",
      "30.0     94968\n",
      "31.0     84038\n",
      "32.0     64037\n",
      "33.0     34956\n",
      "34.0     10489\n",
      "35.0      1640\n",
      "36.0       159\n",
      "37.0        16\n",
      "38.0         2\n",
      "Name: click_bool, dtype: int64\n",
      "price_rank\n",
      "1.0     218934\n",
      "2.0     209080\n",
      "3.0     205915\n",
      "4.0     203644\n",
      "5.0     201863\n",
      "6.0     197140\n",
      "7.0     191738\n",
      "8.0     186979\n",
      "9.0     183120\n",
      "10.0    179403\n",
      "11.0    175186\n",
      "12.0    171186\n",
      "13.0    166989\n",
      "14.0    163813\n",
      "15.0    160101\n",
      "16.0    157438\n",
      "17.0    152779\n",
      "18.0    149698\n",
      "19.0    146099\n",
      "20.0    142653\n",
      "21.0    139081\n",
      "22.0    135358\n",
      "23.0    131355\n",
      "24.0    128149\n",
      "25.0    124325\n",
      "26.0    120109\n",
      "27.0    115764\n",
      "28.0    108195\n",
      "29.0    101948\n",
      "30.0     94968\n",
      "31.0     84038\n",
      "32.0     64037\n",
      "33.0     34956\n",
      "34.0     10489\n",
      "35.0      1640\n",
      "36.0       159\n",
      "37.0        16\n",
      "38.0         2\n",
      "Name: booking_bool, dtype: int64\n"
     ]
    }
   ],
   "source": [
    "dfPriceRank= df.groupby('price_rank').count()\n",
    "print dfPriceRank.click_bool\n",
    "print dfPriceRank.booking_bool"
   ]
  },
  {
   "cell_type": "code",
   "execution_count": 24,
   "metadata": {},
   "outputs": [
    {
     "name": "stdout",
     "output_type": "stream",
     "text": [
      "score_rank\n",
      "1.0     207725\n",
      "2.0     187494\n",
      "3.0     184199\n",
      "4.0     179436\n",
      "5.0     174513\n",
      "6.0     166826\n",
      "7.0     160916\n",
      "8.0     154908\n",
      "9.0     149897\n",
      "10.0    144913\n",
      "11.0    140032\n",
      "12.0    135200\n",
      "13.0    130553\n",
      "14.0    126455\n",
      "15.0    122428\n",
      "16.0    118770\n",
      "17.0    115000\n",
      "18.0    111638\n",
      "19.0    107974\n",
      "20.0    104549\n",
      "21.0    100978\n",
      "22.0     97745\n",
      "23.0     94035\n",
      "24.0     90968\n",
      "25.0     87135\n",
      "26.0     81800\n",
      "27.0     77637\n",
      "28.0     72334\n",
      "29.0     66373\n",
      "30.0     59780\n",
      "31.0     50965\n",
      "32.0     37995\n",
      "33.0     20020\n",
      "34.0      5808\n",
      "35.0       902\n",
      "36.0        83\n",
      "37.0        12\n",
      "38.0         3\n",
      "Name: click_bool, dtype: int64\n",
      "score_rank\n",
      "1.0     207725\n",
      "2.0     187494\n",
      "3.0     184199\n",
      "4.0     179436\n",
      "5.0     174513\n",
      "6.0     166826\n",
      "7.0     160916\n",
      "8.0     154908\n",
      "9.0     149897\n",
      "10.0    144913\n",
      "11.0    140032\n",
      "12.0    135200\n",
      "13.0    130553\n",
      "14.0    126455\n",
      "15.0    122428\n",
      "16.0    118770\n",
      "17.0    115000\n",
      "18.0    111638\n",
      "19.0    107974\n",
      "20.0    104549\n",
      "21.0    100978\n",
      "22.0     97745\n",
      "23.0     94035\n",
      "24.0     90968\n",
      "25.0     87135\n",
      "26.0     81800\n",
      "27.0     77637\n",
      "28.0     72334\n",
      "29.0     66373\n",
      "30.0     59780\n",
      "31.0     50965\n",
      "32.0     37995\n",
      "33.0     20020\n",
      "34.0      5808\n",
      "35.0       902\n",
      "36.0        83\n",
      "37.0        12\n",
      "38.0         3\n",
      "Name: booking_bool, dtype: int64\n"
     ]
    }
   ],
   "source": [
    "dfScoreRank= df.groupby('score_rank').count()\n",
    "print dfScoreRank.click_bool\n",
    "print dfScoreRank.booking_bool"
   ]
  },
  {
   "cell_type": "markdown",
   "metadata": {},
   "source": [
    "Fill in missing competitor data with 0:"
   ]
  },
  {
   "cell_type": "code",
   "execution_count": 9,
   "metadata": {
    "collapsed": true
   },
   "outputs": [],
   "source": [
    "df.iloc[:,27:51] = df.iloc[:,27:51].fillna(value = 0, axis = 0)"
   ]
  },
  {
   "cell_type": "markdown",
   "metadata": {},
   "source": [
    "Create new composite features:"
   ]
  },
  {
   "cell_type": "code",
   "execution_count": 10,
   "metadata": {
    "collapsed": true
   },
   "outputs": [],
   "source": [
    "#Total price/per night\n",
    "df['total_price'] = df.price_usd * df.srch_room_count"
   ]
  },
  {
   "cell_type": "code",
   "execution_count": 11,
   "metadata": {
    "collapsed": true
   },
   "outputs": [],
   "source": [
    "#Price per person\n",
    "df['price_per_pers'] = (df.price_usd * df.srch_room_count)/(df.srch_adults_count + df.srch_children_count)"
   ]
  },
  {
   "cell_type": "markdown",
   "metadata": {},
   "source": [
    "Composite feature of the two property location scores:"
   ]
  },
  {
   "cell_type": "code",
   "execution_count": 12,
   "metadata": {
    "collapsed": true
   },
   "outputs": [],
   "source": [
    "df['prop_score'] = (df.prop_location_score2 + 0.00001)/(df.prop_location_score1 + 0.00001)"
   ]
  },
  {
   "cell_type": "markdown",
   "metadata": {},
   "source": [
    "# Feature importance"
   ]
  },
  {
   "cell_type": "code",
   "execution_count": 20,
   "metadata": {
    "collapsed": true
   },
   "outputs": [],
   "source": [
    "target = df.click_bool \n",
    "target2 = df.booking_bool"
   ]
  },
  {
   "cell_type": "code",
   "execution_count": 21,
   "metadata": {
    "collapsed": true
   },
   "outputs": [],
   "source": [
    "dfTest = df[['prop_score','prop_location_score1','prop_location_score2','diff_hist_price',\n",
    "                'usd_diff', 'star_diff', 'srch_query_affinity_score', 'orig_destination_distance',\n",
    "                'prop_review_score','position','price_rank','stars_rank','score_rank']]\n",
    "             \n"
   ]
  },
  {
   "cell_type": "code",
   "execution_count": 15,
   "metadata": {
    "collapsed": true
   },
   "outputs": [],
   "source": [
    "from sklearn.ensemble import ExtraTreesClassifier"
   ]
  },
  {
   "cell_type": "code",
   "execution_count": 22,
   "metadata": {},
   "outputs": [
    {
     "ename": "MemoryError",
     "evalue": "",
     "output_type": "error",
     "traceback": [
      "\u001b[1;31m---------------------------------------------------------------------------\u001b[0m",
      "\u001b[1;31mMemoryError\u001b[0m                               Traceback (most recent call last)",
      "\u001b[1;32m<ipython-input-22-70c9e9ef9350>\u001b[0m in \u001b[0;36m<module>\u001b[1;34m()\u001b[0m\n\u001b[1;32m----> 1\u001b[1;33m \u001b[0mdfTest\u001b[0m \u001b[1;33m=\u001b[0m \u001b[0mdfTest\u001b[0m\u001b[1;33m.\u001b[0m\u001b[0mfillna\u001b[0m\u001b[1;33m(\u001b[0m\u001b[0mvalue\u001b[0m\u001b[1;33m=\u001b[0m\u001b[1;34m'0'\u001b[0m\u001b[1;33m)\u001b[0m\u001b[1;33m\u001b[0m\u001b[0m\n\u001b[0m\u001b[0;32m      2\u001b[0m \u001b[0mmodel\u001b[0m \u001b[1;33m=\u001b[0m \u001b[0mExtraTreesClassifier\u001b[0m\u001b[1;33m(\u001b[0m\u001b[1;33m)\u001b[0m\u001b[1;33m\u001b[0m\u001b[0m\n\u001b[0;32m      3\u001b[0m \u001b[0mmodel\u001b[0m\u001b[1;33m.\u001b[0m\u001b[0mfit\u001b[0m\u001b[1;33m(\u001b[0m\u001b[0mdfTest\u001b[0m\u001b[1;33m,\u001b[0m \u001b[0mtarget\u001b[0m\u001b[1;33m)\u001b[0m\u001b[1;33m\u001b[0m\u001b[0m\n\u001b[0;32m      4\u001b[0m \u001b[0mdictImp\u001b[0m  \u001b[1;33m=\u001b[0m \u001b[0mzip\u001b[0m\u001b[1;33m(\u001b[0m\u001b[0mdfTest\u001b[0m\u001b[1;33m.\u001b[0m\u001b[0mhead\u001b[0m\u001b[1;33m(\u001b[0m\u001b[1;36m0\u001b[0m\u001b[1;33m)\u001b[0m\u001b[1;33m,\u001b[0m \u001b[0mmodel\u001b[0m\u001b[1;33m.\u001b[0m\u001b[0mfeature_importances_\u001b[0m\u001b[1;33m)\u001b[0m\u001b[1;33m\u001b[0m\u001b[0m\n\u001b[0;32m      5\u001b[0m \u001b[1;33m\u001b[0m\u001b[0m\n",
      "\u001b[1;32mC:\\Users\\Maria\\Anaconda2\\lib\\site-packages\\pandas\\core\\frame.pyc\u001b[0m in \u001b[0;36mfillna\u001b[1;34m(self, value, method, axis, inplace, limit, downcast, **kwargs)\u001b[0m\n\u001b[0;32m   3033\u001b[0m                      \u001b[0mself\u001b[0m\u001b[1;33m)\u001b[0m\u001b[1;33m.\u001b[0m\u001b[0mfillna\u001b[0m\u001b[1;33m(\u001b[0m\u001b[0mvalue\u001b[0m\u001b[1;33m=\u001b[0m\u001b[0mvalue\u001b[0m\u001b[1;33m,\u001b[0m \u001b[0mmethod\u001b[0m\u001b[1;33m=\u001b[0m\u001b[0mmethod\u001b[0m\u001b[1;33m,\u001b[0m \u001b[0maxis\u001b[0m\u001b[1;33m=\u001b[0m\u001b[0maxis\u001b[0m\u001b[1;33m,\u001b[0m\u001b[1;33m\u001b[0m\u001b[0m\n\u001b[0;32m   3034\u001b[0m                                   \u001b[0minplace\u001b[0m\u001b[1;33m=\u001b[0m\u001b[0minplace\u001b[0m\u001b[1;33m,\u001b[0m \u001b[0mlimit\u001b[0m\u001b[1;33m=\u001b[0m\u001b[0mlimit\u001b[0m\u001b[1;33m,\u001b[0m\u001b[1;33m\u001b[0m\u001b[0m\n\u001b[1;32m-> 3035\u001b[1;33m                                   downcast=downcast, **kwargs)\n\u001b[0m\u001b[0;32m   3036\u001b[0m \u001b[1;33m\u001b[0m\u001b[0m\n\u001b[0;32m   3037\u001b[0m     \u001b[1;33m@\u001b[0m\u001b[0mAppender\u001b[0m\u001b[1;33m(\u001b[0m\u001b[0m_shared_docs\u001b[0m\u001b[1;33m[\u001b[0m\u001b[1;34m'shift'\u001b[0m\u001b[1;33m]\u001b[0m \u001b[1;33m%\u001b[0m \u001b[0m_shared_doc_kwargs\u001b[0m\u001b[1;33m)\u001b[0m\u001b[1;33m\u001b[0m\u001b[0m\n",
      "\u001b[1;32mC:\\Users\\Maria\\Anaconda2\\lib\\site-packages\\pandas\\core\\generic.pyc\u001b[0m in \u001b[0;36mfillna\u001b[1;34m(self, value, method, axis, inplace, limit, downcast)\u001b[0m\n\u001b[0;32m   4346\u001b[0m                 new_data = self._data.fillna(value=value, limit=limit,\n\u001b[0;32m   4347\u001b[0m                                              \u001b[0minplace\u001b[0m\u001b[1;33m=\u001b[0m\u001b[0minplace\u001b[0m\u001b[1;33m,\u001b[0m\u001b[1;33m\u001b[0m\u001b[0m\n\u001b[1;32m-> 4348\u001b[1;33m                                              downcast=downcast)\n\u001b[0m\u001b[0;32m   4349\u001b[0m             \u001b[1;32melif\u001b[0m \u001b[0misinstance\u001b[0m\u001b[1;33m(\u001b[0m\u001b[0mvalue\u001b[0m\u001b[1;33m,\u001b[0m \u001b[0mDataFrame\u001b[0m\u001b[1;33m)\u001b[0m \u001b[1;32mand\u001b[0m \u001b[0mself\u001b[0m\u001b[1;33m.\u001b[0m\u001b[0mndim\u001b[0m \u001b[1;33m==\u001b[0m \u001b[1;36m2\u001b[0m\u001b[1;33m:\u001b[0m\u001b[1;33m\u001b[0m\u001b[0m\n\u001b[0;32m   4350\u001b[0m                 \u001b[0mnew_data\u001b[0m \u001b[1;33m=\u001b[0m \u001b[0mself\u001b[0m\u001b[1;33m.\u001b[0m\u001b[0mwhere\u001b[0m\u001b[1;33m(\u001b[0m\u001b[0mself\u001b[0m\u001b[1;33m.\u001b[0m\u001b[0mnotna\u001b[0m\u001b[1;33m(\u001b[0m\u001b[1;33m)\u001b[0m\u001b[1;33m,\u001b[0m \u001b[0mvalue\u001b[0m\u001b[1;33m)\u001b[0m\u001b[1;33m\u001b[0m\u001b[0m\n",
      "\u001b[1;32mC:\\Users\\Maria\\Anaconda2\\lib\\site-packages\\pandas\\core\\internals.pyc\u001b[0m in \u001b[0;36mfillna\u001b[1;34m(self, **kwargs)\u001b[0m\n\u001b[0;32m   3449\u001b[0m \u001b[1;33m\u001b[0m\u001b[0m\n\u001b[0;32m   3450\u001b[0m     \u001b[1;32mdef\u001b[0m \u001b[0mfillna\u001b[0m\u001b[1;33m(\u001b[0m\u001b[0mself\u001b[0m\u001b[1;33m,\u001b[0m \u001b[1;33m**\u001b[0m\u001b[0mkwargs\u001b[0m\u001b[1;33m)\u001b[0m\u001b[1;33m:\u001b[0m\u001b[1;33m\u001b[0m\u001b[0m\n\u001b[1;32m-> 3451\u001b[1;33m         \u001b[1;32mreturn\u001b[0m \u001b[0mself\u001b[0m\u001b[1;33m.\u001b[0m\u001b[0mapply\u001b[0m\u001b[1;33m(\u001b[0m\u001b[1;34m'fillna'\u001b[0m\u001b[1;33m,\u001b[0m \u001b[1;33m**\u001b[0m\u001b[0mkwargs\u001b[0m\u001b[1;33m)\u001b[0m\u001b[1;33m\u001b[0m\u001b[0m\n\u001b[0m\u001b[0;32m   3452\u001b[0m \u001b[1;33m\u001b[0m\u001b[0m\n\u001b[0;32m   3453\u001b[0m     \u001b[1;32mdef\u001b[0m \u001b[0mdowncast\u001b[0m\u001b[1;33m(\u001b[0m\u001b[0mself\u001b[0m\u001b[1;33m,\u001b[0m \u001b[1;33m**\u001b[0m\u001b[0mkwargs\u001b[0m\u001b[1;33m)\u001b[0m\u001b[1;33m:\u001b[0m\u001b[1;33m\u001b[0m\u001b[0m\n",
      "\u001b[1;32mC:\\Users\\Maria\\Anaconda2\\lib\\site-packages\\pandas\\core\\internals.pyc\u001b[0m in \u001b[0;36mapply\u001b[1;34m(self, f, axes, filter, do_integrity_check, consolidate, **kwargs)\u001b[0m\n\u001b[0;32m   3322\u001b[0m \u001b[1;33m\u001b[0m\u001b[0m\n\u001b[0;32m   3323\u001b[0m             \u001b[0mkwargs\u001b[0m\u001b[1;33m[\u001b[0m\u001b[1;34m'mgr'\u001b[0m\u001b[1;33m]\u001b[0m \u001b[1;33m=\u001b[0m \u001b[0mself\u001b[0m\u001b[1;33m\u001b[0m\u001b[0m\n\u001b[1;32m-> 3324\u001b[1;33m             \u001b[0mapplied\u001b[0m \u001b[1;33m=\u001b[0m \u001b[0mgetattr\u001b[0m\u001b[1;33m(\u001b[0m\u001b[0mb\u001b[0m\u001b[1;33m,\u001b[0m \u001b[0mf\u001b[0m\u001b[1;33m)\u001b[0m\u001b[1;33m(\u001b[0m\u001b[1;33m**\u001b[0m\u001b[0mkwargs\u001b[0m\u001b[1;33m)\u001b[0m\u001b[1;33m\u001b[0m\u001b[0m\n\u001b[0m\u001b[0;32m   3325\u001b[0m             \u001b[0mresult_blocks\u001b[0m \u001b[1;33m=\u001b[0m \u001b[0m_extend_blocks\u001b[0m\u001b[1;33m(\u001b[0m\u001b[0mapplied\u001b[0m\u001b[1;33m,\u001b[0m \u001b[0mresult_blocks\u001b[0m\u001b[1;33m)\u001b[0m\u001b[1;33m\u001b[0m\u001b[0m\n\u001b[0;32m   3326\u001b[0m \u001b[1;33m\u001b[0m\u001b[0m\n",
      "\u001b[1;32mC:\\Users\\Maria\\Anaconda2\\lib\\site-packages\\pandas\\core\\internals.pyc\u001b[0m in \u001b[0;36mfillna\u001b[1;34m(self, value, limit, inplace, downcast, mgr)\u001b[0m\n\u001b[0;32m    420\u001b[0m                                     downcast=None)\n\u001b[0;32m    421\u001b[0m \u001b[1;33m\u001b[0m\u001b[0m\n\u001b[1;32m--> 422\u001b[1;33m             \u001b[1;32mreturn\u001b[0m \u001b[0mself\u001b[0m\u001b[1;33m.\u001b[0m\u001b[0msplit_and_operate\u001b[0m\u001b[1;33m(\u001b[0m\u001b[0mmask\u001b[0m\u001b[1;33m,\u001b[0m \u001b[0mf\u001b[0m\u001b[1;33m,\u001b[0m \u001b[0minplace\u001b[0m\u001b[1;33m)\u001b[0m\u001b[1;33m\u001b[0m\u001b[0m\n\u001b[0m\u001b[0;32m    423\u001b[0m \u001b[1;33m\u001b[0m\u001b[0m\n\u001b[0;32m    424\u001b[0m     \u001b[1;32mdef\u001b[0m \u001b[0msplit_and_operate\u001b[0m\u001b[1;33m(\u001b[0m\u001b[0mself\u001b[0m\u001b[1;33m,\u001b[0m \u001b[0mmask\u001b[0m\u001b[1;33m,\u001b[0m \u001b[0mf\u001b[0m\u001b[1;33m,\u001b[0m \u001b[0minplace\u001b[0m\u001b[1;33m)\u001b[0m\u001b[1;33m:\u001b[0m\u001b[1;33m\u001b[0m\u001b[0m\n",
      "\u001b[1;32mC:\\Users\\Maria\\Anaconda2\\lib\\site-packages\\pandas\\core\\internals.pyc\u001b[0m in \u001b[0;36msplit_and_operate\u001b[1;34m(self, mask, f, inplace)\u001b[0m\n\u001b[0;32m    478\u001b[0m                 \u001b[0mnv\u001b[0m \u001b[1;33m=\u001b[0m \u001b[0mf\u001b[0m\u001b[1;33m(\u001b[0m\u001b[0mm\u001b[0m\u001b[1;33m,\u001b[0m \u001b[0mv\u001b[0m\u001b[1;33m,\u001b[0m \u001b[0mi\u001b[0m\u001b[1;33m)\u001b[0m\u001b[1;33m\u001b[0m\u001b[0m\n\u001b[0;32m    479\u001b[0m             \u001b[1;32melse\u001b[0m\u001b[1;33m:\u001b[0m\u001b[1;33m\u001b[0m\u001b[0m\n\u001b[1;32m--> 480\u001b[1;33m                 \u001b[0mnv\u001b[0m \u001b[1;33m=\u001b[0m \u001b[0mv\u001b[0m \u001b[1;32mif\u001b[0m \u001b[0minplace\u001b[0m \u001b[1;32melse\u001b[0m \u001b[0mv\u001b[0m\u001b[1;33m.\u001b[0m\u001b[0mcopy\u001b[0m\u001b[1;33m(\u001b[0m\u001b[1;33m)\u001b[0m\u001b[1;33m\u001b[0m\u001b[0m\n\u001b[0m\u001b[0;32m    481\u001b[0m \u001b[1;33m\u001b[0m\u001b[0m\n\u001b[0;32m    482\u001b[0m             \u001b[0mblock\u001b[0m \u001b[1;33m=\u001b[0m \u001b[0mmake_a_block\u001b[0m\u001b[1;33m(\u001b[0m\u001b[0mnv\u001b[0m\u001b[1;33m,\u001b[0m \u001b[1;33m[\u001b[0m\u001b[0mref_loc\u001b[0m\u001b[1;33m]\u001b[0m\u001b[1;33m)\u001b[0m\u001b[1;33m\u001b[0m\u001b[0m\n",
      "\u001b[1;31mMemoryError\u001b[0m: "
     ]
    }
   ],
   "source": [
    "dfTest = dfTest.fillna(value='0')\n",
    "model = ExtraTreesClassifier()\n",
    "model.fit(dfTest, target)\n",
    "dictImp  = zip(dfTest.head(0), model.feature_importances_)\n"
   ]
  },
  {
   "cell_type": "code",
   "execution_count": 17,
   "metadata": {
    "collapsed": true
   },
   "outputs": [],
   "source": [
    "from tabulate import tabulate"
   ]
  },
  {
   "cell_type": "code",
   "execution_count": null,
   "metadata": {
    "collapsed": true
   },
   "outputs": [],
   "source": [
    "print tabulate(dictImp)\n",
    "print tabulate(dictImp2)"
   ]
  },
  {
   "cell_type": "code",
   "execution_count": null,
   "metadata": {
    "collapsed": true
   },
   "outputs": [],
   "source": [
    "dfTest2 = df[['prop_score','prop_location_score1','prop_location_score2','diff_hist_price',\n",
    "                'usd_diff', 'star_diff', 'srch_query_affinity_score', 'orig_destination_distance',\n",
    "                'prop_review_score','position','price_rank','stars_rank','score_rank','click_bool','booking_bool']]\n",
    "print dfTest2.corr()"
   ]
  },
  {
   "cell_type": "code",
   "execution_count": null,
   "metadata": {
    "collapsed": true
   },
   "outputs": [],
   "source": []
  }
 ],
 "metadata": {
  "kernelspec": {
   "display_name": "Python 2",
   "language": "python",
   "name": "python2"
  },
  "language_info": {
   "codemirror_mode": {
    "name": "ipython",
    "version": 2
   },
   "file_extension": ".py",
   "mimetype": "text/x-python",
   "name": "python",
   "nbconvert_exporter": "python",
   "pygments_lexer": "ipython2",
   "version": "2.7.14"
  }
 },
 "nbformat": 4,
 "nbformat_minor": 2
}
