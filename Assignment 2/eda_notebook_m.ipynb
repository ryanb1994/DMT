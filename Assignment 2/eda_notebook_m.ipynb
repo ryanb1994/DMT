{
 "cells": [
  {
   "cell_type": "code",
   "execution_count": 1,
   "metadata": {
    "collapsed": true
   },
   "outputs": [],
   "source": [
    "import pandas as pd\n",
    "import numpy as np\n",
    "import matplotlib.pyplot as plt\n",
    "import warnings\n",
    "warnings.simplefilter('ignore')"
   ]
  },
  {
   "cell_type": "markdown",
   "metadata": {},
   "source": [
    "Import training data from file:"
   ]
  },
  {
   "cell_type": "code",
   "execution_count": 31,
   "metadata": {
    "collapsed": true
   },
   "outputs": [],
   "source": [
    "with open('trainingset.csv', 'r') as csvfile:\n",
    "    df = pd.read_csv(csvfile, dtype={'booking_bool':bool,'srch_destination_id':np.int32, \n",
    "                                     'site_id':np.int32, 'visitor_location_country_id':np.int32,\n",
    "                                     'visitor_hist_starrating':np.float, 'visitor_hist_adr_usd':np.float,\n",
    "                                     'prop_country_id':np.int32, 'prop_id':np.int32, \n",
    "                                     'prop_starrating':np.int32, 'prop_review_score':np.float,\n",
    "                                     'prop_brand_bool':bool, 'prop_location_score1':np.float,\n",
    "                                     'prop_location_score2':np.float, 'prop_log_historical_price':np.float,\n",
    "                                     'price_usd':np.float, 'promotion_flag':bool,\\\n",
    "                                     'srch_length_of_stay':np.int32, 'srch_booking_window':np.int32,\n",
    "                                     'srch_adults_count':np.int32, 'srch_children_count':np.int32,\n",
    "                                     'srch_room_count':np.int32, 'srch_saturday_night_bool':bool,\n",
    "                                     'srch_query_affinity_score':np.float, 'orig_destination_distance':np.float,\n",
    "                                     'random_bool':bool, 'position':np.int32, 'click_bool':bool,\n",
    "                                     'booking_bool':bool, 'gross_booking_usd':np.float})\n"
   ]
  },
  {
   "cell_type": "markdown",
   "metadata": {},
   "source": [
    "# EDA"
   ]
  },
  {
   "cell_type": "markdown",
   "metadata": {},
   "source": [
    "Number of unique stuff:"
   ]
  },
  {
   "cell_type": "code",
   "execution_count": 35,
   "metadata": {
    "scrolled": true
   },
   "outputs": [
    {
     "name": "stdout",
     "output_type": "stream",
     "text": [
      "Number of unique searches: 199795\n",
      "Number of countries: 172\n",
      "Number of hotels: 129113\n"
     ]
    }
   ],
   "source": [
    "print(\"Number of unique searches:\"),len(df.srch_id.unique())\n",
    "print(\"Number of countries:\"),len(df.prop_country_id.unique())\n",
    "print(\"Number of hotels:\"),len(df.prop_id.unique())"
   ]
  },
  {
   "cell_type": "markdown",
   "metadata": {},
   "source": [
    "Difference in price between client history and current price for booked/clicked/none"
   ]
  },
  {
   "cell_type": "code",
   "execution_count": 49,
   "metadata": {},
   "outputs": [
    {
     "data": {
      "image/png": "[encoded data removed]",
      "text/plain": [
       "<matplotlib.figure.Figure at 0x775ce550>"
      ]
     },
     "metadata": {},
     "output_type": "display_data"
    }
   ],
   "source": [
    "df['usd_diff'] = abs(df.price_usd - df.visitor_hist_adr_usd)\n",
    "\n",
    "diffUsd_click = np.array(df.usd_diff.loc[df['click_bool']==True])\n",
    "diffUsd_click = diffUsd_click[~np.isnan(diffUsd_click)]\n",
    "mean_click = np.mean(diffUsd_click)\n",
    "\n",
    "diffUsd_book = np.array(df.usd_diff.loc[df['booking_bool']==True])\n",
    "diffUsd_book = diffUsd_book[~np.isnan(diffUsd_book)]\n",
    "mean_book = np.mean(diffUsd_book)\n",
    "\n",
    "diffUsd_none = np.array(df.usd_diff.loc[(df['click_bool']==False) & df['booking_bool']==False])\n",
    "diffUsd_none = diffUsd_none[~np.isnan(diffUsd_none)]\n",
    "mean_none = np.mean(diffUsd_none)\n",
    "\n",
    "np_means = np.array([mean_book,mean_click,mean_none])\n",
    "keys = ['booked','clicked','none']\n",
    "\n",
    "plt.bar(range(len(np_means)), np_means, align='center',color = ['green','blue','red'])\n",
    "plt.xticks(range(len(np_means)), keys)\n",
    "\n",
    "plt.show()\n",
    "        "
   ]
  },
  {
   "cell_type": "markdown",
   "metadata": {},
   "source": [
    "Difference in rating between client history and prop rating for booked/clicked/none"
   ]
  },
  {
   "cell_type": "code",
   "execution_count": 50,
   "metadata": {},
   "outputs": [
    {
     "data": {
      "image/png": "[encoded data removed]",
      "text/plain": [
       "<matplotlib.figure.Figure at 0x3e848f60>"
      ]
     },
     "metadata": {},
     "output_type": "display_data"
    }
   ],
   "source": [
    "df['star_diff'] = abs(df.prop_starrating - df.visitor_hist_starrating) \n",
    "\n",
    "diffStar_click = np.array(df.star_diff.loc[df['click_bool']==True])\n",
    "diffStar_click = diffStar_click[~np.isnan(diffStar_click)]\n",
    "mean_click = np.mean(diffStar_click)\n",
    "\n",
    "diffStar_book = np.array(df.star_diff.loc[df['booking_bool']==True])\n",
    "diffStar_book = diffStar_book[~np.isnan(diffStar_book)]\n",
    "mean_book = np.mean(diffStar_book)\n",
    "\n",
    "diffStar_none = np.array(df.star_diff.loc[(df['click_bool']==False) & df['booking_bool']==False])\n",
    "diffStar_none = diffStar_none[~np.isnan(diffStar_none)]\n",
    "mean_none = np.mean(diffStar_none)\n",
    "\n",
    "np_means = np.array([mean_book,mean_click,mean_none])\n",
    "keys = ['booked','clicked','none']\n",
    "\n",
    "plt.bar(range(len(np_means)), np_means, align='center',color = ['green','blue','red'])\n",
    "plt.xticks(range(len(np_means)), keys)\n",
    "\n",
    "plt.show()\n",
    "        "
   ]
  },
  {
   "cell_type": "markdown",
   "metadata": {},
   "source": [
    "See if promotion flag influences click/book:"
   ]
  },
  {
   "cell_type": "code",
   "execution_count": 38,
   "metadata": {},
   "outputs": [
    {
     "name": "stdout",
     "output_type": "stream",
     "text": [
      "Total nr clicks/Promotion flag clicks 221879 64469\n",
      "Total nr bookings/Promotion flag bookings 138390 41947\n",
      "Number of promotion flags: 1069118\n"
     ]
    }
   ],
   "source": [
    "totalClick = len(df.loc[df['click_bool']==True])\n",
    "promClick = len(df.loc[(df['click_bool']==True) & (df['promotion_flag'] == True)])\n",
    "print (\"Total nr clicks/Promotion flag clicks\"), totalClick, promClick\n",
    "\n",
    "totalBook = len(df.loc[df['booking_bool']==True])\n",
    "promBook = len(df.loc[(df['booking_bool']==True) & (df['promotion_flag'] == True)])\n",
    "print (\"Total nr bookings/Promotion flag bookings\"), totalBook, promBook\n",
    "\n",
    "totalProm = len(df.loc[df['promotion_flag']==True])\n",
    "print (\"Number of promotion flags:\"), totalProm"
   ]
  },
  {
   "cell_type": "markdown",
   "metadata": {},
   "source": [
    "Overview of competitors"
   ]
  },
  {
   "cell_type": "code",
   "execution_count": 39,
   "metadata": {},
   "outputs": [
    {
     "data": {
      "image/png": "[encoded data removed]",
      "text/plain": [
       "<matplotlib.figure.Figure at 0x462df128>"
      ]
     },
     "metadata": {},
     "output_type": "display_data"
    }
   ],
   "source": [
    "click_equal_1 = len(df.comp1_rate.loc[(df.comp1_rate == 0) & (df.click_bool == True)])\n",
    "click_more_1 = len(df.comp1_rate.loc[(df.comp1_rate == -1) & (df.click_bool == True)])\n",
    "click_less_1 = len(df.comp1_rate.loc[(df.comp1_rate == 1) & (df.click_bool == True)])\n",
    "click_na_1 = len(df.comp1_rate.loc[(np.isnan(df.comp1_rate)) & (df.click_bool == True)])\n",
    "\n",
    "npRes = np.log10(np.array([click_equal_1, click_more_1, click_less_1, click_na_1]))\n",
    "keys = ['same price', 'Exp pricier', 'Exp cheaper', 'NA']\n",
    "\n",
    "plt.bar(range(len(npRes)), npRes, align='center',color = ['blue','red','green', 'yellow'])\n",
    "plt.xticks(range(len(npRes)), keys)\n",
    "plt.show()\n",
    "\n"
   ]
  },
  {
   "cell_type": "code",
   "execution_count": 37,
   "metadata": {},
   "outputs": [
    {
     "data": {
      "image/png": "[encoded data removed]",
      "text/plain": [
       "<matplotlib.figure.Figure at 0x462b8048>"
      ]
     },
     "metadata": {},
     "output_type": "display_data"
    }
   ],
   "source": [
    "click_equal_2 = len(df.comp2_rate.loc[(df.comp2_rate == 0) & (df.click_bool == True)])\n",
    "click_more_2 = len(df.comp2_rate.loc[(df.comp2_rate == -1) & (df.click_bool == True)])\n",
    "click_less_2 = len(df.comp2_rate.loc[(df.comp2_rate == 1) & (df.click_bool == True)])\n",
    "click_na_2 = len(df.comp2_rate.loc[(np.isnan(df.comp2_rate)) & (df.click_bool == True)])\n",
    "\n",
    "npRes = np.log10(np.array([click_equal_2, click_more_2, click_less_2, click_na_2]))\n",
    "keys = ['same price', 'Exp pricier', 'Exp cheaper', 'NA']\n",
    "\n",
    "plt.bar(range(len(npRes)), npRes, align='center',color = ['blue','red','green', 'yellow'])\n",
    "plt.xticks(range(len(npRes)), keys)\n",
    "plt.show()\n"
   ]
  },
  {
   "cell_type": "code",
   "execution_count": 38,
   "metadata": {},
   "outputs": [
    {
     "data": {
      "image/png": "[encoded data removed]",
      "text/plain": [
       "<matplotlib.figure.Figure at 0x2ae83780>"
      ]
     },
     "metadata": {},
     "output_type": "display_data"
    }
   ],
   "source": [
    "click_equal_3 = len(df.comp3_rate.loc[(df.comp3_rate == 0) & (df.click_bool == True)])\n",
    "click_more_3 = len(df.comp3_rate.loc[(df.comp3_rate == -1) & (df.click_bool == True)])\n",
    "click_less_3 = len(df.comp3_rate.loc[(df.comp3_rate == 1) & (df.click_bool == True)])\n",
    "click_na_3 = len(df.comp3_rate.loc[(np.isnan(df.comp3_rate)) & (df.click_bool == True)])\n",
    "\n",
    "npRes = np.log10(np.array([click_equal_3, click_more_3, click_less_3, click_na_3]))\n",
    "keys = ['same price', 'Exp pricier', 'Exp cheaper', 'NA']\n",
    "\n",
    "plt.bar(range(len(npRes)), npRes, align='center',color = ['blue','red','green', 'yellow'])\n",
    "plt.xticks(range(len(npRes)), keys)\n",
    "plt.show()"
   ]
  },
  {
   "cell_type": "markdown",
   "metadata": {},
   "source": [
    "# Fill in missing data and create composite features"
   ]
  },
  {
   "cell_type": "markdown",
   "metadata": {},
   "source": [
    "Fill in missing values with either first quartile of country or mean of country"
   ]
  },
  {
   "cell_type": "code",
   "execution_count": 51,
   "metadata": {},
   "outputs": [],
   "source": [
    "df.prop_location_score2[np.isnan(df.prop_location_score2)] = -1\n",
    "for c in df.prop_country_id.unique():\n",
    "    #prop_location_score2 filled in with first quartile\n",
    "    if len(df[(df.prop_country_id == c) & (df.prop_location_score2 != -1)]) != 0: \n",
    "        mean_country = np.mean(df.prop_location_score2.loc[(df.prop_country_id == c) & (df.prop_location_score2 != -1) ])\n",
    "        min_country = min(df.prop_location_score2.loc[(df.prop_country_id == c) & (df.prop_location_score2 != -1)])\n",
    "        first_quart = (min_country+mean_country)/2\n",
    "        df.prop_location_score2.loc[(df.prop_country_id == c) & (df.prop_location_score2 == -1) ] = first_quart\n",
    "    else:\n",
    "        df.prop_location_score2.loc[(df.prop_country_id == c) & (df.prop_location_score2 == -1) ] = 0 \n",
    "    #the rest are filled in with the mean  \n",
    "    #difference in rating between client hist and prop rating\n",
    "    df.star_diff.loc[(np.isnan(df.star_diff)) & (df.prop_country_id == c)] = \\\n",
    "                                                    np.mean(df.star_diff.loc[df.prop_country_id == c])\n",
    "    #difference in price between client hist and prop price\n",
    "    df.usd_diff.loc[(np.isnan(df.usd_diff)) & (df.prop_country_id == c)] = \\\n",
    "                                                    np.mean(df.usd_diff.loc[df.prop_country_id == c])\n",
    "    #difference in distance between original dest and prop\n",
    "    df.orig_destination_distance.loc[(np.isnan(df.orig_destination_distance)) & (df.prop_country_id == c)] = \\\n",
    "                                                    np.mean(df.orig_destination_distance.loc[df.prop_country_id == c])\n",
    "    #search query affinity\n",
    "    df.srch_query_affinity_score.loc[(np.isnan(df.srch_query_affinity_score)) & (df.prop_country_id == c)] = \\\n",
    "                                                    np.mean(df.srch_query_affinity_score.loc[df.prop_country_id == c])\n",
    "    #review score\n",
    "    df.prop_review_score.loc[(np.isnan(df.prop_review_score)) & (df.prop_country_id == c)] = \\\n",
    "                                                    np.mean(df.prop_review_score.loc[df.prop_country_id == c])\n",
    "   \n",
    "#difference between current price and historical price gets 0\n",
    "df.diff_hist_price[np.isnan(df.diff_hist_price)] = 0       \n",
    "\n"
   ]
  },
  {
   "cell_type": "markdown",
   "metadata": {},
   "source": [
    "Fill in missing competitor data with 0:"
   ]
  },
  {
   "cell_type": "code",
   "execution_count": 40,
   "metadata": {
    "collapsed": true
   },
   "outputs": [],
   "source": [
    "df.iloc[:,27:51] = df.iloc[:,27:51].fillna(value = 0, axis = 0)"
   ]
  },
  {
   "cell_type": "markdown",
   "metadata": {},
   "source": [
    "Create new composite features:"
   ]
  },
  {
   "cell_type": "code",
   "execution_count": 41,
   "metadata": {
    "collapsed": true
   },
   "outputs": [],
   "source": [
    "#Difference in price between property historical price and current price\n",
    "df['diff_hist_price'] = np.exp(df.prop_log_historical_price) - df.price_usd\n"
   ]
  },
  {
   "cell_type": "code",
   "execution_count": 42,
   "metadata": {
    "collapsed": true
   },
   "outputs": [],
   "source": [
    "#Total price/per night\n",
    "df['total_price'] = df.price_usd * df.srch_room_count"
   ]
  },
  {
   "cell_type": "code",
   "execution_count": 43,
   "metadata": {
    "collapsed": true
   },
   "outputs": [],
   "source": [
    "#Price per person\n",
    "df['price_per_pers'] = (df.price_usd * df.srch_room_count)/(df.srch_adults_count + df.srch_children_count)"
   ]
  },
  {
   "cell_type": "markdown",
   "metadata": {},
   "source": [
    "Composite feature of the two property location scores:"
   ]
  },
  {
   "cell_type": "code",
   "execution_count": 57,
   "metadata": {
    "collapsed": true
   },
   "outputs": [],
   "source": [
    "df['prop_score'] = (df.prop_location_score2 + 0.00001)/(df.prop_location_score1 + 0.00001)"
   ]
  },
  {
   "cell_type": "markdown",
   "metadata": {},
   "source": [
    "# Feature importance"
   ]
  },
  {
   "cell_type": "code",
   "execution_count": 59,
   "metadata": {
    "collapsed": true
   },
   "outputs": [],
   "source": [
    "dfTest = df\n",
    "target = dfTest.click_bool "
   ]
  },
  {
   "cell_type": "code",
   "execution_count": 60,
   "metadata": {
    "collapsed": true
   },
   "outputs": [],
   "source": [
    "dfTest = dfTest[['prop_score','prop_location_score1','prop_location_score2','diff_hist_price','price_per_pers','price_usd',\n",
    "                'total_price','usd_diff', 'star_diff','promotion_flag', 'srch_query_affinity_score', 'orig_destination_distance',\n",
    "                'prop_review_score', 'random_bool']]\n",
    "             \n"
   ]
  },
  {
   "cell_type": "code",
   "execution_count": 61,
   "metadata": {
    "collapsed": true
   },
   "outputs": [],
   "source": [
    "from sklearn.ensemble import ExtraTreesClassifier"
   ]
  },
  {
   "cell_type": "code",
   "execution_count": 71,
   "metadata": {},
   "outputs": [],
   "source": [
    "dfTest = dfTest.fillna(value='0')\n",
    "model = ExtraTreesClassifier()\n",
    "model.fit(dfTest, target)\n",
    "dictImp  = zip(dfTest.head(0), model.feature_importances_)\n"
   ]
  },
  {
   "cell_type": "code",
   "execution_count": 72,
   "metadata": {
    "collapsed": true
   },
   "outputs": [],
   "source": [
    "from tabulate import tabulate"
   ]
  },
  {
   "cell_type": "code",
   "execution_count": 73,
   "metadata": {},
   "outputs": [
    {
     "name": "stdout",
     "output_type": "stream",
     "text": [
      "-------------------------  ----------\n",
      "prop_score                 0.0785493\n",
      "prop_location_score1       0.0564683\n",
      "prop_location_score2       0.0781039\n",
      "diff_hist_price            0.149991\n",
      "price_per_pers             0.137807\n",
      "price_usd                  0.129745\n",
      "total_price                0.129614\n",
      "usd_diff                   0.0248397\n",
      "star_diff                  0.0240147\n",
      "promotion_flag             0.00193369\n",
      "srch_query_affinity_score  0.0351084\n",
      "orig_destination_distance  0.134533\n",
      "prop_review_score          0.0174132\n",
      "random_bool                0.0018791\n",
      "-------------------------  ----------\n"
     ]
    }
   ],
   "source": [
    "print tabulate(dictImp)"
   ]
  }
 ],
 "metadata": {
  "kernelspec": {
   "display_name": "Python 2",
   "language": "python",
   "name": "python2"
  },
  "language_info": {
   "codemirror_mode": {
    "name": "ipython",
    "version": 2
   },
   "file_extension": ".py",
   "mimetype": "text/x-python",
   "name": "python",
   "nbconvert_exporter": "python",
   "pygments_lexer": "ipython2",
   "version": "2.7.14"
  }
 },
 "nbformat": 4,
 "nbformat_minor": 2
}
