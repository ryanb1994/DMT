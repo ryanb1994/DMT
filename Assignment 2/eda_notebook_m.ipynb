{
 "cells": [
  {
   "cell_type": "code",
   "execution_count": 33,
   "metadata": {
    "collapsed": true
   },
   "outputs": [],
   "source": [
    "import pandas as pd\n",
    "import numpy as np\n",
    "import matplotlib.pyplot as plt\n",
    "import warnings\n",
    "warnings.simplefilter('ignore')"
   ]
  },
  {
   "cell_type": "markdown",
   "metadata": {},
   "source": [
    "Import training data from file:"
   ]
  },
  {
   "cell_type": "code",
   "execution_count": 34,
   "metadata": {},
   "outputs": [],
   "source": [
    "with open('trainingset.csv', 'r') as csvfile:\n",
    "    df = pd.read_csv(csvfile, dtype={'booking_bool':bool,'srch_destination_id':np.int32, \n",
    "                                     'site_id':np.int32, 'visitor_location_country_id':np.int32,\n",
    "                                     'visitor_hist_starrating':np.float, 'visitor_hist_adr_usd':np.float,\n",
    "                                     'prop_country_id':np.int32, 'prop_id':np.int32, \n",
    "                                     'prop_starrating':np.int32, 'prop_review_score':np.float,\n",
    "                                     'prop_brand_bool':bool, 'prop_location_score1':np.float,\n",
    "                                     'prop_location_score2':np.float, 'prop_log_historical_price':np.float,\n",
    "                                     'price_usd':np.float, 'promotion_flag':bool,\\\n",
    "                                     'srch_length_of_stay':np.int32, 'srch_booking_window':np.int32,\n",
    "                                     'srch_adults_count':np.int32, 'srch_children_count':np.int32,\n",
    "                                     'srch_room_count':np.int32, 'srch_saturday_night_bool':bool,\n",
    "                                     'srch_query_affinity_score':np.float, 'orig_destination_distance':np.float,\n",
    "                                     'random_bool':bool, 'position':np.int32, 'click_bool':bool,\n",
    "                                     'booking_bool':bool, 'gross_booking_usd':np.float})\n"
   ]
  },
  {
   "cell_type": "markdown",
   "metadata": {},
   "source": [
    "Number of unique stuff:"
   ]
  },
  {
   "cell_type": "code",
   "execution_count": 35,
   "metadata": {
    "scrolled": true
   },
   "outputs": [
    {
     "name": "stdout",
     "output_type": "stream",
     "text": [
      "Number of unique searches: 199795\n",
      "Number of countries: 172\n",
      "Number of hotels: 129113\n"
     ]
    }
   ],
   "source": [
    "print(\"Number of unique searches:\"),len(df.srch_id.unique())\n",
    "print(\"Number of countries:\"),len(df.prop_country_id.unique())\n",
    "print(\"Number of hotels:\"),len(df.prop_id.unique())"
   ]
  },
  {
   "cell_type": "markdown",
   "metadata": {},
   "source": [
    "Difference in price between client history and current price for booked/clicked/none"
   ]
  },
  {
   "cell_type": "code",
   "execution_count": 36,
   "metadata": {},
   "outputs": [
    {
     "data": {
      "image/png": "[encoded data removed]",
      "text/plain": [
       "<matplotlib.figure.Figure at 0x56aff748>"
      ]
     },
     "metadata": {},
     "output_type": "display_data"
    }
   ],
   "source": [
    "df['usd_diff'] = abs(df.price_usd - df.visitor_hist_adr_usd)\n",
    "\n",
    "diffUsd_click = np.array(df.usd_diff.loc[df['click_bool']==True])\n",
    "diffUsd_click = diffUsd_click[~np.isnan(diffUsd_click)]\n",
    "mean_click = np.mean(diffUsd_click)\n",
    "\n",
    "diffUsd_book = np.array(df.usd_diff.loc[df['booking_bool']==True])\n",
    "diffUsd_book = diffUsd_book[~np.isnan(diffUsd_book)]\n",
    "mean_book = np.mean(diffUsd_book)\n",
    "\n",
    "diffUsd_none = np.array(df.usd_diff.loc[(df['click_bool']==False) & df['booking_bool']==False])\n",
    "diffUsd_none = diffUsd_none[~np.isnan(diffUsd_none)]\n",
    "mean_none = np.mean(diffUsd_none)\n",
    "\n",
    "np_means = np.array([mean_book,mean_click,mean_none])\n",
    "keys = ['booked','clicked','none']\n",
    "\n",
    "plt.bar(range(len(np_means)), np_means, align='center',color = ['green','blue','red'])\n",
    "plt.xticks(range(len(np_means)), keys)\n",
    "\n",
    "plt.show()\n",
    "        "
   ]
  },
  {
   "cell_type": "markdown",
   "metadata": {},
   "source": [
    "Difference in rating between client history and prop rating for booked/clicked/none"
   ]
  },
  {
   "cell_type": "code",
   "execution_count": 37,
   "metadata": {},
   "outputs": [
    {
     "data": {
      "image/png": "[encoded data removed]",
      "text/plain": [
       "<matplotlib.figure.Figure at 0x7111a908>"
      ]
     },
     "metadata": {},
     "output_type": "display_data"
    }
   ],
   "source": [
    "df['star_diff'] = abs(df.prop_starrating - df.visitor_hist_starrating) \n",
    "\n",
    "diffStar_click = np.array(df.star_diff.loc[df['click_bool']==True])\n",
    "diffStar_click = diffStar_click[~np.isnan(diffStar_click)]\n",
    "mean_click = np.mean(diffStar_click)\n",
    "\n",
    "diffStar_book = np.array(df.star_diff.loc[df['booking_bool']==True])\n",
    "diffStar_book = diffStar_book[~np.isnan(diffStar_book)]\n",
    "mean_book = np.mean(diffStar_book)\n",
    "\n",
    "diffStar_none = np.array(df.star_diff.loc[(df['click_bool']==False) & df['booking_bool']==False])\n",
    "diffStar_none = diffStar_none[~np.isnan(diffStar_none)]\n",
    "mean_none = np.mean(diffStar_none)\n",
    "\n",
    "np_means = np.array([mean_book,mean_click,mean_none])\n",
    "keys = ['booked','clicked','none']\n",
    "\n",
    "plt.bar(range(len(np_means)), np_means, align='center',color = ['green','blue','red'])\n",
    "plt.xticks(range(len(np_means)), keys)\n",
    "\n",
    "plt.show()\n",
    "        "
   ]
  },
  {
   "cell_type": "markdown",
   "metadata": {},
   "source": [
    "See if promotion flag influences click/book:"
   ]
  },
  {
   "cell_type": "code",
   "execution_count": 38,
   "metadata": {},
   "outputs": [
    {
     "name": "stdout",
     "output_type": "stream",
     "text": [
      "Total nr clicks/Promotion flag clicks 221879 64469\n",
      "Total nr bookings/Promotion flag bookings 138390 41947\n",
      "Number of promotion flags: 1069118\n"
     ]
    }
   ],
   "source": [
    "totalClick = len(df.loc[df['click_bool']==True])\n",
    "promClick = len(df.loc[(df['click_bool']==True) & (df['promotion_flag'] == True)])\n",
    "print (\"Total nr clicks/Promotion flag clicks\"), totalClick, promClick\n",
    "\n",
    "totalBook = len(df.loc[df['booking_bool']==True])\n",
    "promBook = len(df.loc[(df['booking_bool']==True) & (df['promotion_flag'] == True)])\n",
    "print (\"Total nr bookings/Promotion flag bookings\"), totalBook, promBook\n",
    "\n",
    "totalProm = len(df.loc[df['promotion_flag']==True])\n",
    "print (\"Number of promotion flags:\"), totalProm"
   ]
  }
 ],
 "metadata": {
  "kernelspec": {
   "display_name": "Python 2",
   "language": "python",
   "name": "python2"
  },
  "language_info": {
   "codemirror_mode": {
    "name": "ipython",
    "version": 2
   },
   "file_extension": ".py",
   "mimetype": "text/x-python",
   "name": "python",
   "nbconvert_exporter": "python",
   "pygments_lexer": "ipython2",
   "version": "2.7.14"
  }
 },
 "nbformat": 4,
 "nbformat_minor": 2
}
