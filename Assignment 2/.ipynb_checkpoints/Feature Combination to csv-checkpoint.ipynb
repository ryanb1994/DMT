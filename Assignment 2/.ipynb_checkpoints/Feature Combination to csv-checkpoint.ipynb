{
 "cells": [
  {
   "cell_type": "code",
   "execution_count": 1,
   "metadata": {},
   "outputs": [],
   "source": [
    "import pandas as pd\n",
    "import numpy as np\n",
    "import matplotlib.pyplot as plt\n",
    "import warnings\n",
    "warnings.simplefilter('ignore')"
   ]
  },
  {
   "cell_type": "code",
   "execution_count": 2,
   "metadata": {},
   "outputs": [],
   "source": [
    "with open('train.csv', 'r') as csvfile:\n",
    "    df = pd.read_csv(csvfile, dtype={'booking_bool':bool,'srch_destination_id':np.int32, \n",
    "                                     'site_id':np.int32, 'visitor_location_country_id':np.int32,\n",
    "                                     'visitor_hist_starrating':np.float, 'visitor_hist_adr_usd':np.float,\n",
    "                                     'prop_country_id':np.int32, 'prop_id':np.int32, \n",
    "                                     'prop_starrating':np.int32, 'prop_review_score':np.float,\n",
    "                                     'prop_brand_bool':bool, 'prop_location_score1':np.float,\n",
    "                                     'prop_location_score2':np.float, 'prop_log_historical_price':np.float,\n",
    "                                     'price_usd':np.float, 'promotion_flag':bool,\\\n",
    "                                     'srch_length_of_stay':np.int32, 'srch_booking_window':np.int32,\n",
    "                                     'srch_adults_count':np.int32, 'srch_children_count':np.int32,\n",
    "                                     'srch_room_count':np.int32, 'srch_saturday_night_bool':bool,\n",
    "                                     'srch_query_affinity_score':np.float, 'orig_destination_distance':np.float,\n",
    "                                     'random_bool':bool, 'position':np.int32, 'click_bool':bool,\n",
    "                                     'booking_bool':bool, 'gross_booking_usd':np.float})"
   ]
  },
  {
   "cell_type": "code",
   "execution_count": 3,
   "metadata": {},
   "outputs": [],
   "source": [
    "df[\"date_time\"] = pd.to_datetime(df[\"date_time\"])\n",
    "df[\"year\"] = df[\"date_time\"].dt.year\n",
    "df[\"month\"] = df[\"date_time\"].dt.month"
   ]
  },
  {
   "cell_type": "code",
   "execution_count": 4,
   "metadata": {},
   "outputs": [],
   "source": [
    "# Remove outliers price_usd\n",
    "top2point5 = df.price_usd.quantile(0.975)\n",
    "low2point5 = df.price_usd.quantile(0.025)\n",
    "df = df[df.price_usd < top2point5]\n",
    "df = df[df.price_usd > low2point5]"
   ]
  },
  {
   "cell_type": "code",
   "execution_count": 5,
   "metadata": {},
   "outputs": [],
   "source": [
    "df['usd_diff'] = abs(df.price_usd - df.visitor_hist_adr_usd)"
   ]
  },
  {
   "cell_type": "code",
   "execution_count": 6,
   "metadata": {},
   "outputs": [],
   "source": [
    "df['star_diff'] = abs(df.prop_starrating - df.visitor_hist_starrating) "
   ]
  },
  {
   "cell_type": "code",
   "execution_count": 7,
   "metadata": {},
   "outputs": [],
   "source": [
    "#Difference in price between property historical price and current price\n",
    "df['diff_hist_price'] = np.exp(df.prop_log_historical_price) - df.price_usd"
   ]
  },
  {
   "cell_type": "code",
   "execution_count": 8,
   "metadata": {},
   "outputs": [],
   "source": [
    "df.prop_location_score2[np.isnan(df.prop_location_score2)] = -1\n",
    "for c in df.prop_country_id.unique():\n",
    "    #prop_location_score2 filled in with first quartile\n",
    "    if len(df[(df.prop_country_id == c) & (df.prop_location_score2 != -1)]) != 0: \n",
    "        mean_country = np.mean(df.prop_location_score2.loc[(df.prop_country_id == c) & (df.prop_location_score2 != -1) ])\n",
    "        min_country = min(df.prop_location_score2.loc[(df.prop_country_id == c) & (df.prop_location_score2 != -1)])\n",
    "        first_quart = (min_country+mean_country)/2\n",
    "        df.prop_location_score2.loc[(df.prop_country_id == c) & (df.prop_location_score2 == -1) ] = first_quart\n",
    "    else:\n",
    "        df.prop_location_score2.loc[(df.prop_country_id == c) & (df.prop_location_score2 == -1) ] = 0 \n",
    "    #the rest are filled in with the mean  \n",
    "    #difference in rating between client hist and prop rating\n",
    "    df.star_diff.loc[(np.isnan(df.star_diff)) & (df.prop_country_id == c)] = \\\n",
    "                                                    np.mean(df.star_diff.loc[df.prop_country_id == c])\n",
    "    #difference in price between client hist and prop price\n",
    "    df.usd_diff.loc[(np.isnan(df.usd_diff)) & (df.prop_country_id == c)] = \\\n",
    "                                                    np.mean(df.usd_diff.loc[df.prop_country_id == c])\n",
    "    #difference in distance between original dest and prop\n",
    "    df.orig_destination_distance.loc[(np.isnan(df.orig_destination_distance)) & (df.prop_country_id == c)] = \\\n",
    "                                                    np.mean(df.orig_destination_distance.loc[df.prop_country_id == c])\n",
    "    #search query affinity\n",
    "    df.srch_query_affinity_score.loc[(np.isnan(df.srch_query_affinity_score)) & (df.prop_country_id == c)] = \\\n",
    "                                                    np.mean(df.srch_query_affinity_score.loc[df.prop_country_id == c])\n",
    "    #review score\n",
    "    df.prop_review_score.loc[(np.isnan(df.prop_review_score)) & (df.prop_country_id == c)] = \\\n",
    "                                                    np.mean(df.prop_review_score.loc[df.prop_country_id == c])\n",
    "   \n",
    "#difference between current price and historical price gets 0\n",
    "df.diff_hist_price[np.isnan(df.diff_hist_price)] = 0"
   ]
  },
  {
   "cell_type": "code",
   "execution_count": 9,
   "metadata": {},
   "outputs": [],
   "source": [
    "df['price_rank'] = df.groupby('srch_id', sort=False)['price_usd'].rank(ascending=True, method =\"min\")\n",
    "df['stars_rank'] = df.groupby('srch_id', sort=False)['prop_starrating'].rank(ascending=True, method = \"min\")\n",
    "df['score_rank'] = df.groupby('srch_id', sort=False)['prop_location_score2'].rank(ascending=True, method = \"min\")"
   ]
  },
  {
   "cell_type": "code",
   "execution_count": 10,
   "metadata": {},
   "outputs": [],
   "source": [
    "df.iloc[:,27:51] = df.iloc[:,27:51].fillna(value = 0, axis = 0)"
   ]
  },
  {
   "cell_type": "code",
   "execution_count": 11,
   "metadata": {},
   "outputs": [],
   "source": [
    "#Total price/per night\n",
    "df['total_price'] = df.price_usd * df.srch_room_count"
   ]
  },
  {
   "cell_type": "code",
   "execution_count": 12,
   "metadata": {},
   "outputs": [],
   "source": [
    "#Price per person\n",
    "df['price_per_pers'] = (df.price_usd * df.srch_room_count)/(df.srch_adults_count + df.srch_children_count)"
   ]
  },
  {
   "cell_type": "code",
   "execution_count": 13,
   "metadata": {},
   "outputs": [],
   "source": [
    "df['prop_score'] = (df.prop_location_score2 + 0.00001)/(df.prop_location_score1 + 0.00001)"
   ]
  },
  {
   "cell_type": "code",
   "execution_count": 18,
   "metadata": {},
   "outputs": [],
   "source": [
    "header = ['year', 'month', 'prop_score','prop_location_score1','prop_location_score2','diff_hist_price',\n",
    "                'usd_diff', 'star_diff', 'srch_query_affinity_score', 'orig_destination_distance',\n",
    "                'prop_review_score','position','price_rank','stars_rank','score_rank', 'booking_bool', 'click_bool']"
   ]
  },
  {
   "cell_type": "code",
   "execution_count": 19,
   "metadata": {},
   "outputs": [],
   "source": [
    "df.to_csv('new_train.csv', columns = header)"
   ]
  },
  {
   "cell_type": "code",
   "execution_count": null,
   "metadata": {},
   "outputs": [],
   "source": []
  }
 ],
 "metadata": {
  "kernelspec": {
   "display_name": "Python 3",
   "language": "python",
   "name": "python3"
  },
  "language_info": {
   "codemirror_mode": {
    "name": "ipython",
    "version": 3
   },
   "file_extension": ".py",
   "mimetype": "text/x-python",
   "name": "python",
   "nbconvert_exporter": "python",
   "pygments_lexer": "ipython3",
   "version": "3.6.5"
  }
 },
 "nbformat": 4,
 "nbformat_minor": 2
}
