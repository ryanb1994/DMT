{
 "cells": [
  {
   "cell_type": "code",
   "execution_count": 1,
   "metadata": {},
   "outputs": [],
   "source": [
    "import pandas as pd\n",
    "import numpy as np\n",
    "\n",
    "df = pd.read_csv('train2.csv')\n"
   ]
  },
  {
   "cell_type": "code",
   "execution_count": 2,
   "metadata": {},
   "outputs": [],
   "source": [
    "df = df[['srch_id', 'position', 'booking_bool', 'click_bool', 'ndcg']]\n",
    "array_dcg = []\n",
    "array_idcg = np.empty(0)\n",
    "t_idcg = np.empty\n",
    "sum_dcg = 0\n",
    "sum_idcg = 0\n",
    "length_df = len(df)\n",
    "\n",
    "def dcg(i, rel):\n",
    "    return (2**rel - 1)/(np.log2(i + 1))\n",
    "\n",
    "def reverse_numeric(x, y):\n",
    "    return y - x"
   ]
  },
  {
   "cell_type": "code",
   "execution_count": 3,
   "metadata": {},
   "outputs": [],
   "source": [
    "for k in range(0, length_df - 1):\n",
    "    if k != length_df - 1:\n",
    "        if(df['srch_id'][k] < df['srch_id'][k + 1]):\n",
    "            # Last sum dcg is busy.\n",
    "            sum_dcg += dcg(df['position'][k],df['ndcg'][k])\n",
    "            array_dcg.append(sum_dcg)\n",
    "            sum_dcg = 0\n",
    "        else:\n",
    "            sum_dcg += dcg(df['position'][k],df['ndcg'][k])\n",
    "    else:\n",
    "        # Last sum dcg is busy.\n",
    "        sum_dcg += dcg(df['position'][k],df['ndcg'][k])\n",
    "        array_dcg.append(sum_dcg)\n",
    "        sum_dcg = 0        "
   ]
  },
  {
   "cell_type": "code",
   "execution_count": null,
   "metadata": {
    "scrolled": false
   },
   "outputs": [],
   "source": [
    "array_idcg = np.array([])\n",
    "t_idcg = np.array([])\n",
    "\n",
    "for k in range(0, length_df - 1):\n",
    "    if k != length_df - 1:\n",
    "        if(df['srch_id'][k] < df['srch_id'][k + 1]):\n",
    "            np.append(t_idcg, df['ndcg'][k])\n",
    "            t_idcg.sort()\n",
    "            for j in range(len(t_idcg) - 1, 0, -1):\n",
    "                sum_idcg += dcg(j, temp_idcg[j])\n",
    "            np.append(array_idcg, sum_idcg)\n",
    "            sum_idcg = 0\n",
    "            temp_idcg = []\n",
    "        else:\n",
    "            if(df['ndcg'][k] == 5.0 or df['ndcg'][k] == 1.0):\n",
    "                np.append(t_idcg, df['ndcg'][k])\n",
    "            \n",
    "    else:\n",
    "        np.append(t_idcg, df['ndcg'][k])\n",
    "        t_idcg.sort()\n",
    "        for j in  range(len(t_idcg) - 1, 0, -1):\n",
    "            sum_idcg += dcg(j, temp_idcg[j])\n",
    "        np.append(array_idcg, sum_idcg)"
   ]
  },
  {
   "cell_type": "code",
   "execution_count": null,
   "metadata": {},
   "outputs": [],
   "source": []
  },
  {
   "cell_type": "code",
   "execution_count": null,
   "metadata": {},
   "outputs": [],
   "source": []
  },
  {
   "cell_type": "code",
   "execution_count": null,
   "metadata": {},
   "outputs": [],
   "source": []
  },
  {
   "cell_type": "code",
   "execution_count": null,
   "metadata": {},
   "outputs": [],
   "source": []
  }
 ],
 "metadata": {
  "kernelspec": {
   "display_name": "Python 3",
   "language": "python",
   "name": "python3"
  },
  "language_info": {
   "codemirror_mode": {
    "name": "ipython",
    "version": 3
   },
   "file_extension": ".py",
   "mimetype": "text/x-python",
   "name": "python",
   "nbconvert_exporter": "python",
   "pygments_lexer": "ipython3",
   "version": "3.6.5"
  }
 },
 "nbformat": 4,
 "nbformat_minor": 2
}
