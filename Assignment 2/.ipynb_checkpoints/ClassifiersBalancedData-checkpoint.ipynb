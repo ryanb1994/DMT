{
 "cells": [
  {
   "cell_type": "code",
   "execution_count": 1,
   "metadata": {
    "collapsed": true
   },
   "outputs": [],
   "source": [
    "import pandas as pd\n",
    "import numpy as np\n",
    "from sklearn.neighbors import KNeighborsClassifier\n",
    "from sklearn.ensemble import RandomForestClassifier\n",
    "from sklearn.neural_network import MLPClassifier\n",
    "from sklearn import tree"
   ]
  },
  {
   "cell_type": "code",
   "execution_count": 17,
   "metadata": {
    "collapsed": true
   },
   "outputs": [],
   "source": [
    "with open('new_train.csv', 'r') as csvfile:\n",
    "    df = pd.read_csv(csvfile, dtype={'booking_bool':bool,\n",
    "                                     'prop_country_id':np.int32, \n",
    "                                     'prop_starrating':np.int32, 'prop_review_score':np.float,\n",
    "                                     'prop_location_score1':np.float,\n",
    "                                     'prop_location_score2':np.float, 'price_usd':np.float,\n",
    "                                     'price_usd':np.float, 'total_price':np.float, 'price_per_pers':np.float,\n",
    "                                     'srch_query_affinity_score':np.float, 'orig_destination_distance':np.float,\n",
    "                                     'position':np.int32, 'click_bool':bool})\n"
   ]
  },
  {
   "cell_type": "code",
   "execution_count": 3,
   "metadata": {
    "collapsed": true
   },
   "outputs": [],
   "source": [
    "target = ['booking_bool', 'click_bool']"
   ]
  },
  {
   "cell_type": "markdown",
   "metadata": {},
   "source": [
    "### My selection of features after applying the Feature combination with worst case scenario algorithm\n",
    "(Mind that some of these features are not selected in the final step when creating new_train.csv in the notebook that is currently on git)"
   ]
  },
  {
   "cell_type": "code",
   "execution_count": 19,
   "metadata": {
    "collapsed": true
   },
   "outputs": [],
   "source": [
    "data = ['prop_score','prop_location_score1','prop_location_score2','diff_hist_price',\n",
    "                'usd_diff', 'star_diff','price_per_pers','random_bool', 'price_usd', 'total_price',\n",
    "                'prop_review_score','price_rank','stars_rank','score_rank', 'position']"
   ]
  },
  {
   "cell_type": "markdown",
   "metadata": {},
   "source": [
    "### Take data from some countries so that the number of test/train is approx equal \n",
    "### AND\n",
    "### Downsample negative data"
   ]
  },
  {
   "cell_type": "code",
   "execution_count": 132,
   "metadata": {},
   "outputs": [
    {
     "name": "stdout",
     "output_type": "stream",
     "text": [
      "58434 59481\n"
     ]
    }
   ],
   "source": [
    "df_sample = df[(df.prop_country_id.isin([55, 31, 129]))]\n",
    "df_train = df_sample[df_sample.click_bool == True]\n",
    "df_sample = df_sample[df_sample.click_bool == False]\n",
    "df_negs = df_sample.sample(n = 2 * len(df_train))\n",
    "df_sample = df_train.append(df_negs)\n",
    "\n",
    "df_sample2 = df[(df.prop_country_id.isin([99,100]))]\n",
    "df_test = df_sample2[df_sample2.click_bool == True]\n",
    "df_sample2 = df_sample2[df_sample2.click_bool == False]\n",
    "df_negs = df_sample2.sample(n = 2 * len(df_test))\n",
    "df_test = df_test.append(df_negs)\n",
    "\n",
    "print len(df_sample),len(df_test)"
   ]
  },
  {
   "cell_type": "code",
   "execution_count": 133,
   "metadata": {
    "collapsed": true
   },
   "outputs": [],
   "source": [
    "#df_test = df[df.prop_country_id == 100]"
   ]
  },
  {
   "cell_type": "code",
   "execution_count": 134,
   "metadata": {},
   "outputs": [
    {
     "name": "stdout",
     "output_type": "stream",
     "text": [
      "33.3333333333\n",
      "20.2929801143\n"
     ]
    }
   ],
   "source": [
    "print float(len(df_sample[df_sample['click_bool'] == True]))/len(df_sample)*100\n",
    "print float(len(df_sample[df_sample['booking_bool'] == True]))/len(df_sample)*100"
   ]
  },
  {
   "cell_type": "code",
   "execution_count": 135,
   "metadata": {
    "collapsed": true
   },
   "outputs": [],
   "source": [
    "X = df_sample[data]\n",
    "y = df_sample[target]\n",
    "pred = df_test[data]\n",
    "verif = df_test[target]"
   ]
  },
  {
   "cell_type": "markdown",
   "metadata": {},
   "source": [
    "### KNeighbors "
   ]
  },
  {
   "cell_type": "code",
   "execution_count": 136,
   "metadata": {
    "collapsed": true
   },
   "outputs": [],
   "source": [
    "knn  = KNeighborsClassifier(n_neighbors  = 5)\n",
    "knn.fit(X,y)\n",
    "prediction = knn.predict(pred)\n",
    "#print cross_val_score(knn, X, y, cv = 10, scoring = 'accuracy').mean()"
   ]
  },
  {
   "cell_type": "code",
   "execution_count": 137,
   "metadata": {},
   "outputs": [
    {
     "name": "stdout",
     "output_type": "stream",
     "text": [
      "Total number of clicked predictions:  16359\n",
      "Number of correct clicked/non-clicked predictions:  40129\n",
      "Number of false positives clicked 7942\n",
      "Number of false negatives clicked 11410\n",
      "Total number of booked predictions:  6470\n",
      "Number of correct booked/non-booked predictions:  45405\n",
      "Number of false positives booked 3861\n",
      "Number of false negatives booked 10215\n"
     ]
    }
   ],
   "source": [
    "from collections import Counter\n",
    "Counter(x for xs in prediction for x in set(xs))\n",
    "head = ['booking_bool','click_bool']\n",
    "prediction_df = pd.DataFrame(prediction, columns=head)\n",
    "\n",
    "diff =  np.subtract(prediction_df.click_bool, np.int32(df_test.click_bool))\n",
    "print \"Total number of clicked predictions: \", len(prediction_df[prediction_df.click_bool == 1])\n",
    "print \"Number of correct clicked/non-clicked predictions: \", np.count_nonzero(diff == 0)\n",
    "print \"Number of false positives clicked\", np.count_nonzero(diff == 1)\n",
    "print \"Number of false negatives clicked\", np.count_nonzero(diff == -1)\n",
    "\n",
    "diff2 =  np.subtract(prediction_df.booking_bool, np.int32(df_test.booking_bool))\n",
    "print \"Total number of booked predictions: \", len(prediction_df[prediction_df.booking_bool == 1])\n",
    "print \"Number of correct booked/non-booked predictions: \", np.count_nonzero(diff2 == 0)\n",
    "print \"Number of false positives booked\", np.count_nonzero(diff2 == 1)\n",
    "print \"Number of false negatives booked\", np.count_nonzero(diff2 == -1)"
   ]
  },
  {
   "cell_type": "markdown",
   "metadata": {},
   "source": [
    "### Decision Tree"
   ]
  },
  {
   "cell_type": "code",
   "execution_count": 138,
   "metadata": {},
   "outputs": [
    {
     "name": "stdout",
     "output_type": "stream",
     "text": [
      "True\n"
     ]
    }
   ],
   "source": [
    "clf = tree.DecisionTreeClassifier()\n",
    "clf = clf.fit(X, y)\n",
    "prediction = clf.predict(pred)\n",
    "search = 1\n",
    "print any(e[0] == search for e in prediction)\n",
    "#print cross_val_score(clf, X, y, cv=10, scoring='accuracy').mean()"
   ]
  },
  {
   "cell_type": "code",
   "execution_count": 139,
   "metadata": {},
   "outputs": [
    {
     "name": "stdout",
     "output_type": "stream",
     "text": [
      "Total number of clicked predictions:  20906\n",
      "Number of correct clicked/non-clicked predictions:  38306\n",
      "Number of false positives clicked 11127\n",
      "Number of false negatives clicked 10048\n",
      "Total number of booked predictions:  13111\n",
      "Number of correct booked/non-booked predictions:  44392\n",
      "Number of false positives booked 7688\n",
      "Number of false negatives booked 7401\n"
     ]
    }
   ],
   "source": [
    "from collections import Counter\n",
    "Counter(x for xs in prediction for x in set(xs))\n",
    "head = ['booking_bool','click_bool']\n",
    "prediction_df = pd.DataFrame(prediction, columns=head)\n",
    "\n",
    "diff =  np.subtract(prediction_df.click_bool, np.int32(df_test.click_bool))\n",
    "print \"Total number of clicked predictions: \", len(prediction_df[prediction_df.click_bool == 1])\n",
    "print \"Number of correct clicked/non-clicked predictions: \", np.count_nonzero(diff == 0)\n",
    "print \"Number of false positives clicked\", np.count_nonzero(diff == 1)\n",
    "print \"Number of false negatives clicked\", np.count_nonzero(diff == -1)\n",
    "\n",
    "diff2 =  np.subtract(prediction_df.booking_bool, np.int32(df_test.booking_bool))\n",
    "print \"Total number of booked predictions: \", len(prediction_df[prediction_df.booking_bool == 1])\n",
    "print \"Number of correct booked/non-booked predictions: \", np.count_nonzero(diff2 == 0)\n",
    "print \"Number of false positives booked\", np.count_nonzero(diff2 == 1)\n",
    "print \"Number of false negatives booked\", np.count_nonzero(diff2 == -1)\n"
   ]
  },
  {
   "cell_type": "markdown",
   "metadata": {},
   "source": [
    "### Gradient Boosting - best performance"
   ]
  },
  {
   "cell_type": "code",
   "execution_count": 140,
   "metadata": {
    "collapsed": true
   },
   "outputs": [],
   "source": [
    "from sklearn.ensemble import GradientBoostingClassifier"
   ]
  },
  {
   "cell_type": "code",
   "execution_count": 141,
   "metadata": {
    "collapsed": true
   },
   "outputs": [],
   "source": [
    "y_GBC = y.click_bool\n",
    "clf = GradientBoostingClassifier(max_depth = 2)\n",
    "clf.fit(X, y_GBC)\n",
    "prediction = clf.predict(pred)\n",
    "#print cross_val_score(clf, X,y_GBC, cv=10, scoring='accuracy').mean()"
   ]
  },
  {
   "cell_type": "code",
   "execution_count": 142,
   "metadata": {},
   "outputs": [
    {
     "name": "stdout",
     "output_type": "stream",
     "text": [
      "Total number of clicked predictions: 13757\n",
      "Total number of correct predictions: 43779\n",
      "Number of false positives: 4816\n",
      "Number of false negatives: 10886\n"
     ]
    }
   ],
   "source": [
    "print \"Total number of clicked predictions:\", np.count_nonzero(prediction == 1)\n",
    "diff =  np.subtract(prediction, np.int32(df_test.click_bool))\n",
    "print \"Total number of correct predictions:\", np.count_nonzero(diff == 0)\n",
    "print \"Number of false positives:\", np.count_nonzero(diff == 1)\n",
    "print \"Number of false negatives:\", np.count_nonzero(diff == -1)\n"
   ]
  },
  {
   "cell_type": "code",
   "execution_count": 143,
   "metadata": {
    "collapsed": true
   },
   "outputs": [],
   "source": [
    "clf = GradientBoostingClassifier(max_depth = 2)\n",
    "clf.fit(X, y.booking_bool)\n",
    "prediction = clf.predict(pred)\n",
    "#print cross_val_score(clf, X, y.booking_bool, cv=10, scoring='accuracy').mean()"
   ]
  },
  {
   "cell_type": "code",
   "execution_count": 144,
   "metadata": {},
   "outputs": [
    {
     "name": "stdout",
     "output_type": "stream",
     "text": [
      "Total number of booked predictions: 8233\n",
      "Total number of correct predictions: 48722\n",
      "Number of false positives: 3084\n",
      "Number of false negatives: 7675\n"
     ]
    }
   ],
   "source": [
    "print \"Total number of booked predictions:\", np.count_nonzero(prediction == 1)\n",
    "diff =  np.subtract(prediction, np.int32(df_test.booking_bool))\n",
    "print \"Total number of correct predictions:\", np.count_nonzero(diff == 0)\n",
    "print \"Number of false positives:\", np.count_nonzero(diff == 1)\n",
    "print \"Number of false negatives:\", np.count_nonzero(diff == -1)\n"
   ]
  },
  {
   "cell_type": "code",
   "execution_count": 145,
   "metadata": {},
   "outputs": [
    {
     "name": "stdout",
     "output_type": "stream",
     "text": [
      "--------------------  ----------\n",
      "prop_score            0.0644309\n",
      "prop_location_score1  0.0533215\n",
      "prop_location_score2  0.0695242\n",
      "diff_hist_price       0.0384813\n",
      "usd_diff              0.0937379\n",
      "star_diff             0.0275932\n",
      "price_per_pers        0.0218597\n",
      "random_bool           0.158199\n",
      "price_usd             0.0074437\n",
      "total_price           0.00754451\n",
      "prop_review_score     0.0553316\n",
      "price_rank            0.153135\n",
      "stars_rank            0.0190584\n",
      "score_rank            0.031016\n",
      "position              0.199323\n",
      "--------------------  ----------\n"
     ]
    }
   ],
   "source": [
    "from tabulate import tabulate\n",
    "dictImp  = zip(X.head(0), clf.feature_importances_)\n",
    "print tabulate(dictImp)"
   ]
  },
  {
   "cell_type": "markdown",
   "metadata": {},
   "source": [
    "### Random Forest - fails to detect any booking, but biggest majority of clicks prediction are correct"
   ]
  },
  {
   "cell_type": "code",
   "execution_count": 151,
   "metadata": {
    "collapsed": true
   },
   "outputs": [],
   "source": [
    "clf = RandomForestClassifier(max_depth = 2, random_state = 0, n_estimators = 500)\n",
    "clf.fit(X, y)\n",
    "prediction = clf.predict(pred)\n",
    "#print cross_val_score(clf, X, y, cv=10, scoring='accuracy').mean()\n"
   ]
  },
  {
   "cell_type": "code",
   "execution_count": 152,
   "metadata": {},
   "outputs": [
    {
     "name": "stdout",
     "output_type": "stream",
     "text": [
      "Total number of clicked predictions:  1184\n",
      "Number of correct clicked/non-clicked predictions:  40412\n",
      "Number of false positives clicked 213\n",
      "Number of false negatives clicked 18856\n",
      "Total number of booked predictions:  0\n",
      "Number of correct booked/non-booked predictions:  46657\n",
      "Number of false positives booked 0\n",
      "Number of false negatives booked 12824\n"
     ]
    }
   ],
   "source": [
    "Counter(x for xs in prediction for x in set(xs))\n",
    "head = ['booking_bool','click_bool']\n",
    "prediction_df = pd.DataFrame(prediction, columns=head)\n",
    "\n",
    "diff =  np.subtract(prediction_df.click_bool, np.int32(df_test.click_bool))\n",
    "print \"Total number of clicked predictions: \", len(prediction_df[prediction_df.click_bool == 1])\n",
    "print \"Number of correct clicked/non-clicked predictions: \", np.count_nonzero(diff == 0)\n",
    "print \"Number of false positives clicked\", np.count_nonzero(diff == 1)\n",
    "print \"Number of false negatives clicked\", np.count_nonzero(diff == -1)\n",
    "\n",
    "diff2 =  np.subtract(prediction_df.booking_bool, np.int32(df_test.booking_bool))\n",
    "print \"Total number of booked predictions: \", len(prediction_df[prediction_df.booking_bool == 1])\n",
    "print \"Number of correct booked/non-booked predictions: \", np.count_nonzero(diff2 == 0)\n",
    "print \"Number of false positives booked\", np.count_nonzero(diff2 == 1)\n",
    "print \"Number of false negatives booked\", np.count_nonzero(diff2 == -1)\n"
   ]
  },
  {
   "cell_type": "code",
   "execution_count": null,
   "metadata": {
    "collapsed": true
   },
   "outputs": [],
   "source": []
  }
 ],
 "metadata": {
  "kernelspec": {
   "display_name": "Python 3",
   "language": "python",
   "name": "python3"
  },
  "language_info": {
   "codemirror_mode": {
    "name": "ipython",
    "version": 3
   },
   "file_extension": ".py",
   "mimetype": "text/x-python",
   "name": "python",
   "nbconvert_exporter": "python",
   "pygments_lexer": "ipython3",
   "version": "3.6.5"
  }
 },
 "nbformat": 4,
 "nbformat_minor": 2
}
