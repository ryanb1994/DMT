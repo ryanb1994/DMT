{
 "cells": [
  {
   "cell_type": "code",
   "execution_count": 1,
   "metadata": {},
   "outputs": [],
   "source": [
    "import numpy as np\n",
    "import pandas as pd\n",
    "\n",
    "df_train = pd.read_csv('train3.csv')\n",
    "df_train = df_train.drop('Unnamed: 0', axis = 1)"
   ]
  },
  {
   "cell_type": "code",
   "execution_count": 2,
   "metadata": {},
   "outputs": [],
   "source": [
    "df_test = pd.read_csv('test3.csv')\n",
    "df_test = df_test.drop('Unnamed: 0', axis = 1)"
   ]
  },
  {
   "cell_type": "code",
   "execution_count": 3,
   "metadata": {},
   "outputs": [],
   "source": [
    "df_target = pd.read_csv('target3.csv')\n",
    "df_target = df_target.drop('Unnamed: 0', axis = 1)"
   ]
  },
  {
   "cell_type": "code",
   "execution_count": 7,
   "metadata": {},
   "outputs": [],
   "source": [
    "df_train['prop_starrating'] = np.zeros(len(df_train))\n",
    "df_train['prop_starrating'] = pd.read_csv('train.csv', usecols=['prop_starrating'])"
   ]
  },
  {
   "cell_type": "code",
   "execution_count": 8,
   "metadata": {},
   "outputs": [],
   "source": [
    "df_test['prop_starrating'] = np.zeros(len(df_test))\n",
    "df_train['prop_starrating'] = pd.read_csv('test_set_VU_DM_2014.csv', usecols=['prop_starrating'])"
   ]
  },
  {
   "cell_type": "code",
   "execution_count": 9,
   "metadata": {},
   "outputs": [],
   "source": [
    "data_train = df_train[['prop_country_id',\n",
    " 'year',\n",
    " 'month',\n",
    " 'prop_score',\n",
    " 'prop_location_score1',\n",
    " 'prop_location_score2',\n",
    " 'diff_hist_price',\n",
    " 'usd_diff',\n",
    " 'prop_id',\n",
    " 'star_diff',\n",
    " 'srch_query_affinity_score',\n",
    " 'orig_destination_distance',\n",
    " 'prop_brand_bool',\n",
    " 'prop_review_score',\n",
    " 'price_rank',\n",
    " 'stars_rank',\n",
    " 'score_rank',\n",
    " 'price_per_pers',\n",
    " 'prop_starrating',\n",
    " 'random_bool',\n",
    " 'price_usd',\n",
    " 'total_price',\n",
    " 'nr_pers',\n",
    " 'prop_id_counts',\n",
    " 'comp2_rate',\n",
    " 'comp5_rate',\n",
    " 'comp8_rate']]\n",
    "\n",
    "data_test = df_test[['prop_country_id',\n",
    " 'year',\n",
    " 'month',\n",
    " 'prop_score',\n",
    " 'prop_location_score1',\n",
    " 'prop_location_score2',\n",
    " 'diff_hist_price',\n",
    " 'usd_diff',\n",
    " 'prop_id',\n",
    " 'star_diff',\n",
    " 'srch_query_affinity_score',\n",
    " 'orig_destination_distance',\n",
    " 'prop_brand_bool',\n",
    " 'prop_review_score',\n",
    " 'price_rank',\n",
    " 'stars_rank',\n",
    " 'score_rank',\n",
    " 'price_per_pers',\n",
    " 'prop_starrating',\n",
    " 'random_bool',\n",
    " 'price_usd',\n",
    " 'total_price',\n",
    " 'nr_pers',\n",
    " 'prop_id_counts',\n",
    " 'comp2_rate',\n",
    " 'comp5_rate',\n",
    " 'comp8_rate',\n",
    "  ]]"
   ]
  },
  {
   "cell_type": "code",
   "execution_count": 10,
   "metadata": {},
   "outputs": [],
   "source": [
    "from sklearn.neighbors import KNeighborsClassifier"
   ]
  },
  {
   "cell_type": "code",
   "execution_count": null,
   "metadata": {},
   "outputs": [],
   "source": [
    "knn = KNeighborsClassifier(n_neighbors=2)\n",
    "knn.fit(data_train, target)\n",
    "target_predict = knn.predict(data_test)"
   ]
  },
  {
   "cell_type": "code",
   "execution_count": null,
   "metadata": {},
   "outputs": [],
   "source": [
    "predicted_position = []\n",
    "predicted_rank = []\n",
    "for i in range(0, len(predicted_value)):\n",
    "    predicted_position.append(target_predict[i][0])\n",
    "    predicted_rank.append(target_predict[i][1])"
   ]
  }
 ],
 "metadata": {
  "kernelspec": {
   "display_name": "Python 2",
   "language": "python",
   "name": "python2"
  },
  "language_info": {
   "codemirror_mode": {
    "name": "ipython",
    "version": 2
   },
   "file_extension": ".py",
   "mimetype": "text/x-python",
   "name": "python",
   "nbconvert_exporter": "python",
   "pygments_lexer": "ipython2",
   "version": "2.7.14"
  }
 },
 "nbformat": 4,
 "nbformat_minor": 2
}
